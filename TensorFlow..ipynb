{
 "cells": [
  {
   "cell_type": "code",
   "execution_count": 12,
   "metadata": {},
   "outputs": [],
   "source": [
    "import tensorflow.compat.v1 as tf\n",
    "tf.disable_v2_behavior()"
   ]
  },
  {
   "cell_type": "code",
   "execution_count": 13,
   "metadata": {},
   "outputs": [
    {
     "name": "stdout",
     "output_type": "stream",
     "text": [
      "2.2.0\n"
     ]
    }
   ],
   "source": [
    "print(tf.__version__)"
   ]
  },
  {
   "cell_type": "code",
   "execution_count": 14,
   "metadata": {},
   "outputs": [],
   "source": [
    "hello = tf.constant(\"Hello\")"
   ]
  },
  {
   "cell_type": "code",
   "execution_count": 15,
   "metadata": {},
   "outputs": [],
   "source": [
    "world = tf.constant(\"World\")"
   ]
  },
  {
   "cell_type": "code",
   "execution_count": 16,
   "metadata": {},
   "outputs": [
    {
     "data": {
      "text/plain": [
       "tensorflow.python.framework.ops.Tensor"
      ]
     },
     "execution_count": 16,
     "metadata": {},
     "output_type": "execute_result"
    }
   ],
   "source": [
    "type(hello)"
   ]
  },
  {
   "cell_type": "code",
   "execution_count": 17,
   "metadata": {},
   "outputs": [
    {
     "name": "stdout",
     "output_type": "stream",
     "text": [
      "Tensor(\"Const:0\", shape=(), dtype=string)\n"
     ]
    }
   ],
   "source": [
    "print(hello)"
   ]
  },
  {
   "cell_type": "code",
   "execution_count": 18,
   "metadata": {},
   "outputs": [],
   "source": [
    "with tf.Session() as sess:\n",
    "    \n",
    "    result = sess.run(hello+world)"
   ]
  },
  {
   "cell_type": "code",
   "execution_count": 20,
   "metadata": {},
   "outputs": [
    {
     "name": "stdout",
     "output_type": "stream",
     "text": [
      "b'HelloWorld'\n"
     ]
    }
   ],
   "source": [
    "print(result)"
   ]
  },
  {
   "cell_type": "code",
   "execution_count": 21,
   "metadata": {},
   "outputs": [],
   "source": [
    "a = tf.constant(10)"
   ]
  },
  {
   "cell_type": "code",
   "execution_count": 22,
   "metadata": {},
   "outputs": [],
   "source": [
    "b = tf.constant(20)"
   ]
  },
  {
   "cell_type": "code",
   "execution_count": 23,
   "metadata": {},
   "outputs": [
    {
     "data": {
      "text/plain": [
       "tensorflow.python.framework.ops.Tensor"
      ]
     },
     "execution_count": 23,
     "metadata": {},
     "output_type": "execute_result"
    }
   ],
   "source": [
    "type(a)"
   ]
  },
  {
   "cell_type": "code",
   "execution_count": 24,
   "metadata": {},
   "outputs": [
    {
     "data": {
      "text/plain": [
       "<tf.Tensor 'add_1:0' shape=() dtype=int32>"
      ]
     },
     "execution_count": 24,
     "metadata": {},
     "output_type": "execute_result"
    }
   ],
   "source": [
    "a +b "
   ]
  },
  {
   "cell_type": "code",
   "execution_count": 25,
   "metadata": {},
   "outputs": [
    {
     "data": {
      "text/plain": [
       "<tf.Tensor 'add_2:0' shape=() dtype=int32>"
      ]
     },
     "execution_count": 25,
     "metadata": {},
     "output_type": "execute_result"
    }
   ],
   "source": [
    "a +b "
   ]
  },
  {
   "cell_type": "code",
   "execution_count": 26,
   "metadata": {},
   "outputs": [
    {
     "data": {
      "text/plain": [
       "<tf.Tensor 'add_3:0' shape=() dtype=int32>"
      ]
     },
     "execution_count": 26,
     "metadata": {},
     "output_type": "execute_result"
    }
   ],
   "source": [
    "a +b "
   ]
  },
  {
   "cell_type": "code",
   "execution_count": 27,
   "metadata": {},
   "outputs": [],
   "source": [
    "with tf.Session() as sess:\n",
    "    \n",
    "    result = sess.run(a+b)"
   ]
  },
  {
   "cell_type": "code",
   "execution_count": 28,
   "metadata": {},
   "outputs": [
    {
     "data": {
      "text/plain": [
       "30"
      ]
     },
     "execution_count": 28,
     "metadata": {},
     "output_type": "execute_result"
    }
   ],
   "source": [
    "result"
   ]
  },
  {
   "cell_type": "code",
   "execution_count": 29,
   "metadata": {},
   "outputs": [],
   "source": [
    "const = tf.constant(10)"
   ]
  },
  {
   "cell_type": "code",
   "execution_count": 30,
   "metadata": {},
   "outputs": [],
   "source": [
    "fill_mat = tf.fill((4,4),(10))"
   ]
  },
  {
   "cell_type": "code",
   "execution_count": 31,
   "metadata": {},
   "outputs": [],
   "source": [
    "myzeros = tf.zeros((4,4))"
   ]
  },
  {
   "cell_type": "code",
   "execution_count": 32,
   "metadata": {},
   "outputs": [],
   "source": [
    "myones = tf.ones((4,4))"
   ]
  },
  {
   "cell_type": "code",
   "execution_count": 33,
   "metadata": {},
   "outputs": [],
   "source": [
    "myrandn = tf.random_normal((4,4), mean=0,stddev=1.0)"
   ]
  },
  {
   "cell_type": "code",
   "execution_count": 34,
   "metadata": {},
   "outputs": [],
   "source": [
    "myrandu = tf.random_uniform((4,4), minval=0, maxval=1)"
   ]
  },
  {
   "cell_type": "code",
   "execution_count": null,
   "metadata": {},
   "outputs": [],
   "source": []
  },
  {
   "cell_type": "code",
   "execution_count": 35,
   "metadata": {},
   "outputs": [],
   "source": [
    "my_ops = [const, fill_mat, myzeros, myones, myrandn, myrandu]"
   ]
  },
  {
   "cell_type": "code",
   "execution_count": 36,
   "metadata": {},
   "outputs": [],
   "source": [
    "sess = tf.InteractiveSession()"
   ]
  },
  {
   "cell_type": "code",
   "execution_count": 38,
   "metadata": {},
   "outputs": [
    {
     "name": "stdout",
     "output_type": "stream",
     "text": [
      "10\n",
      "\n",
      "\n",
      "[[10 10 10 10]\n",
      " [10 10 10 10]\n",
      " [10 10 10 10]\n",
      " [10 10 10 10]]\n",
      "\n",
      "\n",
      "[[0. 0. 0. 0.]\n",
      " [0. 0. 0. 0.]\n",
      " [0. 0. 0. 0.]\n",
      " [0. 0. 0. 0.]]\n",
      "\n",
      "\n",
      "[[1. 1. 1. 1.]\n",
      " [1. 1. 1. 1.]\n",
      " [1. 1. 1. 1.]\n",
      " [1. 1. 1. 1.]]\n",
      "\n",
      "\n",
      "[[-0.7158391  -1.8467358  -0.03300748 -0.08216733]\n",
      " [-1.624718   -1.0022266   0.352679    0.20354864]\n",
      " [ 1.156608    0.08066223 -1.7703993   0.47150266]\n",
      " [ 0.34966618  0.53491676  0.4867152   1.7187556 ]]\n",
      "\n",
      "\n",
      "[[0.43014622 0.9354042  0.4723146  0.33388352]\n",
      " [0.29428422 0.354908   0.7554555  0.7030523 ]\n",
      " [0.17135465 0.75108373 0.99735284 0.17499912]\n",
      " [0.70408607 0.27145314 0.2178061  0.91465557]]\n",
      "\n",
      "\n"
     ]
    }
   ],
   "source": [
    "for op in my_ops:\n",
    "    print(sess.run(op))\n",
    "    print('\\n')"
   ]
  },
  {
   "cell_type": "code",
   "execution_count": 39,
   "metadata": {},
   "outputs": [],
   "source": [
    "a = tf.constant([[1,2] ,                    \n",
    "                 [3,4]])"
   ]
  },
  {
   "cell_type": "code",
   "execution_count": 40,
   "metadata": {},
   "outputs": [
    {
     "data": {
      "text/plain": [
       "TensorShape([Dimension(2), Dimension(2)])"
      ]
     },
     "execution_count": 40,
     "metadata": {},
     "output_type": "execute_result"
    }
   ],
   "source": [
    "a.get_shape()"
   ]
  },
  {
   "cell_type": "code",
   "execution_count": 42,
   "metadata": {},
   "outputs": [],
   "source": [
    "b = tf.constant([[10],[100]])"
   ]
  },
  {
   "cell_type": "code",
   "execution_count": 43,
   "metadata": {},
   "outputs": [
    {
     "data": {
      "text/plain": [
       "TensorShape([Dimension(2), Dimension(1)])"
      ]
     },
     "execution_count": 43,
     "metadata": {},
     "output_type": "execute_result"
    }
   ],
   "source": [
    "b.get_shape()"
   ]
  },
  {
   "cell_type": "code",
   "execution_count": 44,
   "metadata": {},
   "outputs": [],
   "source": [
    "result = tf.matmul(a,b)"
   ]
  },
  {
   "cell_type": "code",
   "execution_count": 45,
   "metadata": {},
   "outputs": [
    {
     "data": {
      "text/plain": [
       "array([[210],\n",
       "       [430]])"
      ]
     },
     "execution_count": 45,
     "metadata": {},
     "output_type": "execute_result"
    }
   ],
   "source": [
    "sess.run(result)"
   ]
  },
  {
   "cell_type": "code",
   "execution_count": 46,
   "metadata": {},
   "outputs": [
    {
     "data": {
      "text/plain": [
       "array([[210],\n",
       "       [430]])"
      ]
     },
     "execution_count": 46,
     "metadata": {},
     "output_type": "execute_result"
    }
   ],
   "source": [
    "result.eval()"
   ]
  },
  {
   "cell_type": "code",
   "execution_count": null,
   "metadata": {},
   "outputs": [],
   "source": [
    "#TF Graphs"
   ]
  },
  {
   "cell_type": "code",
   "execution_count": 89,
   "metadata": {},
   "outputs": [],
   "source": [
    "import tensorflow.compat.v1 as tf\n",
    "tf.disable_v2_behavior()"
   ]
  },
  {
   "cell_type": "code",
   "execution_count": 57,
   "metadata": {},
   "outputs": [],
   "source": [
    "n1 = tf.constant(1)"
   ]
  },
  {
   "cell_type": "code",
   "execution_count": 58,
   "metadata": {},
   "outputs": [],
   "source": [
    "n2 = tf.constant(2)"
   ]
  },
  {
   "cell_type": "code",
   "execution_count": 59,
   "metadata": {},
   "outputs": [],
   "source": [
    "n3 = n1 + n2"
   ]
  },
  {
   "cell_type": "code",
   "execution_count": 61,
   "metadata": {},
   "outputs": [],
   "source": [
    "with tf.Session() as sess:\n",
    "    result = sess.run(n3) "
   ]
  },
  {
   "cell_type": "code",
   "execution_count": 62,
   "metadata": {},
   "outputs": [
    {
     "name": "stdout",
     "output_type": "stream",
     "text": [
      "3\n"
     ]
    }
   ],
   "source": [
    "print(result)"
   ]
  },
  {
   "cell_type": "code",
   "execution_count": 63,
   "metadata": {},
   "outputs": [
    {
     "name": "stdout",
     "output_type": "stream",
     "text": [
      "Tensor(\"add_6:0\", shape=(), dtype=int32)\n"
     ]
    }
   ],
   "source": [
    "print(n3)"
   ]
  },
  {
   "cell_type": "code",
   "execution_count": 64,
   "metadata": {},
   "outputs": [
    {
     "name": "stdout",
     "output_type": "stream",
     "text": [
      "<tensorflow.python.framework.ops.Graph object at 0x00000220F9E5FD48>\n"
     ]
    }
   ],
   "source": [
    "print(tf.get_default_graph())"
   ]
  },
  {
   "cell_type": "code",
   "execution_count": 65,
   "metadata": {},
   "outputs": [],
   "source": [
    "g = tf.Graph()"
   ]
  },
  {
   "cell_type": "code",
   "execution_count": 66,
   "metadata": {},
   "outputs": [
    {
     "name": "stdout",
     "output_type": "stream",
     "text": [
      "<tensorflow.python.framework.ops.Graph object at 0x00000220F9E92148>\n"
     ]
    }
   ],
   "source": [
    "print(g)"
   ]
  },
  {
   "cell_type": "code",
   "execution_count": 67,
   "metadata": {},
   "outputs": [],
   "source": [
    "graph_one = tf.get_default_graph()"
   ]
  },
  {
   "cell_type": "code",
   "execution_count": 68,
   "metadata": {},
   "outputs": [
    {
     "name": "stdout",
     "output_type": "stream",
     "text": [
      "<tensorflow.python.framework.ops.Graph object at 0x00000220F9E5FD48>\n"
     ]
    }
   ],
   "source": [
    "print(graph_one)"
   ]
  },
  {
   "cell_type": "code",
   "execution_count": 69,
   "metadata": {},
   "outputs": [],
   "source": [
    "graph_two = tf.Graph()"
   ]
  },
  {
   "cell_type": "code",
   "execution_count": 70,
   "metadata": {},
   "outputs": [
    {
     "name": "stdout",
     "output_type": "stream",
     "text": [
      "<tensorflow.python.framework.ops.Graph object at 0x00000220F9E9D6C8>\n"
     ]
    }
   ],
   "source": [
    "print(graph_two)"
   ]
  },
  {
   "cell_type": "code",
   "execution_count": 71,
   "metadata": {},
   "outputs": [
    {
     "name": "stdout",
     "output_type": "stream",
     "text": [
      "True\n"
     ]
    }
   ],
   "source": [
    "with graph_two.as_default():\n",
    "    print(graph_two is tf.get_default_graph()) "
   ]
  },
  {
   "cell_type": "code",
   "execution_count": 72,
   "metadata": {},
   "outputs": [
    {
     "name": "stdout",
     "output_type": "stream",
     "text": [
      "False\n"
     ]
    }
   ],
   "source": [
    " print(graph_two is tf.get_default_graph()) "
   ]
  },
  {
   "cell_type": "code",
   "execution_count": 73,
   "metadata": {},
   "outputs": [],
   "source": [
    "#Variables and Placeholders"
   ]
  },
  {
   "cell_type": "code",
   "execution_count": 87,
   "metadata": {},
   "outputs": [],
   "source": [
    "import tensorflow.compat.v1 as tf\n",
    "tf.disable_v2_behavior()"
   ]
  },
  {
   "cell_type": "code",
   "execution_count": 75,
   "metadata": {},
   "outputs": [
    {
     "name": "stderr",
     "output_type": "stream",
     "text": [
      "C:\\Users\\manzu\\anaconda3\\envs\\tfdeeplearning\\lib\\site-packages\\tensorflow\\python\\client\\session.py:1751: UserWarning: An interactive session is already active. This can cause out-of-memory errors in some cases. You must explicitly call `InteractiveSession.close()` to release resources held by the other session(s).\n",
      "  warnings.warn('An interactive session is already active. This can '\n"
     ]
    }
   ],
   "source": [
    "sess = tf.InteractiveSession()"
   ]
  },
  {
   "cell_type": "code",
   "execution_count": 77,
   "metadata": {},
   "outputs": [],
   "source": [
    "my_tensor = tf.random_uniform((4,4),0,1)"
   ]
  },
  {
   "cell_type": "code",
   "execution_count": 78,
   "metadata": {},
   "outputs": [
    {
     "data": {
      "text/plain": [
       "<tf.Tensor 'random_uniform_1/RandomUniform:0' shape=(4, 4) dtype=float32>"
      ]
     },
     "execution_count": 78,
     "metadata": {},
     "output_type": "execute_result"
    }
   ],
   "source": [
    "my_tensor"
   ]
  },
  {
   "cell_type": "code",
   "execution_count": 79,
   "metadata": {},
   "outputs": [],
   "source": [
    "my_var = tf.Variable(initial_value=my_tensor)"
   ]
  },
  {
   "cell_type": "code",
   "execution_count": 80,
   "metadata": {},
   "outputs": [
    {
     "name": "stdout",
     "output_type": "stream",
     "text": [
      "<tf.Variable 'Variable:0' shape=(4, 4) dtype=float32_ref>\n"
     ]
    }
   ],
   "source": [
    "print(my_var)"
   ]
  },
  {
   "cell_type": "code",
   "execution_count": 88,
   "metadata": {},
   "outputs": [],
   "source": [
    "init = tf.global_variables_initializer()"
   ]
  },
  {
   "cell_type": "code",
   "execution_count": 90,
   "metadata": {},
   "outputs": [],
   "source": [
    "sess.run(init)"
   ]
  },
  {
   "cell_type": "code",
   "execution_count": 91,
   "metadata": {},
   "outputs": [
    {
     "data": {
      "text/plain": [
       "array([[0.8154149 , 0.89360726, 0.8322046 , 0.60589087],\n",
       "       [0.8236449 , 0.9643209 , 0.9636433 , 0.00622165],\n",
       "       [0.04759336, 0.82066715, 0.9155774 , 0.10085309],\n",
       "       [0.63552547, 0.47661352, 0.06269991, 0.58683014]], dtype=float32)"
      ]
     },
     "execution_count": 91,
     "metadata": {},
     "output_type": "execute_result"
    }
   ],
   "source": [
    "sess.run(my_var)"
   ]
  },
  {
   "cell_type": "code",
   "execution_count": 92,
   "metadata": {},
   "outputs": [],
   "source": [
    "ph = tf.placeholder(tf.float32, shape=(None,5))"
   ]
  },
  {
   "cell_type": "code",
   "execution_count": 93,
   "metadata": {},
   "outputs": [],
   "source": [
    "#Tensorflow A Neural Network Pat One"
   ]
  },
  {
   "cell_type": "code",
   "execution_count": 156,
   "metadata": {},
   "outputs": [],
   "source": [
    "import numpy as np\n",
    "import tensorflow.compat.v1 as tf\n",
    "tf.disable_v2_behavior()"
   ]
  },
  {
   "cell_type": "code",
   "execution_count": 98,
   "metadata": {},
   "outputs": [],
   "source": [
    "np.random.seed(101)\n",
    "tf.set_random_seed(101)"
   ]
  },
  {
   "cell_type": "code",
   "execution_count": 101,
   "metadata": {},
   "outputs": [
    {
     "data": {
      "text/plain": [
       "array([[99.43179012, 52.06653967, 57.87895355, 73.48190583, 54.19617722],\n",
       "       [91.31535577, 80.7920151 , 40.29978307, 35.72243428, 95.28767147],\n",
       "       [34.36315779, 86.50998163, 83.02777122, 53.81614492, 92.24693726],\n",
       "       [ 9.71464798, 10.28474932, 70.15072957, 89.04798691, 15.95603009],\n",
       "       [27.55725449, 67.24915297, 16.4303124 , 70.13711366, 48.76352222]])"
      ]
     },
     "execution_count": 101,
     "metadata": {},
     "output_type": "execute_result"
    }
   ],
   "source": [
    "rand_a = np.random.uniform(0,100,(5,5))\n",
    "rand_a"
   ]
  },
  {
   "cell_type": "code",
   "execution_count": 102,
   "metadata": {},
   "outputs": [
    {
     "data": {
      "text/plain": [
       "array([[68.06777682],\n",
       "       [52.15481923],\n",
       "       [ 4.33966944],\n",
       "       [22.39366035],\n",
       "       [57.52050869]])"
      ]
     },
     "execution_count": 102,
     "metadata": {},
     "output_type": "execute_result"
    }
   ],
   "source": [
    "rand_b = np.random.uniform(0,100,(5,1))\n",
    "rand_b"
   ]
  },
  {
   "cell_type": "code",
   "execution_count": 103,
   "metadata": {},
   "outputs": [],
   "source": [
    "a = tf.placeholder(tf.float32)"
   ]
  },
  {
   "cell_type": "code",
   "execution_count": 104,
   "metadata": {},
   "outputs": [],
   "source": [
    "b = tf.placeholder(tf.float32)"
   ]
  },
  {
   "cell_type": "code",
   "execution_count": 105,
   "metadata": {},
   "outputs": [],
   "source": [
    "add_op = a+b"
   ]
  },
  {
   "cell_type": "code",
   "execution_count": 106,
   "metadata": {},
   "outputs": [],
   "source": [
    "mul_op = a * b"
   ]
  },
  {
   "cell_type": "code",
   "execution_count": 113,
   "metadata": {},
   "outputs": [
    {
     "name": "stdout",
     "output_type": "stream",
     "text": [
      "[[167.49957  120.13432  125.94673  141.54968  122.26396 ]\n",
      " [143.47017  132.94684   92.454605  87.87726  147.44249 ]\n",
      " [ 38.702827  90.84965   87.36744   58.15581   96.58661 ]\n",
      " [ 32.108307  32.67841   92.54439  111.44165   38.34969 ]\n",
      " [ 85.07776  124.76966   73.95082  127.65762  106.28403 ]]\n",
      "\n",
      "\n",
      "[[6768.1016  3544.0537  3939.6917  5001.75    3689.0134 ]\n",
      " [4762.5356  4213.693   2101.828   1863.0972  4969.7114 ]\n",
      " [ 149.12474  375.42468  360.31305  233.54427  400.3212 ]\n",
      " [ 217.54652  230.31317 1570.9315  1994.1104   357.3139 ]\n",
      " [1585.1073  3868.2053   945.07996 4034.3225  2804.9026 ]]\n"
     ]
    }
   ],
   "source": [
    "with tf.Session() as sess:\n",
    "    \n",
    "    add_result = sess.run(add_op,feed_dict={a:rand_a,b:rand_b})\n",
    "    print(add_result)\n",
    "    print('\\n')\n",
    "    mult_result = sess.run(mul_op,feed_dict={a:rand_a,b:rand_b})\n",
    "    print(mult_result)"
   ]
  },
  {
   "cell_type": "code",
   "execution_count": 114,
   "metadata": {},
   "outputs": [],
   "source": [
    "#Tensorflow A Neural Network Part Two"
   ]
  },
  {
   "cell_type": "code",
   "execution_count": 115,
   "metadata": {},
   "outputs": [],
   "source": [
    "n_features = 10\n",
    "n_dense_neurons = 3"
   ]
  },
  {
   "cell_type": "code",
   "execution_count": 116,
   "metadata": {},
   "outputs": [],
   "source": [
    "x = tf.placeholder(tf.float32,(None,n_features))"
   ]
  },
  {
   "cell_type": "code",
   "execution_count": 127,
   "metadata": {},
   "outputs": [],
   "source": [
    "W = tf.Variable(tf.random.normal([n_features,n_dense_neurons]))\n",
    "\n",
    "b = tf.Variable(tf.ones([n_dense_neurons]))"
   ]
  },
  {
   "cell_type": "code",
   "execution_count": 128,
   "metadata": {},
   "outputs": [],
   "source": [
    "xW = tf.matmul(x,W)"
   ]
  },
  {
   "cell_type": "code",
   "execution_count": 129,
   "metadata": {},
   "outputs": [],
   "source": [
    "z = tf.add(xW,b)"
   ]
  },
  {
   "cell_type": "code",
   "execution_count": 130,
   "metadata": {},
   "outputs": [],
   "source": [
    "a = tf.sigmoid(z)"
   ]
  },
  {
   "cell_type": "code",
   "execution_count": 131,
   "metadata": {},
   "outputs": [],
   "source": [
    "init =tf.global_variables_initializer()"
   ]
  },
  {
   "cell_type": "code",
   "execution_count": 133,
   "metadata": {},
   "outputs": [],
   "source": [
    "with tf.Session() as sess:\n",
    "    \n",
    "    sess.run(init)\n",
    "    \n",
    "    layer_out = sess.run(a,feed_dict={x:np.random.random([1,n_features])})"
   ]
  },
  {
   "cell_type": "code",
   "execution_count": 134,
   "metadata": {},
   "outputs": [
    {
     "name": "stdout",
     "output_type": "stream",
     "text": [
      "[[0.96422553 0.9512317  0.83848053]]\n"
     ]
    }
   ],
   "source": [
    "print(layer_out)"
   ]
  },
  {
   "cell_type": "code",
   "execution_count": 135,
   "metadata": {},
   "outputs": [],
   "source": [
    "#Simple Regression Example"
   ]
  },
  {
   "cell_type": "code",
   "execution_count": 136,
   "metadata": {},
   "outputs": [],
   "source": [
    "x_data = np.linspace(0,10,10) + np.random.uniform(-1.5,1.5,10)"
   ]
  },
  {
   "cell_type": "code",
   "execution_count": 137,
   "metadata": {},
   "outputs": [
    {
     "data": {
      "text/plain": [
       "array([-0.8725155 ,  1.59088467,  2.31109242,  4.07889444,  3.22571501,\n",
       "        6.40912111,  7.22839278,  8.36301327,  8.87948845, 11.42608338])"
      ]
     },
     "execution_count": 137,
     "metadata": {},
     "output_type": "execute_result"
    }
   ],
   "source": [
    "x_data"
   ]
  },
  {
   "cell_type": "code",
   "execution_count": 138,
   "metadata": {},
   "outputs": [],
   "source": [
    "y_label = np.linspace(0,10,10) + np.random.uniform(-1.5,1.5,10)"
   ]
  },
  {
   "cell_type": "code",
   "execution_count": 139,
   "metadata": {},
   "outputs": [
    {
     "data": {
      "text/plain": [
       "array([-0.88941714,  0.50817234,  1.4051899 ,  1.97783999,  5.65635852,\n",
       "        4.29586617,  6.98831548,  8.17031789,  8.52271468,  8.53972303])"
      ]
     },
     "execution_count": 139,
     "metadata": {},
     "output_type": "execute_result"
    }
   ],
   "source": [
    "y_label"
   ]
  },
  {
   "cell_type": "code",
   "execution_count": 140,
   "metadata": {},
   "outputs": [],
   "source": [
    "import matplotlib.pyplot as plt\n",
    "%matplotlib inline"
   ]
  },
  {
   "cell_type": "code",
   "execution_count": 141,
   "metadata": {},
   "outputs": [
    {
     "data": {
      "text/plain": [
       "[<matplotlib.lines.Line2D at 0x220fcddcf48>]"
      ]
     },
     "execution_count": 141,
     "metadata": {},
     "output_type": "execute_result"
    },
    {
     "data": {
      "image/png": "[encoded data removed]",
      "text/plain": [
       "<Figure size 432x288 with 1 Axes>"
      ]
     },
     "metadata": {
      "needs_background": "light"
     },
     "output_type": "display_data"
    }
   ],
   "source": [
    "plt.plot(x_data,y_label,'*')"
   ]
  },
  {
   "cell_type": "code",
   "execution_count": 142,
   "metadata": {},
   "outputs": [
    {
     "data": {
      "text/plain": [
       "array([0.84221941, 0.38493775])"
      ]
     },
     "execution_count": 142,
     "metadata": {},
     "output_type": "execute_result"
    }
   ],
   "source": [
    "np.random.rand(2)"
   ]
  },
  {
   "cell_type": "code",
   "execution_count": 143,
   "metadata": {},
   "outputs": [],
   "source": [
    "m = tf.Variable(0.84)\n",
    "b = tf.Variable(0.38)"
   ]
  },
  {
   "cell_type": "code",
   "execution_count": 145,
   "metadata": {},
   "outputs": [],
   "source": [
    "error = 0\n",
    "\n",
    "for x,y in zip(x_data,y_label):\n",
    "    \n",
    "    y_hat = m*x +b\n",
    "    \n",
    "    error += (y-y_hat)**2"
   ]
  },
  {
   "cell_type": "code",
   "execution_count": 146,
   "metadata": {},
   "outputs": [],
   "source": [
    "optimizer = tf.train.GradientDescentOptimizer(learning_rate=0.001)\n",
    "train = optimizer.minimize(error)"
   ]
  },
  {
   "cell_type": "code",
   "execution_count": 147,
   "metadata": {},
   "outputs": [],
   "source": [
    "init = tf.global_variables_initializer()"
   ]
  },
  {
   "cell_type": "code",
   "execution_count": 151,
   "metadata": {},
   "outputs": [],
   "source": [
    "with tf.Session() as sess:\n",
    "    \n",
    "    sess.run(init)\n",
    "    \n",
    "    training_steps = 100\n",
    "    \n",
    "    for i in range(training_steps):\n",
    "        \n",
    "        sess.run(train)\n",
    "        \n",
    "    final_slope, final_intercept = sess.run([m,b])"
   ]
  },
  {
   "cell_type": "code",
   "execution_count": 152,
   "metadata": {},
   "outputs": [
    {
     "data": {
      "text/plain": [
       "[<matplotlib.lines.Line2D at 0x220fdf4c248>]"
      ]
     },
     "execution_count": 152,
     "metadata": {},
     "output_type": "execute_result"
    },
    {
     "data": {
      "image/png": "[encoded data removed]",
      "text/plain": [
       "<Figure size 432x288 with 1 Axes>"
      ]
     },
     "metadata": {
      "needs_background": "light"
     },
     "output_type": "display_data"
    }
   ],
   "source": [
    "x_test = np.linspace(-1,11,10)\n",
    "\n",
    "#y= mx+b\n",
    "y_pred_plot = final_slope*x_test + final_intercept\n",
    "\n",
    "plt.plot(x_test,y_pred_plot,'r')\n",
    "plt.plot(x_data,y_label,'*')"
   ]
  },
  {
   "cell_type": "code",
   "execution_count": 153,
   "metadata": {},
   "outputs": [],
   "source": [
    "#Tensorflow Regression Example Part One"
   ]
  },
  {
   "cell_type": "code",
   "execution_count": 154,
   "metadata": {},
   "outputs": [],
   "source": [
    "import numpy as np\n",
    "import pandas as pd\n",
    "import matplotlib.pyplot as plt\n",
    "%matplotlib inline"
   ]
  },
  {
   "cell_type": "code",
   "execution_count": 158,
   "metadata": {},
   "outputs": [],
   "source": [
    "import tensorflow.compat.v1 as tf\n",
    "tf.disable_v2_behavior()"
   ]
  },
  {
   "cell_type": "code",
   "execution_count": 159,
   "metadata": {},
   "outputs": [],
   "source": [
    "x_data = np.linspace(0.0,10.0,1000000)"
   ]
  },
  {
   "cell_type": "code",
   "execution_count": 160,
   "metadata": {},
   "outputs": [],
   "source": [
    "noise = np.random.randn(len(x_data))"
   ]
  },
  {
   "cell_type": "code",
   "execution_count": 161,
   "metadata": {},
   "outputs": [
    {
     "data": {
      "text/plain": [
       "array([1.77565169, 0.43574312, 1.19499883, ..., 0.27527183, 1.77747315,\n",
       "       1.0355568 ])"
      ]
     },
     "execution_count": 161,
     "metadata": {},
     "output_type": "execute_result"
    }
   ],
   "source": [
    "noise"
   ]
  },
  {
   "cell_type": "code",
   "execution_count": 163,
   "metadata": {},
   "outputs": [],
   "source": [
    "#y=mx+b\n",
    "#b=5"
   ]
  },
  {
   "cell_type": "code",
   "execution_count": 164,
   "metadata": {},
   "outputs": [],
   "source": [
    "y_true = (0.5 * x_data) + 5 + noise"
   ]
  },
  {
   "cell_type": "code",
   "execution_count": 165,
   "metadata": {},
   "outputs": [],
   "source": [
    "x_df = pd.DataFrame(data=x_data,columns=['X Data'])"
   ]
  },
  {
   "cell_type": "code",
   "execution_count": 168,
   "metadata": {},
   "outputs": [],
   "source": [
    "y_df = pd.DataFrame(data=y_true,columns=['Y'])"
   ]
  },
  {
   "cell_type": "code",
   "execution_count": 170,
   "metadata": {},
   "outputs": [
    {
     "data": {
      "text/html": [
       "<div>\n",
       "<style scoped>\n",
       "    .dataframe tbody tr th:only-of-type {\n",
       "        vertical-align: middle;\n",
       "    }\n",
       "\n",
       "    .dataframe tbody tr th {\n",
       "        vertical-align: top;\n",
       "    }\n",
       "\n",
       "    .dataframe thead th {\n",
       "        text-align: right;\n",
       "    }\n",
       "</style>\n",
       "<table border=\"1\" class=\"dataframe\">\n",
       "  <thead>\n",
       "    <tr style=\"text-align: right;\">\n",
       "      <th></th>\n",
       "      <th>Y</th>\n",
       "    </tr>\n",
       "  </thead>\n",
       "  <tbody>\n",
       "    <tr>\n",
       "      <th>0</th>\n",
       "      <td>6.775652</td>\n",
       "    </tr>\n",
       "    <tr>\n",
       "      <th>1</th>\n",
       "      <td>5.435748</td>\n",
       "    </tr>\n",
       "    <tr>\n",
       "      <th>2</th>\n",
       "      <td>6.195009</td>\n",
       "    </tr>\n",
       "    <tr>\n",
       "      <th>3</th>\n",
       "      <td>6.076562</td>\n",
       "    </tr>\n",
       "    <tr>\n",
       "      <th>4</th>\n",
       "      <td>4.018250</td>\n",
       "    </tr>\n",
       "  </tbody>\n",
       "</table>\n",
       "</div>"
      ],
      "text/plain": [
       "          Y\n",
       "0  6.775652\n",
       "1  5.435748\n",
       "2  6.195009\n",
       "3  6.076562\n",
       "4  4.018250"
      ]
     },
     "execution_count": 170,
     "metadata": {},
     "output_type": "execute_result"
    }
   ],
   "source": [
    "y_df.head()"
   ]
  },
  {
   "cell_type": "code",
   "execution_count": 171,
   "metadata": {},
   "outputs": [],
   "source": [
    "my_data = pd.concat([x_df,y_df],axis=1)"
   ]
  },
  {
   "cell_type": "code",
   "execution_count": 173,
   "metadata": {},
   "outputs": [
    {
     "data": {
      "text/html": [
       "<div>\n",
       "<style scoped>\n",
       "    .dataframe tbody tr th:only-of-type {\n",
       "        vertical-align: middle;\n",
       "    }\n",
       "\n",
       "    .dataframe tbody tr th {\n",
       "        vertical-align: top;\n",
       "    }\n",
       "\n",
       "    .dataframe thead th {\n",
       "        text-align: right;\n",
       "    }\n",
       "</style>\n",
       "<table border=\"1\" class=\"dataframe\">\n",
       "  <thead>\n",
       "    <tr style=\"text-align: right;\">\n",
       "      <th></th>\n",
       "      <th>X Data</th>\n",
       "      <th>Y</th>\n",
       "    </tr>\n",
       "  </thead>\n",
       "  <tbody>\n",
       "    <tr>\n",
       "      <th>0</th>\n",
       "      <td>0.00000</td>\n",
       "      <td>6.775652</td>\n",
       "    </tr>\n",
       "    <tr>\n",
       "      <th>1</th>\n",
       "      <td>0.00001</td>\n",
       "      <td>5.435748</td>\n",
       "    </tr>\n",
       "    <tr>\n",
       "      <th>2</th>\n",
       "      <td>0.00002</td>\n",
       "      <td>6.195009</td>\n",
       "    </tr>\n",
       "    <tr>\n",
       "      <th>3</th>\n",
       "      <td>0.00003</td>\n",
       "      <td>6.076562</td>\n",
       "    </tr>\n",
       "    <tr>\n",
       "      <th>4</th>\n",
       "      <td>0.00004</td>\n",
       "      <td>4.018250</td>\n",
       "    </tr>\n",
       "  </tbody>\n",
       "</table>\n",
       "</div>"
      ],
      "text/plain": [
       "    X Data         Y\n",
       "0  0.00000  6.775652\n",
       "1  0.00001  5.435748\n",
       "2  0.00002  6.195009\n",
       "3  0.00003  6.076562\n",
       "4  0.00004  4.018250"
      ]
     },
     "execution_count": 173,
     "metadata": {},
     "output_type": "execute_result"
    }
   ],
   "source": [
    "my_data.head()"
   ]
  },
  {
   "cell_type": "code",
   "execution_count": 175,
   "metadata": {},
   "outputs": [
    {
     "data": {
      "text/plain": [
       "<matplotlib.axes._subplots.AxesSubplot at 0x220fad21788>"
      ]
     },
     "execution_count": 175,
     "metadata": {},
     "output_type": "execute_result"
    },
    {
     "data": {
      "image/png": "[encoded data removed]",
      "text/plain": [
       "<Figure size 432x288 with 1 Axes>"
      ]
     },
     "metadata": {
      "needs_background": "light"
     },
     "output_type": "display_data"
    }
   ],
   "source": [
    "my_data.sample(n=250).plot(kind='scatter',x='X Data',y='Y')"
   ]
  },
  {
   "cell_type": "code",
   "execution_count": 176,
   "metadata": {},
   "outputs": [],
   "source": [
    "batch_size = 8"
   ]
  },
  {
   "cell_type": "code",
   "execution_count": 178,
   "metadata": {},
   "outputs": [
    {
     "data": {
      "text/plain": [
       "array([0.46369062, 0.38885032])"
      ]
     },
     "execution_count": 178,
     "metadata": {},
     "output_type": "execute_result"
    }
   ],
   "source": [
    "np.random.randn(2)"
   ]
  },
  {
   "cell_type": "code",
   "execution_count": 179,
   "metadata": {},
   "outputs": [],
   "source": [
    "m = tf.Variable(0.46)\n",
    "b = tf.Variable(0.38)"
   ]
  },
  {
   "cell_type": "code",
   "execution_count": 180,
   "metadata": {},
   "outputs": [],
   "source": [
    "xph = tf.placeholder(tf.float32,[batch_size])"
   ]
  },
  {
   "cell_type": "code",
   "execution_count": 181,
   "metadata": {},
   "outputs": [],
   "source": [
    "yph = tf.placeholder(tf.float32,[batch_size])"
   ]
  },
  {
   "cell_type": "code",
   "execution_count": 182,
   "metadata": {},
   "outputs": [],
   "source": [
    "y_model = m*xph + b"
   ]
  },
  {
   "cell_type": "code",
   "execution_count": 183,
   "metadata": {},
   "outputs": [],
   "source": [
    "error = tf.reduce_sum(tf.square(yph-y_model))"
   ]
  },
  {
   "cell_type": "code",
   "execution_count": 185,
   "metadata": {},
   "outputs": [],
   "source": [
    "optimizer = tf.train.GradientDescentOptimizer(learning_rate=0.001)\n",
    "train = optimizer.minimize(error)"
   ]
  },
  {
   "cell_type": "code",
   "execution_count": 186,
   "metadata": {},
   "outputs": [],
   "source": [
    "init = tf.global_variables_initializer()"
   ]
  },
  {
   "cell_type": "code",
   "execution_count": 188,
   "metadata": {},
   "outputs": [],
   "source": [
    "with tf.Session() as sess:\n",
    "    \n",
    "    sess.run(init)\n",
    "    \n",
    "    batches = 1000\n",
    "    \n",
    "    for i in range(batches):\n",
    "        \n",
    "        rand_ind = np.random.randint(len(x_data),size=batch_size)\n",
    "        \n",
    "        feed = {xph:x_data[rand_ind], yph:y_true[rand_ind]}\n",
    "        \n",
    "        sess.run(train,feed_dict=feed)\n",
    "        \n",
    "    model_m, model_b = sess.run([m,b])"
   ]
  },
  {
   "cell_type": "code",
   "execution_count": 189,
   "metadata": {},
   "outputs": [
    {
     "data": {
      "text/plain": [
       "0.50164264"
      ]
     },
     "execution_count": 189,
     "metadata": {},
     "output_type": "execute_result"
    }
   ],
   "source": [
    "model_m"
   ]
  },
  {
   "cell_type": "code",
   "execution_count": 190,
   "metadata": {},
   "outputs": [
    {
     "data": {
      "text/plain": [
       "4.8949428"
      ]
     },
     "execution_count": 190,
     "metadata": {},
     "output_type": "execute_result"
    }
   ],
   "source": [
    "model_b"
   ]
  },
  {
   "cell_type": "code",
   "execution_count": 191,
   "metadata": {},
   "outputs": [],
   "source": [
    "y_hat = x_data*model_m + model_b"
   ]
  },
  {
   "cell_type": "code",
   "execution_count": 192,
   "metadata": {},
   "outputs": [
    {
     "data": {
      "text/plain": [
       "[<matplotlib.lines.Line2D at 0x220808a3b08>]"
      ]
     },
     "execution_count": 192,
     "metadata": {},
     "output_type": "execute_result"
    },
    {
     "data": {
      "image/png": "[encoded data removed]",
      "text/plain": [
       "<Figure size 432x288 with 1 Axes>"
      ]
     },
     "metadata": {
      "needs_background": "light"
     },
     "output_type": "display_data"
    }
   ],
   "source": [
    "my_data.sample(250).plot(kind='scatter',x='X Data',y='Y')\n",
    "plt.plot(x_data,y_hat,'r')"
   ]
  },
  {
   "cell_type": "code",
   "execution_count": 193,
   "metadata": {},
   "outputs": [],
   "source": [
    "#TensorFlow Regression Example Part Two"
   ]
  },
  {
   "cell_type": "code",
   "execution_count": 194,
   "metadata": {},
   "outputs": [],
   "source": [
    "#TF ESTIMATOR"
   ]
  },
  {
   "cell_type": "code",
   "execution_count": 195,
   "metadata": {},
   "outputs": [],
   "source": [
    "feat_cols = [tf.feature_column.numeric_column('x',shape = [1])]"
   ]
  },
  {
   "cell_type": "code",
   "execution_count": 196,
   "metadata": {},
   "outputs": [
    {
     "name": "stdout",
     "output_type": "stream",
     "text": [
      "INFO:tensorflow:Using default config.\n",
      "WARNING:tensorflow:Using temporary folder as model directory: C:\\Users\\manzu\\AppData\\Local\\Temp\\tmpq405x_z3\n",
      "INFO:tensorflow:Using config: {'_model_dir': 'C:\\\\Users\\\\manzu\\\\AppData\\\\Local\\\\Temp\\\\tmpq405x_z3', '_tf_random_seed': None, '_save_summary_steps': 100, '_save_checkpoints_steps': None, '_save_checkpoints_secs': 600, '_session_config': allow_soft_placement: true\n",
      "graph_options {\n",
      "  rewrite_options {\n",
      "    meta_optimizer_iterations: ONE\n",
      "  }\n",
      "}\n",
      ", '_keep_checkpoint_max': 5, '_keep_checkpoint_every_n_hours': 10000, '_log_step_count_steps': 100, '_train_distribute': None, '_device_fn': None, '_protocol': None, '_eval_distribute': None, '_experimental_distribute': None, '_experimental_max_worker_delay_secs': None, '_session_creation_timeout_secs': 7200, '_service': None, '_cluster_spec': ClusterSpec({}), '_task_type': 'worker', '_task_id': 0, '_global_id_in_cluster': 0, '_master': '', '_evaluation_master': '', '_is_chief': True, '_num_ps_replicas': 0, '_num_worker_replicas': 1}\n"
     ]
    }
   ],
   "source": [
    "estimator = tf.estimator.LinearRegressor(feature_columns=feat_cols)"
   ]
  },
  {
   "cell_type": "code",
   "execution_count": 197,
   "metadata": {},
   "outputs": [],
   "source": [
    "from sklearn.model_selection import train_test_split"
   ]
  },
  {
   "cell_type": "code",
   "execution_count": 198,
   "metadata": {},
   "outputs": [],
   "source": [
    "x_train, x_eval, y_train, y_eval=train_test_split(x_data,y_true,test_size=0.3,random_state=101)"
   ]
  },
  {
   "cell_type": "code",
   "execution_count": 199,
   "metadata": {},
   "outputs": [
    {
     "name": "stdout",
     "output_type": "stream",
     "text": [
      "(700000,)\n"
     ]
    }
   ],
   "source": [
    "print(x_train.shape)"
   ]
  },
  {
   "cell_type": "code",
   "execution_count": 200,
   "metadata": {},
   "outputs": [
    {
     "data": {
      "text/plain": [
       "(300000,)"
      ]
     },
     "execution_count": 200,
     "metadata": {},
     "output_type": "execute_result"
    }
   ],
   "source": [
    "x_eval.shape"
   ]
  },
  {
   "cell_type": "code",
   "execution_count": 201,
   "metadata": {},
   "outputs": [],
   "source": [
    "input_func = tf.estimator.inputs.numpy_input_fn({'x':x_train},y_train,batch_size=8,num_epochs=None,shuffle=True)"
   ]
  },
  {
   "cell_type": "code",
   "execution_count": 202,
   "metadata": {},
   "outputs": [],
   "source": [
    "train_input_func = tf.estimator.inputs.numpy_input_fn({'x':x_train},y_train,batch_size=8,num_epochs=1000,shuffle=False)"
   ]
  },
  {
   "cell_type": "code",
   "execution_count": 203,
   "metadata": {},
   "outputs": [],
   "source": [
    "eval_input_func = tf.estimator.inputs.numpy_input_fn({'x':x_eval},y_eval,batch_size=8,num_epochs=1000,shuffle=False)"
   ]
  },
  {
   "cell_type": "code",
   "execution_count": 204,
   "metadata": {},
   "outputs": [
    {
     "name": "stdout",
     "output_type": "stream",
     "text": [
      "WARNING:tensorflow:From C:\\Users\\manzu\\anaconda3\\envs\\tfdeeplearning\\lib\\site-packages\\tensorflow\\python\\training\\training_util.py:236: Variable.initialized_value (from tensorflow.python.ops.variables) is deprecated and will be removed in a future version.\n",
      "Instructions for updating:\n",
      "Use Variable.read_value. Variables in 2.X are initialized automatically both in eager and graph (inside tf.defun) contexts.\n",
      "WARNING:tensorflow:From C:\\Users\\manzu\\anaconda3\\envs\\tfdeeplearning\\lib\\site-packages\\tensorflow_estimator\\python\\estimator\\inputs\\queues\\feeding_queue_runner.py:65: QueueRunner.__init__ (from tensorflow.python.training.queue_runner_impl) is deprecated and will be removed in a future version.\n",
      "Instructions for updating:\n",
      "To construct input pipelines, use the `tf.data` module.\n",
      "WARNING:tensorflow:From C:\\Users\\manzu\\anaconda3\\envs\\tfdeeplearning\\lib\\site-packages\\tensorflow_estimator\\python\\estimator\\inputs\\queues\\feeding_functions.py:491: add_queue_runner (from tensorflow.python.training.queue_runner_impl) is deprecated and will be removed in a future version.\n",
      "Instructions for updating:\n",
      "To construct input pipelines, use the `tf.data` module.\n",
      "INFO:tensorflow:Calling model_fn.\n",
      "WARNING:tensorflow:From C:\\Users\\manzu\\anaconda3\\envs\\tfdeeplearning\\lib\\site-packages\\tensorflow\\python\\ops\\resource_variable_ops.py:1666: calling BaseResourceVariable.__init__ (from tensorflow.python.ops.resource_variable_ops) with constraint is deprecated and will be removed in a future version.\n",
      "Instructions for updating:\n",
      "If using Keras pass *_constraint arguments to layers.\n",
      "WARNING:tensorflow:From C:\\Users\\manzu\\anaconda3\\envs\\tfdeeplearning\\lib\\site-packages\\tensorflow\\python\\feature_column\\feature_column_v2.py:540: Layer.add_variable (from tensorflow.python.keras.engine.base_layer_v1) is deprecated and will be removed in a future version.\n",
      "Instructions for updating:\n",
      "Please use `layer.add_weight` method instead.\n",
      "INFO:tensorflow:Done calling model_fn.\n",
      "INFO:tensorflow:Create CheckpointSaverHook.\n",
      "INFO:tensorflow:Graph was finalized.\n",
      "INFO:tensorflow:Running local_init_op.\n",
      "INFO:tensorflow:Done running local_init_op.\n",
      "WARNING:tensorflow:From C:\\Users\\manzu\\anaconda3\\envs\\tfdeeplearning\\lib\\site-packages\\tensorflow\\python\\training\\monitored_session.py:906: start_queue_runners (from tensorflow.python.training.queue_runner_impl) is deprecated and will be removed in a future version.\n",
      "Instructions for updating:\n",
      "To construct input pipelines, use the `tf.data` module.\n",
      "INFO:tensorflow:Calling checkpoint listeners before saving checkpoint 0...\n",
      "INFO:tensorflow:Saving checkpoints for 0 into C:\\Users\\manzu\\AppData\\Local\\Temp\\tmpq405x_z3\\model.ckpt.\n",
      "INFO:tensorflow:Calling checkpoint listeners after saving checkpoint 0...\n",
      "INFO:tensorflow:loss = 497.76392, step = 1\n",
      "INFO:tensorflow:global_step/sec: 402.169\n",
      "INFO:tensorflow:loss = 47.839214, step = 101 (0.229 sec)\n",
      "INFO:tensorflow:global_step/sec: 531.523\n",
      "INFO:tensorflow:loss = 23.223715, step = 201 (0.168 sec)\n",
      "INFO:tensorflow:global_step/sec: 731.925\n",
      "INFO:tensorflow:loss = 21.71973, step = 301 (0.141 sec)\n",
      "INFO:tensorflow:global_step/sec: 742.078\n",
      "INFO:tensorflow:loss = 17.738697, step = 401 (0.136 sec)\n",
      "WARNING:tensorflow:It seems that global step (tf.train.get_global_step) has not been increased. Current value (could be stable): 442 vs previous value: 442. You could increase the global step by passing tf.train.get_global_step() to Optimizer.apply_gradients or Optimizer.minimize.\n",
      "INFO:tensorflow:global_step/sec: 617.829\n",
      "INFO:tensorflow:loss = 12.303799, step = 501 (0.161 sec)\n",
      "INFO:tensorflow:global_step/sec: 643.757\n",
      "INFO:tensorflow:loss = 16.18049, step = 601 (0.155 sec)\n",
      "INFO:tensorflow:global_step/sec: 704.999\n",
      "INFO:tensorflow:loss = 7.6456594, step = 701 (0.140 sec)\n",
      "INFO:tensorflow:global_step/sec: 704.468\n",
      "INFO:tensorflow:loss = 7.356828, step = 801 (0.144 sec)\n",
      "INFO:tensorflow:global_step/sec: 675.374\n",
      "INFO:tensorflow:loss = 6.1844854, step = 901 (0.149 sec)\n",
      "INFO:tensorflow:Calling checkpoint listeners before saving checkpoint 1000...\n",
      "INFO:tensorflow:Saving checkpoints for 1000 into C:\\Users\\manzu\\AppData\\Local\\Temp\\tmpq405x_z3\\model.ckpt.\n",
      "INFO:tensorflow:Calling checkpoint listeners after saving checkpoint 1000...\n",
      "INFO:tensorflow:Loss for final step: 8.736397.\n"
     ]
    },
    {
     "data": {
      "text/plain": [
       "<tensorflow_estimator.python.estimator.canned.linear.LinearRegressor at 0x2208087c908>"
      ]
     },
     "execution_count": 204,
     "metadata": {},
     "output_type": "execute_result"
    }
   ],
   "source": [
    "estimator.train(input_fn=input_func,steps=1000)"
   ]
  },
  {
   "cell_type": "code",
   "execution_count": 205,
   "metadata": {},
   "outputs": [
    {
     "name": "stdout",
     "output_type": "stream",
     "text": [
      "INFO:tensorflow:Calling model_fn.\n",
      "INFO:tensorflow:Done calling model_fn.\n",
      "INFO:tensorflow:Starting evaluation at 2020-07-16T19:25:08Z\n",
      "INFO:tensorflow:Graph was finalized.\n",
      "INFO:tensorflow:Restoring parameters from C:\\Users\\manzu\\AppData\\Local\\Temp\\tmpq405x_z3\\model.ckpt-1000\n",
      "INFO:tensorflow:Running local_init_op.\n",
      "INFO:tensorflow:Done running local_init_op.\n",
      "INFO:tensorflow:Evaluation [100/1000]\n",
      "INFO:tensorflow:Evaluation [200/1000]\n",
      "INFO:tensorflow:Evaluation [300/1000]\n",
      "INFO:tensorflow:Evaluation [400/1000]\n",
      "INFO:tensorflow:Evaluation [500/1000]\n",
      "INFO:tensorflow:Evaluation [600/1000]\n",
      "INFO:tensorflow:Evaluation [700/1000]\n",
      "INFO:tensorflow:Evaluation [800/1000]\n",
      "INFO:tensorflow:Evaluation [900/1000]\n",
      "INFO:tensorflow:Evaluation [1000/1000]\n",
      "INFO:tensorflow:Inference Time : 15.45034s\n",
      "INFO:tensorflow:Finished evaluation at 2020-07-16-19:25:24\n",
      "INFO:tensorflow:Saving dict for global step 1000: average_loss = 1.0755074, global_step = 1000, label/mean = 7.49404, loss = 8.604059, prediction/mean = 7.419922\n",
      "INFO:tensorflow:Saving 'checkpoint_path' summary for global step 1000: C:\\Users\\manzu\\AppData\\Local\\Temp\\tmpq405x_z3\\model.ckpt-1000\n"
     ]
    }
   ],
   "source": [
    "train_metrics = estimator.evaluate(input_fn=train_input_func,steps=1000)"
   ]
  },
  {
   "cell_type": "code",
   "execution_count": 207,
   "metadata": {},
   "outputs": [
    {
     "name": "stdout",
     "output_type": "stream",
     "text": [
      "INFO:tensorflow:Calling model_fn.\n",
      "INFO:tensorflow:Done calling model_fn.\n",
      "INFO:tensorflow:Starting evaluation at 2020-07-16T19:33:22Z\n",
      "INFO:tensorflow:Graph was finalized.\n",
      "INFO:tensorflow:Restoring parameters from C:\\Users\\manzu\\AppData\\Local\\Temp\\tmpq405x_z3\\model.ckpt-1000\n",
      "INFO:tensorflow:Running local_init_op.\n",
      "INFO:tensorflow:Done running local_init_op.\n",
      "INFO:tensorflow:Evaluation [100/1000]\n",
      "INFO:tensorflow:Evaluation [200/1000]\n",
      "INFO:tensorflow:Evaluation [300/1000]\n",
      "INFO:tensorflow:Evaluation [400/1000]\n",
      "INFO:tensorflow:Evaluation [500/1000]\n",
      "INFO:tensorflow:Evaluation [600/1000]\n",
      "INFO:tensorflow:Evaluation [700/1000]\n",
      "INFO:tensorflow:Evaluation [800/1000]\n",
      "INFO:tensorflow:Evaluation [900/1000]\n",
      "INFO:tensorflow:Evaluation [1000/1000]\n",
      "INFO:tensorflow:Inference Time : 1.65690s\n",
      "INFO:tensorflow:Finished evaluation at 2020-07-16-19:33:23\n",
      "INFO:tensorflow:Saving dict for global step 1000: average_loss = 1.050893, global_step = 1000, label/mean = 7.473271, loss = 8.407144, prediction/mean = 7.398609\n",
      "INFO:tensorflow:Saving 'checkpoint_path' summary for global step 1000: C:\\Users\\manzu\\AppData\\Local\\Temp\\tmpq405x_z3\\model.ckpt-1000\n"
     ]
    }
   ],
   "source": [
    "eval_metrics = estimator.evaluate(input_fn=eval_input_func,steps=1000)"
   ]
  },
  {
   "cell_type": "code",
   "execution_count": 208,
   "metadata": {},
   "outputs": [
    {
     "name": "stdout",
     "output_type": "stream",
     "text": [
      "TRAININ DATA METRICS\n",
      "{'average_loss': 1.0755074, 'label/mean': 7.49404, 'loss': 8.604059, 'prediction/mean': 7.419922, 'global_step': 1000}\n"
     ]
    }
   ],
   "source": [
    "print('TRAININ DATA METRICS')\n",
    "print(train_metrics)"
   ]
  },
  {
   "cell_type": "code",
   "execution_count": 209,
   "metadata": {},
   "outputs": [
    {
     "name": "stdout",
     "output_type": "stream",
     "text": [
      "EVAL METRICS\n",
      "{'average_loss': 1.050893, 'label/mean': 7.473271, 'loss': 8.407144, 'prediction/mean': 7.398609, 'global_step': 1000}\n"
     ]
    }
   ],
   "source": [
    "print('EVAL METRICS')\n",
    "print(eval_metrics)"
   ]
  },
  {
   "cell_type": "code",
   "execution_count": 210,
   "metadata": {},
   "outputs": [],
   "source": [
    "brand_new_data = np.linspace(0,10,10)"
   ]
  },
  {
   "cell_type": "code",
   "execution_count": 211,
   "metadata": {},
   "outputs": [],
   "source": [
    "input_fn_predict = tf.estimator.inputs.numpy_input_fn({'x':brand_new_data},shuffle=False)"
   ]
  },
  {
   "cell_type": "code",
   "execution_count": 213,
   "metadata": {},
   "outputs": [
    {
     "name": "stdout",
     "output_type": "stream",
     "text": [
      "INFO:tensorflow:Calling model_fn.\n",
      "INFO:tensorflow:Done calling model_fn.\n",
      "INFO:tensorflow:Graph was finalized.\n",
      "INFO:tensorflow:Restoring parameters from C:\\Users\\manzu\\AppData\\Local\\Temp\\tmpq405x_z3\\model.ckpt-1000\n",
      "INFO:tensorflow:Running local_init_op.\n",
      "INFO:tensorflow:Done running local_init_op.\n"
     ]
    },
    {
     "data": {
      "text/plain": [
       "[{'predictions': array([4.46934], dtype=float32)},\n",
       " {'predictions': array([5.12473], dtype=float32)},\n",
       " {'predictions': array([5.780121], dtype=float32)},\n",
       " {'predictions': array([6.435511], dtype=float32)},\n",
       " {'predictions': array([7.0909014], dtype=float32)},\n",
       " {'predictions': array([7.746292], dtype=float32)},\n",
       " {'predictions': array([8.401682], dtype=float32)},\n",
       " {'predictions': array([9.057073], dtype=float32)},\n",
       " {'predictions': array([9.712463], dtype=float32)},\n",
       " {'predictions': array([10.367853], dtype=float32)}]"
      ]
     },
     "execution_count": 213,
     "metadata": {},
     "output_type": "execute_result"
    }
   ],
   "source": [
    "list(estimator.predict(input_fn=input_fn_predict))"
   ]
  },
  {
   "cell_type": "code",
   "execution_count": 215,
   "metadata": {},
   "outputs": [
    {
     "name": "stdout",
     "output_type": "stream",
     "text": [
      "INFO:tensorflow:Calling model_fn.\n",
      "INFO:tensorflow:Done calling model_fn.\n",
      "INFO:tensorflow:Graph was finalized.\n",
      "INFO:tensorflow:Restoring parameters from C:\\Users\\manzu\\AppData\\Local\\Temp\\tmpq405x_z3\\model.ckpt-1000\n",
      "INFO:tensorflow:Running local_init_op.\n",
      "INFO:tensorflow:Done running local_init_op.\n"
     ]
    }
   ],
   "source": [
    "predictions = []\n",
    "\n",
    "for pred in estimator.predict(input_fn=input_fn_predict):\n",
    "    \n",
    "    predictions.append(pred['predictions'])"
   ]
  },
  {
   "cell_type": "code",
   "execution_count": 216,
   "metadata": {},
   "outputs": [
    {
     "data": {
      "text/plain": [
       "[array([4.46934], dtype=float32),\n",
       " array([5.12473], dtype=float32),\n",
       " array([5.780121], dtype=float32),\n",
       " array([6.435511], dtype=float32),\n",
       " array([7.0909014], dtype=float32),\n",
       " array([7.746292], dtype=float32),\n",
       " array([8.401682], dtype=float32),\n",
       " array([9.057073], dtype=float32),\n",
       " array([9.712463], dtype=float32),\n",
       " array([10.367853], dtype=float32)]"
      ]
     },
     "execution_count": 216,
     "metadata": {},
     "output_type": "execute_result"
    }
   ],
   "source": [
    "predictions"
   ]
  },
  {
   "cell_type": "code",
   "execution_count": 219,
   "metadata": {},
   "outputs": [
    {
     "data": {
      "text/plain": [
       "[<matplotlib.lines.Line2D at 0x22084d95548>]"
      ]
     },
     "execution_count": 219,
     "metadata": {},
     "output_type": "execute_result"
    },
    {
     "data": {
      "image/png": "[encoded data removed]",
      "text/plain": [
       "<Figure size 432x288 with 1 Axes>"
      ]
     },
     "metadata": {
      "needs_background": "light"
     },
     "output_type": "display_data"
    }
   ],
   "source": [
    "my_data.sample(n=250).plot(kind='scatter',x='X Data',y='Y')\n",
    "plt.plot(brand_new_data,predictions,'r*')"
   ]
  },
  {
   "cell_type": "code",
   "execution_count": 220,
   "metadata": {},
   "outputs": [],
   "source": [
    "#Tensorflow Classification Example Part One"
   ]
  },
  {
   "cell_type": "code",
   "execution_count": 262,
   "metadata": {},
   "outputs": [],
   "source": [
    "import pandas as pd\n",
    "import tensorflow.compat.v1 as tf\n",
    "tf.disable_v2_behavior()"
   ]
  },
  {
   "cell_type": "code",
   "execution_count": 264,
   "metadata": {},
   "outputs": [],
   "source": [
    "diabetes = pd.read_csv('pima-indians-diabetes.csv')\n"
   ]
  },
  {
   "cell_type": "code",
   "execution_count": 265,
   "metadata": {},
   "outputs": [
    {
     "data": {
      "text/html": [
       "<div>\n",
       "<style scoped>\n",
       "    .dataframe tbody tr th:only-of-type {\n",
       "        vertical-align: middle;\n",
       "    }\n",
       "\n",
       "    .dataframe tbody tr th {\n",
       "        vertical-align: top;\n",
       "    }\n",
       "\n",
       "    .dataframe thead th {\n",
       "        text-align: right;\n",
       "    }\n",
       "</style>\n",
       "<table border=\"1\" class=\"dataframe\">\n",
       "  <thead>\n",
       "    <tr style=\"text-align: right;\">\n",
       "      <th></th>\n",
       "      <th>Number_pregnant</th>\n",
       "      <th>Glucose_concentration</th>\n",
       "      <th>Blood_pressure</th>\n",
       "      <th>Triceps</th>\n",
       "      <th>Insulin</th>\n",
       "      <th>BMI</th>\n",
       "      <th>Pedigree</th>\n",
       "      <th>Age</th>\n",
       "      <th>Class</th>\n",
       "      <th>Group</th>\n",
       "    </tr>\n",
       "  </thead>\n",
       "  <tbody>\n",
       "    <tr>\n",
       "      <th>0</th>\n",
       "      <td>6</td>\n",
       "      <td>0.743719</td>\n",
       "      <td>0.590164</td>\n",
       "      <td>0.353535</td>\n",
       "      <td>0.000000</td>\n",
       "      <td>0.500745</td>\n",
       "      <td>0.234415</td>\n",
       "      <td>50</td>\n",
       "      <td>1</td>\n",
       "      <td>B</td>\n",
       "    </tr>\n",
       "    <tr>\n",
       "      <th>1</th>\n",
       "      <td>1</td>\n",
       "      <td>0.427136</td>\n",
       "      <td>0.540984</td>\n",
       "      <td>0.292929</td>\n",
       "      <td>0.000000</td>\n",
       "      <td>0.396423</td>\n",
       "      <td>0.116567</td>\n",
       "      <td>31</td>\n",
       "      <td>0</td>\n",
       "      <td>C</td>\n",
       "    </tr>\n",
       "    <tr>\n",
       "      <th>2</th>\n",
       "      <td>8</td>\n",
       "      <td>0.919598</td>\n",
       "      <td>0.524590</td>\n",
       "      <td>0.000000</td>\n",
       "      <td>0.000000</td>\n",
       "      <td>0.347243</td>\n",
       "      <td>0.253629</td>\n",
       "      <td>32</td>\n",
       "      <td>1</td>\n",
       "      <td>B</td>\n",
       "    </tr>\n",
       "    <tr>\n",
       "      <th>3</th>\n",
       "      <td>1</td>\n",
       "      <td>0.447236</td>\n",
       "      <td>0.540984</td>\n",
       "      <td>0.232323</td>\n",
       "      <td>0.111111</td>\n",
       "      <td>0.418778</td>\n",
       "      <td>0.038002</td>\n",
       "      <td>21</td>\n",
       "      <td>0</td>\n",
       "      <td>B</td>\n",
       "    </tr>\n",
       "    <tr>\n",
       "      <th>4</th>\n",
       "      <td>0</td>\n",
       "      <td>0.688442</td>\n",
       "      <td>0.327869</td>\n",
       "      <td>0.353535</td>\n",
       "      <td>0.198582</td>\n",
       "      <td>0.642325</td>\n",
       "      <td>0.943638</td>\n",
       "      <td>33</td>\n",
       "      <td>1</td>\n",
       "      <td>C</td>\n",
       "    </tr>\n",
       "  </tbody>\n",
       "</table>\n",
       "</div>"
      ],
      "text/plain": [
       "   Number_pregnant  Glucose_concentration  Blood_pressure   Triceps   Insulin  \\\n",
       "0                6               0.743719        0.590164  0.353535  0.000000   \n",
       "1                1               0.427136        0.540984  0.292929  0.000000   \n",
       "2                8               0.919598        0.524590  0.000000  0.000000   \n",
       "3                1               0.447236        0.540984  0.232323  0.111111   \n",
       "4                0               0.688442        0.327869  0.353535  0.198582   \n",
       "\n",
       "        BMI  Pedigree  Age  Class Group  \n",
       "0  0.500745  0.234415   50      1     B  \n",
       "1  0.396423  0.116567   31      0     C  \n",
       "2  0.347243  0.253629   32      1     B  \n",
       "3  0.418778  0.038002   21      0     B  \n",
       "4  0.642325  0.943638   33      1     C  "
      ]
     },
     "execution_count": 265,
     "metadata": {},
     "output_type": "execute_result"
    }
   ],
   "source": [
    "diabetes.head()"
   ]
  },
  {
   "cell_type": "code",
   "execution_count": 267,
   "metadata": {},
   "outputs": [
    {
     "data": {
      "text/plain": [
       "Index(['Number_pregnant', 'Glucose_concentration', 'Blood_pressure', 'Triceps',\n",
       "       'Insulin', 'BMI', 'Pedigree', 'Age', 'Class', 'Group'],\n",
       "      dtype='object')"
      ]
     },
     "execution_count": 267,
     "metadata": {},
     "output_type": "execute_result"
    }
   ],
   "source": [
    "diabetes.columns"
   ]
  },
  {
   "cell_type": "code",
   "execution_count": 268,
   "metadata": {},
   "outputs": [],
   "source": [
    "cols_to_norm = ['Number_pregnant', 'Glucose_concentration', 'Blood_pressure', 'Triceps',\n",
    "       'Insulin', 'BMI', 'Pedigree']"
   ]
  },
  {
   "cell_type": "code",
   "execution_count": 270,
   "metadata": {},
   "outputs": [],
   "source": [
    "diabetes[cols_to_norm] = diabetes[cols_to_norm].apply(lambda x:(x-x.min()) / (x.max()-x.min() ))"
   ]
  },
  {
   "cell_type": "code",
   "execution_count": 271,
   "metadata": {},
   "outputs": [
    {
     "data": {
      "text/html": [
       "<div>\n",
       "<style scoped>\n",
       "    .dataframe tbody tr th:only-of-type {\n",
       "        vertical-align: middle;\n",
       "    }\n",
       "\n",
       "    .dataframe tbody tr th {\n",
       "        vertical-align: top;\n",
       "    }\n",
       "\n",
       "    .dataframe thead th {\n",
       "        text-align: right;\n",
       "    }\n",
       "</style>\n",
       "<table border=\"1\" class=\"dataframe\">\n",
       "  <thead>\n",
       "    <tr style=\"text-align: right;\">\n",
       "      <th></th>\n",
       "      <th>Number_pregnant</th>\n",
       "      <th>Glucose_concentration</th>\n",
       "      <th>Blood_pressure</th>\n",
       "      <th>Triceps</th>\n",
       "      <th>Insulin</th>\n",
       "      <th>BMI</th>\n",
       "      <th>Pedigree</th>\n",
       "      <th>Age</th>\n",
       "      <th>Class</th>\n",
       "      <th>Group</th>\n",
       "    </tr>\n",
       "  </thead>\n",
       "  <tbody>\n",
       "    <tr>\n",
       "      <th>0</th>\n",
       "      <td>0.352941</td>\n",
       "      <td>0.743719</td>\n",
       "      <td>0.590164</td>\n",
       "      <td>0.353535</td>\n",
       "      <td>0.000000</td>\n",
       "      <td>0.500745</td>\n",
       "      <td>0.234415</td>\n",
       "      <td>50</td>\n",
       "      <td>1</td>\n",
       "      <td>B</td>\n",
       "    </tr>\n",
       "    <tr>\n",
       "      <th>1</th>\n",
       "      <td>0.058824</td>\n",
       "      <td>0.427136</td>\n",
       "      <td>0.540984</td>\n",
       "      <td>0.292929</td>\n",
       "      <td>0.000000</td>\n",
       "      <td>0.396423</td>\n",
       "      <td>0.116567</td>\n",
       "      <td>31</td>\n",
       "      <td>0</td>\n",
       "      <td>C</td>\n",
       "    </tr>\n",
       "    <tr>\n",
       "      <th>2</th>\n",
       "      <td>0.470588</td>\n",
       "      <td>0.919598</td>\n",
       "      <td>0.524590</td>\n",
       "      <td>0.000000</td>\n",
       "      <td>0.000000</td>\n",
       "      <td>0.347243</td>\n",
       "      <td>0.253629</td>\n",
       "      <td>32</td>\n",
       "      <td>1</td>\n",
       "      <td>B</td>\n",
       "    </tr>\n",
       "    <tr>\n",
       "      <th>3</th>\n",
       "      <td>0.058824</td>\n",
       "      <td>0.447236</td>\n",
       "      <td>0.540984</td>\n",
       "      <td>0.232323</td>\n",
       "      <td>0.111111</td>\n",
       "      <td>0.418778</td>\n",
       "      <td>0.038002</td>\n",
       "      <td>21</td>\n",
       "      <td>0</td>\n",
       "      <td>B</td>\n",
       "    </tr>\n",
       "    <tr>\n",
       "      <th>4</th>\n",
       "      <td>0.000000</td>\n",
       "      <td>0.688442</td>\n",
       "      <td>0.327869</td>\n",
       "      <td>0.353535</td>\n",
       "      <td>0.198582</td>\n",
       "      <td>0.642325</td>\n",
       "      <td>0.943638</td>\n",
       "      <td>33</td>\n",
       "      <td>1</td>\n",
       "      <td>C</td>\n",
       "    </tr>\n",
       "  </tbody>\n",
       "</table>\n",
       "</div>"
      ],
      "text/plain": [
       "   Number_pregnant  Glucose_concentration  Blood_pressure   Triceps   Insulin  \\\n",
       "0         0.352941               0.743719        0.590164  0.353535  0.000000   \n",
       "1         0.058824               0.427136        0.540984  0.292929  0.000000   \n",
       "2         0.470588               0.919598        0.524590  0.000000  0.000000   \n",
       "3         0.058824               0.447236        0.540984  0.232323  0.111111   \n",
       "4         0.000000               0.688442        0.327869  0.353535  0.198582   \n",
       "\n",
       "        BMI  Pedigree  Age  Class Group  \n",
       "0  0.500745  0.234415   50      1     B  \n",
       "1  0.396423  0.116567   31      0     C  \n",
       "2  0.347243  0.253629   32      1     B  \n",
       "3  0.418778  0.038002   21      0     B  \n",
       "4  0.642325  0.943638   33      1     C  "
      ]
     },
     "execution_count": 271,
     "metadata": {},
     "output_type": "execute_result"
    }
   ],
   "source": [
    "diabetes.head()"
   ]
  },
  {
   "cell_type": "code",
   "execution_count": 293,
   "metadata": {},
   "outputs": [],
   "source": [
    "import tensorflow.compat.v1 as tf\n",
    "tf.disable_v2_behavior()"
   ]
  },
  {
   "cell_type": "code",
   "execution_count": 284,
   "metadata": {},
   "outputs": [
    {
     "data": {
      "text/plain": [
       "Index(['Number_pregnant', 'Glucose_concentration', 'Blood_pressure', 'Triceps',\n",
       "       'Insulin', 'BMI', 'Pedigree', 'Age', 'Class', 'Group'],\n",
       "      dtype='object')"
      ]
     },
     "execution_count": 284,
     "metadata": {},
     "output_type": "execute_result"
    }
   ],
   "source": [
    "diabetes.columns"
   ]
  },
  {
   "cell_type": "code",
   "execution_count": 285,
   "metadata": {},
   "outputs": [],
   "source": [
    "num_preg  = tf.feature_column.numeric_column('Number_pregnant')\n",
    "plasma_gluc = tf.feature_column.numeric_column('Glucose_concentration')\n",
    "dias_press = tf.feature_column.numeric_column('Blood_pressure')\n",
    "tricep = tf.feature_column.numeric_column('Triceps')\n",
    "insulin = tf.feature_column.numeric_column('Insulin')\n",
    "bmi = tf.feature_column.numeric_column('BMI')\n",
    "diabetes_pedigree = tf.feature_column.numeric_column('Pedigree')\n",
    "age = tf.feature_column.numeric_column('Age')"
   ]
  },
  {
   "cell_type": "code",
   "execution_count": 286,
   "metadata": {},
   "outputs": [],
   "source": [
    "assigned_group = tf.feature_column.categorical_column_with_vocabulary_list('Group',['A','B','C','D'])"
   ]
  },
  {
   "cell_type": "code",
   "execution_count": 277,
   "metadata": {},
   "outputs": [],
   "source": [
    "#assigned_group = tf.feature_column.categorical_column_with_hash_bucket('Group', hash_bucket_size=10)"
   ]
  },
  {
   "cell_type": "code",
   "execution_count": 287,
   "metadata": {},
   "outputs": [],
   "source": [
    "import matplotlib.pyplot as plt\n",
    "%matplotlib inline"
   ]
  },
  {
   "cell_type": "code",
   "execution_count": 289,
   "metadata": {},
   "outputs": [
    {
     "data": {
      "text/plain": [
       "<matplotlib.axes._subplots.AxesSubplot at 0x22088489608>"
      ]
     },
     "execution_count": 289,
     "metadata": {},
     "output_type": "execute_result"
    },
    {
     "data": {
      "image/png": "[encoded data removed]",
      "text/plain": [
       "<Figure size 432x288 with 1 Axes>"
      ]
     },
     "metadata": {
      "needs_background": "light"
     },
     "output_type": "display_data"
    }
   ],
   "source": [
    "diabetes['Age'].hist(bins=20)"
   ]
  },
  {
   "cell_type": "code",
   "execution_count": 295,
   "metadata": {},
   "outputs": [],
   "source": [
    "age_bucket = tf.feature_column.bucketized_column(age, boundaries=[20,30,40,50,60,70,80])"
   ]
  },
  {
   "cell_type": "code",
   "execution_count": 296,
   "metadata": {},
   "outputs": [],
   "source": [
    "feat_cols = [num_preg,plasma_gluc,dias_press,tricep,insulin,bmi,diabetes_pedigree,assigned_group,age_bucket]"
   ]
  },
  {
   "cell_type": "code",
   "execution_count": 297,
   "metadata": {},
   "outputs": [],
   "source": [
    "#TRAIN TEST SPLIT"
   ]
  },
  {
   "cell_type": "code",
   "execution_count": 301,
   "metadata": {},
   "outputs": [],
   "source": [
    "x_data = diabetes.drop('Class',axis=1)"
   ]
  },
  {
   "cell_type": "code",
   "execution_count": 302,
   "metadata": {},
   "outputs": [
    {
     "data": {
      "text/html": [
       "<div>\n",
       "<style scoped>\n",
       "    .dataframe tbody tr th:only-of-type {\n",
       "        vertical-align: middle;\n",
       "    }\n",
       "\n",
       "    .dataframe tbody tr th {\n",
       "        vertical-align: top;\n",
       "    }\n",
       "\n",
       "    .dataframe thead th {\n",
       "        text-align: right;\n",
       "    }\n",
       "</style>\n",
       "<table border=\"1\" class=\"dataframe\">\n",
       "  <thead>\n",
       "    <tr style=\"text-align: right;\">\n",
       "      <th></th>\n",
       "      <th>Number_pregnant</th>\n",
       "      <th>Glucose_concentration</th>\n",
       "      <th>Blood_pressure</th>\n",
       "      <th>Triceps</th>\n",
       "      <th>Insulin</th>\n",
       "      <th>BMI</th>\n",
       "      <th>Pedigree</th>\n",
       "      <th>Age</th>\n",
       "      <th>Group</th>\n",
       "    </tr>\n",
       "  </thead>\n",
       "  <tbody>\n",
       "    <tr>\n",
       "      <th>0</th>\n",
       "      <td>0.352941</td>\n",
       "      <td>0.743719</td>\n",
       "      <td>0.590164</td>\n",
       "      <td>0.353535</td>\n",
       "      <td>0.000000</td>\n",
       "      <td>0.500745</td>\n",
       "      <td>0.234415</td>\n",
       "      <td>50</td>\n",
       "      <td>B</td>\n",
       "    </tr>\n",
       "    <tr>\n",
       "      <th>1</th>\n",
       "      <td>0.058824</td>\n",
       "      <td>0.427136</td>\n",
       "      <td>0.540984</td>\n",
       "      <td>0.292929</td>\n",
       "      <td>0.000000</td>\n",
       "      <td>0.396423</td>\n",
       "      <td>0.116567</td>\n",
       "      <td>31</td>\n",
       "      <td>C</td>\n",
       "    </tr>\n",
       "    <tr>\n",
       "      <th>2</th>\n",
       "      <td>0.470588</td>\n",
       "      <td>0.919598</td>\n",
       "      <td>0.524590</td>\n",
       "      <td>0.000000</td>\n",
       "      <td>0.000000</td>\n",
       "      <td>0.347243</td>\n",
       "      <td>0.253629</td>\n",
       "      <td>32</td>\n",
       "      <td>B</td>\n",
       "    </tr>\n",
       "    <tr>\n",
       "      <th>3</th>\n",
       "      <td>0.058824</td>\n",
       "      <td>0.447236</td>\n",
       "      <td>0.540984</td>\n",
       "      <td>0.232323</td>\n",
       "      <td>0.111111</td>\n",
       "      <td>0.418778</td>\n",
       "      <td>0.038002</td>\n",
       "      <td>21</td>\n",
       "      <td>B</td>\n",
       "    </tr>\n",
       "    <tr>\n",
       "      <th>4</th>\n",
       "      <td>0.000000</td>\n",
       "      <td>0.688442</td>\n",
       "      <td>0.327869</td>\n",
       "      <td>0.353535</td>\n",
       "      <td>0.198582</td>\n",
       "      <td>0.642325</td>\n",
       "      <td>0.943638</td>\n",
       "      <td>33</td>\n",
       "      <td>C</td>\n",
       "    </tr>\n",
       "    <tr>\n",
       "      <th>...</th>\n",
       "      <td>...</td>\n",
       "      <td>...</td>\n",
       "      <td>...</td>\n",
       "      <td>...</td>\n",
       "      <td>...</td>\n",
       "      <td>...</td>\n",
       "      <td>...</td>\n",
       "      <td>...</td>\n",
       "      <td>...</td>\n",
       "    </tr>\n",
       "    <tr>\n",
       "      <th>763</th>\n",
       "      <td>0.588235</td>\n",
       "      <td>0.507538</td>\n",
       "      <td>0.622951</td>\n",
       "      <td>0.484848</td>\n",
       "      <td>0.212766</td>\n",
       "      <td>0.490313</td>\n",
       "      <td>0.039710</td>\n",
       "      <td>63</td>\n",
       "      <td>B</td>\n",
       "    </tr>\n",
       "    <tr>\n",
       "      <th>764</th>\n",
       "      <td>0.117647</td>\n",
       "      <td>0.613065</td>\n",
       "      <td>0.573770</td>\n",
       "      <td>0.272727</td>\n",
       "      <td>0.000000</td>\n",
       "      <td>0.548435</td>\n",
       "      <td>0.111870</td>\n",
       "      <td>27</td>\n",
       "      <td>A</td>\n",
       "    </tr>\n",
       "    <tr>\n",
       "      <th>765</th>\n",
       "      <td>0.294118</td>\n",
       "      <td>0.608040</td>\n",
       "      <td>0.590164</td>\n",
       "      <td>0.232323</td>\n",
       "      <td>0.132388</td>\n",
       "      <td>0.390462</td>\n",
       "      <td>0.071307</td>\n",
       "      <td>30</td>\n",
       "      <td>C</td>\n",
       "    </tr>\n",
       "    <tr>\n",
       "      <th>766</th>\n",
       "      <td>0.058824</td>\n",
       "      <td>0.633166</td>\n",
       "      <td>0.491803</td>\n",
       "      <td>0.000000</td>\n",
       "      <td>0.000000</td>\n",
       "      <td>0.448584</td>\n",
       "      <td>0.115713</td>\n",
       "      <td>47</td>\n",
       "      <td>C</td>\n",
       "    </tr>\n",
       "    <tr>\n",
       "      <th>767</th>\n",
       "      <td>0.058824</td>\n",
       "      <td>0.467337</td>\n",
       "      <td>0.573770</td>\n",
       "      <td>0.313131</td>\n",
       "      <td>0.000000</td>\n",
       "      <td>0.453055</td>\n",
       "      <td>0.101196</td>\n",
       "      <td>23</td>\n",
       "      <td>A</td>\n",
       "    </tr>\n",
       "  </tbody>\n",
       "</table>\n",
       "<p>768 rows × 9 columns</p>\n",
       "</div>"
      ],
      "text/plain": [
       "     Number_pregnant  Glucose_concentration  Blood_pressure   Triceps  \\\n",
       "0           0.352941               0.743719        0.590164  0.353535   \n",
       "1           0.058824               0.427136        0.540984  0.292929   \n",
       "2           0.470588               0.919598        0.524590  0.000000   \n",
       "3           0.058824               0.447236        0.540984  0.232323   \n",
       "4           0.000000               0.688442        0.327869  0.353535   \n",
       "..               ...                    ...             ...       ...   \n",
       "763         0.588235               0.507538        0.622951  0.484848   \n",
       "764         0.117647               0.613065        0.573770  0.272727   \n",
       "765         0.294118               0.608040        0.590164  0.232323   \n",
       "766         0.058824               0.633166        0.491803  0.000000   \n",
       "767         0.058824               0.467337        0.573770  0.313131   \n",
       "\n",
       "      Insulin       BMI  Pedigree  Age Group  \n",
       "0    0.000000  0.500745  0.234415   50     B  \n",
       "1    0.000000  0.396423  0.116567   31     C  \n",
       "2    0.000000  0.347243  0.253629   32     B  \n",
       "3    0.111111  0.418778  0.038002   21     B  \n",
       "4    0.198582  0.642325  0.943638   33     C  \n",
       "..        ...       ...       ...  ...   ...  \n",
       "763  0.212766  0.490313  0.039710   63     B  \n",
       "764  0.000000  0.548435  0.111870   27     A  \n",
       "765  0.132388  0.390462  0.071307   30     C  \n",
       "766  0.000000  0.448584  0.115713   47     C  \n",
       "767  0.000000  0.453055  0.101196   23     A  \n",
       "\n",
       "[768 rows x 9 columns]"
      ]
     },
     "execution_count": 302,
     "metadata": {},
     "output_type": "execute_result"
    }
   ],
   "source": [
    "x_data"
   ]
  },
  {
   "cell_type": "code",
   "execution_count": 303,
   "metadata": {},
   "outputs": [
    {
     "data": {
      "text/html": [
       "<div>\n",
       "<style scoped>\n",
       "    .dataframe tbody tr th:only-of-type {\n",
       "        vertical-align: middle;\n",
       "    }\n",
       "\n",
       "    .dataframe tbody tr th {\n",
       "        vertical-align: top;\n",
       "    }\n",
       "\n",
       "    .dataframe thead th {\n",
       "        text-align: right;\n",
       "    }\n",
       "</style>\n",
       "<table border=\"1\" class=\"dataframe\">\n",
       "  <thead>\n",
       "    <tr style=\"text-align: right;\">\n",
       "      <th></th>\n",
       "      <th>Number_pregnant</th>\n",
       "      <th>Glucose_concentration</th>\n",
       "      <th>Blood_pressure</th>\n",
       "      <th>Triceps</th>\n",
       "      <th>Insulin</th>\n",
       "      <th>BMI</th>\n",
       "      <th>Pedigree</th>\n",
       "      <th>Age</th>\n",
       "      <th>Group</th>\n",
       "    </tr>\n",
       "  </thead>\n",
       "  <tbody>\n",
       "    <tr>\n",
       "      <th>0</th>\n",
       "      <td>0.352941</td>\n",
       "      <td>0.743719</td>\n",
       "      <td>0.590164</td>\n",
       "      <td>0.353535</td>\n",
       "      <td>0.000000</td>\n",
       "      <td>0.500745</td>\n",
       "      <td>0.234415</td>\n",
       "      <td>50</td>\n",
       "      <td>B</td>\n",
       "    </tr>\n",
       "    <tr>\n",
       "      <th>1</th>\n",
       "      <td>0.058824</td>\n",
       "      <td>0.427136</td>\n",
       "      <td>0.540984</td>\n",
       "      <td>0.292929</td>\n",
       "      <td>0.000000</td>\n",
       "      <td>0.396423</td>\n",
       "      <td>0.116567</td>\n",
       "      <td>31</td>\n",
       "      <td>C</td>\n",
       "    </tr>\n",
       "    <tr>\n",
       "      <th>2</th>\n",
       "      <td>0.470588</td>\n",
       "      <td>0.919598</td>\n",
       "      <td>0.524590</td>\n",
       "      <td>0.000000</td>\n",
       "      <td>0.000000</td>\n",
       "      <td>0.347243</td>\n",
       "      <td>0.253629</td>\n",
       "      <td>32</td>\n",
       "      <td>B</td>\n",
       "    </tr>\n",
       "    <tr>\n",
       "      <th>3</th>\n",
       "      <td>0.058824</td>\n",
       "      <td>0.447236</td>\n",
       "      <td>0.540984</td>\n",
       "      <td>0.232323</td>\n",
       "      <td>0.111111</td>\n",
       "      <td>0.418778</td>\n",
       "      <td>0.038002</td>\n",
       "      <td>21</td>\n",
       "      <td>B</td>\n",
       "    </tr>\n",
       "    <tr>\n",
       "      <th>4</th>\n",
       "      <td>0.000000</td>\n",
       "      <td>0.688442</td>\n",
       "      <td>0.327869</td>\n",
       "      <td>0.353535</td>\n",
       "      <td>0.198582</td>\n",
       "      <td>0.642325</td>\n",
       "      <td>0.943638</td>\n",
       "      <td>33</td>\n",
       "      <td>C</td>\n",
       "    </tr>\n",
       "  </tbody>\n",
       "</table>\n",
       "</div>"
      ],
      "text/plain": [
       "   Number_pregnant  Glucose_concentration  Blood_pressure   Triceps   Insulin  \\\n",
       "0         0.352941               0.743719        0.590164  0.353535  0.000000   \n",
       "1         0.058824               0.427136        0.540984  0.292929  0.000000   \n",
       "2         0.470588               0.919598        0.524590  0.000000  0.000000   \n",
       "3         0.058824               0.447236        0.540984  0.232323  0.111111   \n",
       "4         0.000000               0.688442        0.327869  0.353535  0.198582   \n",
       "\n",
       "        BMI  Pedigree  Age Group  \n",
       "0  0.500745  0.234415   50     B  \n",
       "1  0.396423  0.116567   31     C  \n",
       "2  0.347243  0.253629   32     B  \n",
       "3  0.418778  0.038002   21     B  \n",
       "4  0.642325  0.943638   33     C  "
      ]
     },
     "execution_count": 303,
     "metadata": {},
     "output_type": "execute_result"
    }
   ],
   "source": [
    "x_data.head()"
   ]
  },
  {
   "cell_type": "code",
   "execution_count": 304,
   "metadata": {},
   "outputs": [],
   "source": [
    "labels = diabetes['Class']"
   ]
  },
  {
   "cell_type": "code",
   "execution_count": 305,
   "metadata": {},
   "outputs": [
    {
     "data": {
      "text/plain": [
       "0      1\n",
       "1      0\n",
       "2      1\n",
       "3      0\n",
       "4      1\n",
       "      ..\n",
       "763    0\n",
       "764    0\n",
       "765    0\n",
       "766    1\n",
       "767    0\n",
       "Name: Class, Length: 768, dtype: int64"
      ]
     },
     "execution_count": 305,
     "metadata": {},
     "output_type": "execute_result"
    }
   ],
   "source": [
    "labels"
   ]
  },
  {
   "cell_type": "code",
   "execution_count": 310,
   "metadata": {},
   "outputs": [],
   "source": [
    "from sklearn.model_selection import train_test_split"
   ]
  },
  {
   "cell_type": "code",
   "execution_count": 314,
   "metadata": {},
   "outputs": [],
   "source": [
    "X_train, X_test, y_train, y_test = train_test_split(x_data,labels,test_size=0.33, random_state=101)"
   ]
  },
  {
   "cell_type": "code",
   "execution_count": 315,
   "metadata": {},
   "outputs": [],
   "source": [
    "#labels"
   ]
  },
  {
   "cell_type": "code",
   "execution_count": 320,
   "metadata": {},
   "outputs": [],
   "source": [
    "input_func = tf.estimator.inputs.pandas_input_fn(x=X_train,y=y_train,batch_size=10,num_epochs=1000,shuffle=True)"
   ]
  },
  {
   "cell_type": "code",
   "execution_count": 321,
   "metadata": {},
   "outputs": [
    {
     "name": "stdout",
     "output_type": "stream",
     "text": [
      "INFO:tensorflow:Using default config.\n",
      "WARNING:tensorflow:Using temporary folder as model directory: C:\\Users\\manzu\\AppData\\Local\\Temp\\tmp1rwdaht1\n",
      "INFO:tensorflow:Using config: {'_model_dir': 'C:\\\\Users\\\\manzu\\\\AppData\\\\Local\\\\Temp\\\\tmp1rwdaht1', '_tf_random_seed': None, '_save_summary_steps': 100, '_save_checkpoints_steps': None, '_save_checkpoints_secs': 600, '_session_config': allow_soft_placement: true\n",
      "graph_options {\n",
      "  rewrite_options {\n",
      "    meta_optimizer_iterations: ONE\n",
      "  }\n",
      "}\n",
      ", '_keep_checkpoint_max': 5, '_keep_checkpoint_every_n_hours': 10000, '_log_step_count_steps': 100, '_train_distribute': None, '_device_fn': None, '_protocol': None, '_eval_distribute': None, '_experimental_distribute': None, '_experimental_max_worker_delay_secs': None, '_session_creation_timeout_secs': 7200, '_service': None, '_cluster_spec': ClusterSpec({}), '_task_type': 'worker', '_task_id': 0, '_global_id_in_cluster': 0, '_master': '', '_evaluation_master': '', '_is_chief': True, '_num_ps_replicas': 0, '_num_worker_replicas': 1}\n"
     ]
    }
   ],
   "source": [
    "model = tf.estimator.LinearClassifier(feature_columns=feat_cols,n_classes=2)"
   ]
  },
  {
   "cell_type": "code",
   "execution_count": 322,
   "metadata": {},
   "outputs": [
    {
     "name": "stdout",
     "output_type": "stream",
     "text": [
      "INFO:tensorflow:Calling model_fn.\n",
      "INFO:tensorflow:Done calling model_fn.\n",
      "INFO:tensorflow:Create CheckpointSaverHook.\n",
      "INFO:tensorflow:Graph was finalized.\n",
      "INFO:tensorflow:Running local_init_op.\n",
      "INFO:tensorflow:Done running local_init_op.\n",
      "INFO:tensorflow:Calling checkpoint listeners before saving checkpoint 0...\n",
      "INFO:tensorflow:Saving checkpoints for 0 into C:\\Users\\manzu\\AppData\\Local\\Temp\\tmp1rwdaht1\\model.ckpt.\n",
      "INFO:tensorflow:Calling checkpoint listeners after saving checkpoint 0...\n",
      "INFO:tensorflow:loss = 6.931472, step = 1\n",
      "INFO:tensorflow:global_step/sec: 129.03\n",
      "INFO:tensorflow:loss = 5.698343, step = 101 (0.793 sec)\n",
      "INFO:tensorflow:global_step/sec: 249.295\n",
      "INFO:tensorflow:loss = 5.9079466, step = 201 (0.354 sec)\n",
      "INFO:tensorflow:global_step/sec: 298.847\n",
      "INFO:tensorflow:loss = 4.638175, step = 301 (0.336 sec)\n",
      "INFO:tensorflow:global_step/sec: 284.043\n",
      "INFO:tensorflow:loss = 4.1949143, step = 401 (0.355 sec)\n",
      "INFO:tensorflow:global_step/sec: 280.076\n",
      "INFO:tensorflow:loss = 4.051413, step = 501 (0.352 sec)\n",
      "INFO:tensorflow:global_step/sec: 289.947\n",
      "INFO:tensorflow:loss = 6.6894484, step = 601 (0.352 sec)\n",
      "INFO:tensorflow:global_step/sec: 253.023\n",
      "INFO:tensorflow:loss = 4.5623407, step = 701 (0.386 sec)\n",
      "INFO:tensorflow:global_step/sec: 242.779\n",
      "INFO:tensorflow:loss = 4.5186143, step = 801 (0.427 sec)\n",
      "INFO:tensorflow:global_step/sec: 210.781\n",
      "INFO:tensorflow:loss = 4.2917166, step = 901 (0.464 sec)\n",
      "INFO:tensorflow:Calling checkpoint listeners before saving checkpoint 1000...\n",
      "INFO:tensorflow:Saving checkpoints for 1000 into C:\\Users\\manzu\\AppData\\Local\\Temp\\tmp1rwdaht1\\model.ckpt.\n",
      "INFO:tensorflow:Calling checkpoint listeners after saving checkpoint 1000...\n",
      "INFO:tensorflow:Loss for final step: 5.408823.\n"
     ]
    },
    {
     "data": {
      "text/plain": [
       "<tensorflow_estimator.python.estimator.canned.linear.LinearClassifier at 0x2208856c908>"
      ]
     },
     "execution_count": 322,
     "metadata": {},
     "output_type": "execute_result"
    }
   ],
   "source": [
    "model.train(input_fn=input_func,steps=1000)"
   ]
  },
  {
   "cell_type": "code",
   "execution_count": 323,
   "metadata": {},
   "outputs": [],
   "source": [
    "eval_input_func = tf.estimator.inputs.pandas_input_fn(x=X_train,y=y_train,batch_size=10,num_epochs=1,shuffle=False)"
   ]
  },
  {
   "cell_type": "code",
   "execution_count": 324,
   "metadata": {},
   "outputs": [
    {
     "name": "stdout",
     "output_type": "stream",
     "text": [
      "INFO:tensorflow:Calling model_fn.\n",
      "WARNING:tensorflow:From C:\\Users\\manzu\\anaconda3\\envs\\tfdeeplearning\\lib\\site-packages\\tensorflow_estimator\\python\\estimator\\canned\\head.py:642: auc (from tensorflow.python.ops.metrics_impl) is deprecated and will be removed in a future version.\n",
      "Instructions for updating:\n",
      "The value of AUC returned by this may race with the update so this is deprecated. Please use tf.keras.metrics.AUC instead.\n",
      "WARNING:tensorflow:Trapezoidal rule is known to produce incorrect PR-AUCs; please switch to \"careful_interpolation\" instead.\n",
      "WARNING:tensorflow:Trapezoidal rule is known to produce incorrect PR-AUCs; please switch to \"careful_interpolation\" instead.\n",
      "INFO:tensorflow:Done calling model_fn.\n",
      "INFO:tensorflow:Starting evaluation at 2020-07-17T14:56:41Z\n",
      "INFO:tensorflow:Graph was finalized.\n",
      "INFO:tensorflow:Restoring parameters from C:\\Users\\manzu\\AppData\\Local\\Temp\\tmp1rwdaht1\\model.ckpt-1000\n",
      "INFO:tensorflow:Running local_init_op.\n",
      "INFO:tensorflow:Done running local_init_op.\n",
      "INFO:tensorflow:Inference Time : 2.51833s\n",
      "INFO:tensorflow:Finished evaluation at 2020-07-17-14:56:44\n",
      "INFO:tensorflow:Saving dict for global step 1000: accuracy = 0.75875485, accuracy_baseline = 0.64785993, auc = 0.8086208, auc_precision_recall = 0.6803846, average_loss = 0.51962745, global_step = 1000, label/mean = 0.35214007, loss = 5.1363173, precision = 0.705036, prediction/mean = 0.37256762, recall = 0.5414365\n",
      "INFO:tensorflow:Saving 'checkpoint_path' summary for global step 1000: C:\\Users\\manzu\\AppData\\Local\\Temp\\tmp1rwdaht1\\model.ckpt-1000\n"
     ]
    }
   ],
   "source": [
    "results = model.evaluate(eval_input_func)"
   ]
  },
  {
   "cell_type": "code",
   "execution_count": 325,
   "metadata": {},
   "outputs": [
    {
     "data": {
      "text/plain": [
       "{'accuracy': 0.75875485,\n",
       " 'accuracy_baseline': 0.64785993,\n",
       " 'auc': 0.8086208,\n",
       " 'auc_precision_recall': 0.6803846,\n",
       " 'average_loss': 0.51962745,\n",
       " 'label/mean': 0.35214007,\n",
       " 'loss': 5.1363173,\n",
       " 'precision': 0.705036,\n",
       " 'prediction/mean': 0.37256762,\n",
       " 'recall': 0.5414365,\n",
       " 'global_step': 1000}"
      ]
     },
     "execution_count": 325,
     "metadata": {},
     "output_type": "execute_result"
    }
   ],
   "source": [
    "results"
   ]
  },
  {
   "cell_type": "code",
   "execution_count": 326,
   "metadata": {},
   "outputs": [],
   "source": [
    "pred_input_func = tf.estimator.inputs.pandas_input_fn(x=X_test,batch_size=10,num_epochs=1,shuffle=False)"
   ]
  },
  {
   "cell_type": "code",
   "execution_count": 327,
   "metadata": {},
   "outputs": [],
   "source": [
    "predictions = model.predict(pred_input_func)"
   ]
  },
  {
   "cell_type": "code",
   "execution_count": 328,
   "metadata": {},
   "outputs": [
    {
     "name": "stdout",
     "output_type": "stream",
     "text": [
      "INFO:tensorflow:Calling model_fn.\n",
      "INFO:tensorflow:Done calling model_fn.\n",
      "INFO:tensorflow:Graph was finalized.\n",
      "INFO:tensorflow:Restoring parameters from C:\\Users\\manzu\\AppData\\Local\\Temp\\tmp1rwdaht1\\model.ckpt-1000\n",
      "INFO:tensorflow:Running local_init_op.\n",
      "INFO:tensorflow:Done running local_init_op.\n"
     ]
    }
   ],
   "source": [
    "my_pred = list(predictions)"
   ]
  },
  {
   "cell_type": "code",
   "execution_count": 329,
   "metadata": {},
   "outputs": [
    {
     "data": {
      "text/plain": [
       "[{'logits': array([0.19264722], dtype=float32),\n",
       "  'logistic': array([0.5480134], dtype=float32),\n",
       "  'probabilities': array([0.45198664, 0.54801345], dtype=float32),\n",
       "  'class_ids': array([1], dtype=int64),\n",
       "  'classes': array([b'1'], dtype=object),\n",
       "  'all_class_ids': array([0, 1]),\n",
       "  'all_classes': array([b'0', b'1'], dtype=object)},\n",
       " {'logits': array([0.59097755], dtype=float32),\n",
       "  'logistic': array([0.6435894], dtype=float32),\n",
       "  'probabilities': array([0.3564106, 0.6435894], dtype=float32),\n",
       "  'class_ids': array([1], dtype=int64),\n",
       "  'classes': array([b'1'], dtype=object),\n",
       "  'all_class_ids': array([0, 1]),\n",
       "  'all_classes': array([b'0', b'1'], dtype=object)},\n",
       " {'logits': array([-0.45293653], dtype=float32),\n",
       "  'logistic': array([0.38866282], dtype=float32),\n",
       "  'probabilities': array([0.6113372 , 0.38866282], dtype=float32),\n",
       "  'class_ids': array([0], dtype=int64),\n",
       "  'classes': array([b'0'], dtype=object),\n",
       "  'all_class_ids': array([0, 1]),\n",
       "  'all_classes': array([b'0', b'1'], dtype=object)},\n",
       " {'logits': array([-0.63337064], dtype=float32),\n",
       "  'logistic': array([0.34674665], dtype=float32),\n",
       "  'probabilities': array([0.6532534 , 0.34674665], dtype=float32),\n",
       "  'class_ids': array([0], dtype=int64),\n",
       "  'classes': array([b'0'], dtype=object),\n",
       "  'all_class_ids': array([0, 1]),\n",
       "  'all_classes': array([b'0', b'1'], dtype=object)},\n",
       " {'logits': array([-1.6885933], dtype=float32),\n",
       "  'logistic': array([0.15596092], dtype=float32),\n",
       "  'probabilities': array([0.8440391 , 0.15596093], dtype=float32),\n",
       "  'class_ids': array([0], dtype=int64),\n",
       "  'classes': array([b'0'], dtype=object),\n",
       "  'all_class_ids': array([0, 1]),\n",
       "  'all_classes': array([b'0', b'1'], dtype=object)},\n",
       " {'logits': array([0.9164765], dtype=float32),\n",
       "  'logistic': array([0.7143236], dtype=float32),\n",
       "  'probabilities': array([0.2856764 , 0.71432364], dtype=float32),\n",
       "  'class_ids': array([1], dtype=int64),\n",
       "  'classes': array([b'1'], dtype=object),\n",
       "  'all_class_ids': array([0, 1]),\n",
       "  'all_classes': array([b'0', b'1'], dtype=object)},\n",
       " {'logits': array([0.44086933], dtype=float32),\n",
       "  'logistic': array([0.60846615], dtype=float32),\n",
       "  'probabilities': array([0.39153385, 0.60846615], dtype=float32),\n",
       "  'class_ids': array([1], dtype=int64),\n",
       "  'classes': array([b'1'], dtype=object),\n",
       "  'all_class_ids': array([0, 1]),\n",
       "  'all_classes': array([b'0', b'1'], dtype=object)},\n",
       " {'logits': array([-0.55306166], dtype=float32),\n",
       "  'logistic': array([0.3651544], dtype=float32),\n",
       "  'probabilities': array([0.6348457, 0.3651544], dtype=float32),\n",
       "  'class_ids': array([0], dtype=int64),\n",
       "  'classes': array([b'0'], dtype=object),\n",
       "  'all_class_ids': array([0, 1]),\n",
       "  'all_classes': array([b'0', b'1'], dtype=object)},\n",
       " {'logits': array([-1.0398313], dtype=float32),\n",
       "  'logistic': array([0.26118255], dtype=float32),\n",
       "  'probabilities': array([0.73881745, 0.26118255], dtype=float32),\n",
       "  'class_ids': array([0], dtype=int64),\n",
       "  'classes': array([b'0'], dtype=object),\n",
       "  'all_class_ids': array([0, 1]),\n",
       "  'all_classes': array([b'0', b'1'], dtype=object)},\n",
       " {'logits': array([-1.0336176], dtype=float32),\n",
       "  'logistic': array([0.26238337], dtype=float32),\n",
       "  'probabilities': array([0.73761666, 0.26238337], dtype=float32),\n",
       "  'class_ids': array([0], dtype=int64),\n",
       "  'classes': array([b'0'], dtype=object),\n",
       "  'all_class_ids': array([0, 1]),\n",
       "  'all_classes': array([b'0', b'1'], dtype=object)},\n",
       " {'logits': array([-1.8319849], dtype=float32),\n",
       "  'logistic': array([0.13800195], dtype=float32),\n",
       "  'probabilities': array([0.861998, 0.138002], dtype=float32),\n",
       "  'class_ids': array([0], dtype=int64),\n",
       "  'classes': array([b'0'], dtype=object),\n",
       "  'all_class_ids': array([0, 1]),\n",
       "  'all_classes': array([b'0', b'1'], dtype=object)},\n",
       " {'logits': array([-1.6107652], dtype=float32),\n",
       "  'logistic': array([0.16648239], dtype=float32),\n",
       "  'probabilities': array([0.8335176, 0.1664824], dtype=float32),\n",
       "  'class_ids': array([0], dtype=int64),\n",
       "  'classes': array([b'0'], dtype=object),\n",
       "  'all_class_ids': array([0, 1]),\n",
       "  'all_classes': array([b'0', b'1'], dtype=object)},\n",
       " {'logits': array([-0.8049141], dtype=float32),\n",
       "  'logistic': array([0.30897534], dtype=float32),\n",
       "  'probabilities': array([0.69102466, 0.3089753 ], dtype=float32),\n",
       "  'class_ids': array([0], dtype=int64),\n",
       "  'classes': array([b'0'], dtype=object),\n",
       "  'all_class_ids': array([0, 1]),\n",
       "  'all_classes': array([b'0', b'1'], dtype=object)},\n",
       " {'logits': array([0.39228868], dtype=float32),\n",
       "  'logistic': array([0.5968335], dtype=float32),\n",
       "  'probabilities': array([0.40316647, 0.5968335 ], dtype=float32),\n",
       "  'class_ids': array([1], dtype=int64),\n",
       "  'classes': array([b'1'], dtype=object),\n",
       "  'all_class_ids': array([0, 1]),\n",
       "  'all_classes': array([b'0', b'1'], dtype=object)},\n",
       " {'logits': array([-1.4895829], dtype=float32),\n",
       "  'logistic': array([0.18398431], dtype=float32),\n",
       "  'probabilities': array([0.8160156 , 0.18398432], dtype=float32),\n",
       "  'class_ids': array([0], dtype=int64),\n",
       "  'classes': array([b'0'], dtype=object),\n",
       "  'all_class_ids': array([0, 1]),\n",
       "  'all_classes': array([b'0', b'1'], dtype=object)},\n",
       " {'logits': array([-0.64726424], dtype=float32),\n",
       "  'logistic': array([0.34360632], dtype=float32),\n",
       "  'probabilities': array([0.6563937 , 0.34360632], dtype=float32),\n",
       "  'class_ids': array([0], dtype=int64),\n",
       "  'classes': array([b'0'], dtype=object),\n",
       "  'all_class_ids': array([0, 1]),\n",
       "  'all_classes': array([b'0', b'1'], dtype=object)},\n",
       " {'logits': array([-0.44665182], dtype=float32),\n",
       "  'logistic': array([0.39015713], dtype=float32),\n",
       "  'probabilities': array([0.60984284, 0.3901571 ], dtype=float32),\n",
       "  'class_ids': array([0], dtype=int64),\n",
       "  'classes': array([b'0'], dtype=object),\n",
       "  'all_class_ids': array([0, 1]),\n",
       "  'all_classes': array([b'0', b'1'], dtype=object)},\n",
       " {'logits': array([-1.8311429], dtype=float32),\n",
       "  'logistic': array([0.13810217], dtype=float32),\n",
       "  'probabilities': array([0.86189777, 0.13810217], dtype=float32),\n",
       "  'class_ids': array([0], dtype=int64),\n",
       "  'classes': array([b'0'], dtype=object),\n",
       "  'all_class_ids': array([0, 1]),\n",
       "  'all_classes': array([b'0', b'1'], dtype=object)},\n",
       " {'logits': array([-0.5017209], dtype=float32),\n",
       "  'logistic': array([0.37713632], dtype=float32),\n",
       "  'probabilities': array([0.62286365, 0.37713632], dtype=float32),\n",
       "  'class_ids': array([0], dtype=int64),\n",
       "  'classes': array([b'0'], dtype=object),\n",
       "  'all_class_ids': array([0, 1]),\n",
       "  'all_classes': array([b'0', b'1'], dtype=object)},\n",
       " {'logits': array([-1.7293105], dtype=float32),\n",
       "  'logistic': array([0.1506758], dtype=float32),\n",
       "  'probabilities': array([0.8493242 , 0.15067579], dtype=float32),\n",
       "  'class_ids': array([0], dtype=int64),\n",
       "  'classes': array([b'0'], dtype=object),\n",
       "  'all_class_ids': array([0, 1]),\n",
       "  'all_classes': array([b'0', b'1'], dtype=object)},\n",
       " {'logits': array([-1.1813458], dtype=float32),\n",
       "  'logistic': array([0.2348103], dtype=float32),\n",
       "  'probabilities': array([0.7651897 , 0.23481031], dtype=float32),\n",
       "  'class_ids': array([0], dtype=int64),\n",
       "  'classes': array([b'0'], dtype=object),\n",
       "  'all_class_ids': array([0, 1]),\n",
       "  'all_classes': array([b'0', b'1'], dtype=object)},\n",
       " {'logits': array([-0.72180563], dtype=float32),\n",
       "  'logistic': array([0.32699552], dtype=float32),\n",
       "  'probabilities': array([0.6730045, 0.3269955], dtype=float32),\n",
       "  'class_ids': array([0], dtype=int64),\n",
       "  'classes': array([b'0'], dtype=object),\n",
       "  'all_class_ids': array([0, 1]),\n",
       "  'all_classes': array([b'0', b'1'], dtype=object)},\n",
       " {'logits': array([0.74785125], dtype=float32),\n",
       "  'logistic': array([0.67871034], dtype=float32),\n",
       "  'probabilities': array([0.32128966, 0.6787103 ], dtype=float32),\n",
       "  'class_ids': array([1], dtype=int64),\n",
       "  'classes': array([b'1'], dtype=object),\n",
       "  'all_class_ids': array([0, 1]),\n",
       "  'all_classes': array([b'0', b'1'], dtype=object)},\n",
       " {'logits': array([-1.1919174], dtype=float32),\n",
       "  'logistic': array([0.2329162], dtype=float32),\n",
       "  'probabilities': array([0.7670838 , 0.23291619], dtype=float32),\n",
       "  'class_ids': array([0], dtype=int64),\n",
       "  'classes': array([b'0'], dtype=object),\n",
       "  'all_class_ids': array([0, 1]),\n",
       "  'all_classes': array([b'0', b'1'], dtype=object)},\n",
       " {'logits': array([-1.4715338], dtype=float32),\n",
       "  'logistic': array([0.18670961], dtype=float32),\n",
       "  'probabilities': array([0.81329036, 0.18670958], dtype=float32),\n",
       "  'class_ids': array([0], dtype=int64),\n",
       "  'classes': array([b'0'], dtype=object),\n",
       "  'all_class_ids': array([0, 1]),\n",
       "  'all_classes': array([b'0', b'1'], dtype=object)},\n",
       " {'logits': array([1.2811475], dtype=float32),\n",
       "  'logistic': array([0.782645], dtype=float32),\n",
       "  'probabilities': array([0.21735495, 0.78264505], dtype=float32),\n",
       "  'class_ids': array([1], dtype=int64),\n",
       "  'classes': array([b'1'], dtype=object),\n",
       "  'all_class_ids': array([0, 1]),\n",
       "  'all_classes': array([b'0', b'1'], dtype=object)},\n",
       " {'logits': array([-1.3764619], dtype=float32),\n",
       "  'logistic': array([0.20157781], dtype=float32),\n",
       "  'probabilities': array([0.79842216, 0.20157784], dtype=float32),\n",
       "  'class_ids': array([0], dtype=int64),\n",
       "  'classes': array([b'0'], dtype=object),\n",
       "  'all_class_ids': array([0, 1]),\n",
       "  'all_classes': array([b'0', b'1'], dtype=object)},\n",
       " {'logits': array([-0.7147123], dtype=float32),\n",
       "  'logistic': array([0.32855844], dtype=float32),\n",
       "  'probabilities': array([0.67144156, 0.32855842], dtype=float32),\n",
       "  'class_ids': array([0], dtype=int64),\n",
       "  'classes': array([b'0'], dtype=object),\n",
       "  'all_class_ids': array([0, 1]),\n",
       "  'all_classes': array([b'0', b'1'], dtype=object)},\n",
       " {'logits': array([-2.0945358], dtype=float32),\n",
       "  'logistic': array([0.10962905], dtype=float32),\n",
       "  'probabilities': array([0.89037097, 0.10962905], dtype=float32),\n",
       "  'class_ids': array([0], dtype=int64),\n",
       "  'classes': array([b'0'], dtype=object),\n",
       "  'all_class_ids': array([0, 1]),\n",
       "  'all_classes': array([b'0', b'1'], dtype=object)},\n",
       " {'logits': array([0.43279266], dtype=float32),\n",
       "  'logistic': array([0.6065403], dtype=float32),\n",
       "  'probabilities': array([0.39345968, 0.6065403 ], dtype=float32),\n",
       "  'class_ids': array([1], dtype=int64),\n",
       "  'classes': array([b'1'], dtype=object),\n",
       "  'all_class_ids': array([0, 1]),\n",
       "  'all_classes': array([b'0', b'1'], dtype=object)},\n",
       " {'logits': array([2.9501224], dtype=float32),\n",
       "  'logistic': array([0.9502692], dtype=float32),\n",
       "  'probabilities': array([0.04973073, 0.9502692 ], dtype=float32),\n",
       "  'class_ids': array([1], dtype=int64),\n",
       "  'classes': array([b'1'], dtype=object),\n",
       "  'all_class_ids': array([0, 1]),\n",
       "  'all_classes': array([b'0', b'1'], dtype=object)},\n",
       " {'logits': array([-0.27502447], dtype=float32),\n",
       "  'logistic': array([0.43167403], dtype=float32),\n",
       "  'probabilities': array([0.568326  , 0.43167403], dtype=float32),\n",
       "  'class_ids': array([0], dtype=int64),\n",
       "  'classes': array([b'0'], dtype=object),\n",
       "  'all_class_ids': array([0, 1]),\n",
       "  'all_classes': array([b'0', b'1'], dtype=object)},\n",
       " {'logits': array([-0.6791257], dtype=float32),\n",
       "  'logistic': array([0.33645648], dtype=float32),\n",
       "  'probabilities': array([0.6635436 , 0.33645648], dtype=float32),\n",
       "  'class_ids': array([0], dtype=int64),\n",
       "  'classes': array([b'0'], dtype=object),\n",
       "  'all_class_ids': array([0, 1]),\n",
       "  'all_classes': array([b'0', b'1'], dtype=object)},\n",
       " {'logits': array([0.37624145], dtype=float32),\n",
       "  'logistic': array([0.59296626], dtype=float32),\n",
       "  'probabilities': array([0.40703374, 0.59296626], dtype=float32),\n",
       "  'class_ids': array([1], dtype=int64),\n",
       "  'classes': array([b'1'], dtype=object),\n",
       "  'all_class_ids': array([0, 1]),\n",
       "  'all_classes': array([b'0', b'1'], dtype=object)},\n",
       " {'logits': array([-1.0585206], dtype=float32),\n",
       "  'logistic': array([0.2575923], dtype=float32),\n",
       "  'probabilities': array([0.74240774, 0.2575923 ], dtype=float32),\n",
       "  'class_ids': array([0], dtype=int64),\n",
       "  'classes': array([b'0'], dtype=object),\n",
       "  'all_class_ids': array([0, 1]),\n",
       "  'all_classes': array([b'0', b'1'], dtype=object)},\n",
       " {'logits': array([-0.4708742], dtype=float32),\n",
       "  'logistic': array([0.38440937], dtype=float32),\n",
       "  'probabilities': array([0.61559063, 0.38440937], dtype=float32),\n",
       "  'class_ids': array([0], dtype=int64),\n",
       "  'classes': array([b'0'], dtype=object),\n",
       "  'all_class_ids': array([0, 1]),\n",
       "  'all_classes': array([b'0', b'1'], dtype=object)},\n",
       " {'logits': array([0.15007246], dtype=float32),\n",
       "  'logistic': array([0.53744787], dtype=float32),\n",
       "  'probabilities': array([0.46255216, 0.53744787], dtype=float32),\n",
       "  'class_ids': array([1], dtype=int64),\n",
       "  'classes': array([b'1'], dtype=object),\n",
       "  'all_class_ids': array([0, 1]),\n",
       "  'all_classes': array([b'0', b'1'], dtype=object)},\n",
       " {'logits': array([0.6694273], dtype=float32),\n",
       "  'logistic': array([0.6613749], dtype=float32),\n",
       "  'probabilities': array([0.3386251 , 0.66137487], dtype=float32),\n",
       "  'class_ids': array([1], dtype=int64),\n",
       "  'classes': array([b'1'], dtype=object),\n",
       "  'all_class_ids': array([0, 1]),\n",
       "  'all_classes': array([b'0', b'1'], dtype=object)},\n",
       " {'logits': array([1.166888], dtype=float32),\n",
       "  'logistic': array([0.762582], dtype=float32),\n",
       "  'probabilities': array([0.23741794, 0.762582  ], dtype=float32),\n",
       "  'class_ids': array([1], dtype=int64),\n",
       "  'classes': array([b'1'], dtype=object),\n",
       "  'all_class_ids': array([0, 1]),\n",
       "  'all_classes': array([b'0', b'1'], dtype=object)},\n",
       " {'logits': array([-0.6230096], dtype=float32),\n",
       "  'logistic': array([0.34909728], dtype=float32),\n",
       "  'probabilities': array([0.65090275, 0.34909725], dtype=float32),\n",
       "  'class_ids': array([0], dtype=int64),\n",
       "  'classes': array([b'0'], dtype=object),\n",
       "  'all_class_ids': array([0, 1]),\n",
       "  'all_classes': array([b'0', b'1'], dtype=object)},\n",
       " {'logits': array([-1.3847418], dtype=float32),\n",
       "  'logistic': array([0.20024851], dtype=float32),\n",
       "  'probabilities': array([0.7997515 , 0.20024854], dtype=float32),\n",
       "  'class_ids': array([0], dtype=int64),\n",
       "  'classes': array([b'0'], dtype=object),\n",
       "  'all_class_ids': array([0, 1]),\n",
       "  'all_classes': array([b'0', b'1'], dtype=object)},\n",
       " {'logits': array([0.2386421], dtype=float32),\n",
       "  'logistic': array([0.559379], dtype=float32),\n",
       "  'probabilities': array([0.440621, 0.559379], dtype=float32),\n",
       "  'class_ids': array([1], dtype=int64),\n",
       "  'classes': array([b'1'], dtype=object),\n",
       "  'all_class_ids': array([0, 1]),\n",
       "  'all_classes': array([b'0', b'1'], dtype=object)},\n",
       " {'logits': array([-1.6751273], dtype=float32),\n",
       "  'logistic': array([0.15774173], dtype=float32),\n",
       "  'probabilities': array([0.8422582 , 0.15774179], dtype=float32),\n",
       "  'class_ids': array([0], dtype=int64),\n",
       "  'classes': array([b'0'], dtype=object),\n",
       "  'all_class_ids': array([0, 1]),\n",
       "  'all_classes': array([b'0', b'1'], dtype=object)},\n",
       " {'logits': array([0.24242139], dtype=float32),\n",
       "  'logistic': array([0.56031024], dtype=float32),\n",
       "  'probabilities': array([0.43968976, 0.5603103 ], dtype=float32),\n",
       "  'class_ids': array([1], dtype=int64),\n",
       "  'classes': array([b'1'], dtype=object),\n",
       "  'all_class_ids': array([0, 1]),\n",
       "  'all_classes': array([b'0', b'1'], dtype=object)},\n",
       " {'logits': array([-1.7620273], dtype=float32),\n",
       "  'logistic': array([0.14653662], dtype=float32),\n",
       "  'probabilities': array([0.8534634 , 0.14653663], dtype=float32),\n",
       "  'class_ids': array([0], dtype=int64),\n",
       "  'classes': array([b'0'], dtype=object),\n",
       "  'all_class_ids': array([0, 1]),\n",
       "  'all_classes': array([b'0', b'1'], dtype=object)},\n",
       " {'logits': array([-2.0155003], dtype=float32),\n",
       "  'logistic': array([0.11758503], dtype=float32),\n",
       "  'probabilities': array([0.88241494, 0.11758508], dtype=float32),\n",
       "  'class_ids': array([0], dtype=int64),\n",
       "  'classes': array([b'0'], dtype=object),\n",
       "  'all_class_ids': array([0, 1]),\n",
       "  'all_classes': array([b'0', b'1'], dtype=object)},\n",
       " {'logits': array([0.51962245], dtype=float32),\n",
       "  'logistic': array([0.62705946], dtype=float32),\n",
       "  'probabilities': array([0.3729405 , 0.62705946], dtype=float32),\n",
       "  'class_ids': array([1], dtype=int64),\n",
       "  'classes': array([b'1'], dtype=object),\n",
       "  'all_class_ids': array([0, 1]),\n",
       "  'all_classes': array([b'0', b'1'], dtype=object)},\n",
       " {'logits': array([-1.3737843], dtype=float32),\n",
       "  'logistic': array([0.20200911], dtype=float32),\n",
       "  'probabilities': array([0.7979909 , 0.20200913], dtype=float32),\n",
       "  'class_ids': array([0], dtype=int64),\n",
       "  'classes': array([b'0'], dtype=object),\n",
       "  'all_class_ids': array([0, 1]),\n",
       "  'all_classes': array([b'0', b'1'], dtype=object)},\n",
       " {'logits': array([-1.2960258], dtype=float32),\n",
       "  'logistic': array([0.21483463], dtype=float32),\n",
       "  'probabilities': array([0.78516537, 0.21483465], dtype=float32),\n",
       "  'class_ids': array([0], dtype=int64),\n",
       "  'classes': array([b'0'], dtype=object),\n",
       "  'all_class_ids': array([0, 1]),\n",
       "  'all_classes': array([b'0', b'1'], dtype=object)},\n",
       " {'logits': array([-1.9262779], dtype=float32),\n",
       "  'logistic': array([0.12716313], dtype=float32),\n",
       "  'probabilities': array([0.8728368 , 0.12716313], dtype=float32),\n",
       "  'class_ids': array([0], dtype=int64),\n",
       "  'classes': array([b'0'], dtype=object),\n",
       "  'all_class_ids': array([0, 1]),\n",
       "  'all_classes': array([b'0', b'1'], dtype=object)},\n",
       " {'logits': array([-1.5057238], dtype=float32),\n",
       "  'logistic': array([0.18157336], dtype=float32),\n",
       "  'probabilities': array([0.81842667, 0.1815734 ], dtype=float32),\n",
       "  'class_ids': array([0], dtype=int64),\n",
       "  'classes': array([b'0'], dtype=object),\n",
       "  'all_class_ids': array([0, 1]),\n",
       "  'all_classes': array([b'0', b'1'], dtype=object)},\n",
       " {'logits': array([-1.0065669], dtype=float32),\n",
       "  'logistic': array([0.26765227], dtype=float32),\n",
       "  'probabilities': array([0.7323477 , 0.26765224], dtype=float32),\n",
       "  'class_ids': array([0], dtype=int64),\n",
       "  'classes': array([b'0'], dtype=object),\n",
       "  'all_class_ids': array([0, 1]),\n",
       "  'all_classes': array([b'0', b'1'], dtype=object)},\n",
       " {'logits': array([-0.9830848], dtype=float32),\n",
       "  'logistic': array([0.27228013], dtype=float32),\n",
       "  'probabilities': array([0.7277199 , 0.27228013], dtype=float32),\n",
       "  'class_ids': array([0], dtype=int64),\n",
       "  'classes': array([b'0'], dtype=object),\n",
       "  'all_class_ids': array([0, 1]),\n",
       "  'all_classes': array([b'0', b'1'], dtype=object)},\n",
       " {'logits': array([-0.4022113], dtype=float32),\n",
       "  'logistic': array([0.40078118], dtype=float32),\n",
       "  'probabilities': array([0.5992188 , 0.40078112], dtype=float32),\n",
       "  'class_ids': array([0], dtype=int64),\n",
       "  'classes': array([b'0'], dtype=object),\n",
       "  'all_class_ids': array([0, 1]),\n",
       "  'all_classes': array([b'0', b'1'], dtype=object)},\n",
       " {'logits': array([-1.839799], dtype=float32),\n",
       "  'logistic': array([0.13707507], dtype=float32),\n",
       "  'probabilities': array([0.86292493, 0.13707507], dtype=float32),\n",
       "  'class_ids': array([0], dtype=int64),\n",
       "  'classes': array([b'0'], dtype=object),\n",
       "  'all_class_ids': array([0, 1]),\n",
       "  'all_classes': array([b'0', b'1'], dtype=object)},\n",
       " {'logits': array([-1.1727614], dtype=float32),\n",
       "  'logistic': array([0.2363562], dtype=float32),\n",
       "  'probabilities': array([0.7636438 , 0.23635621], dtype=float32),\n",
       "  'class_ids': array([0], dtype=int64),\n",
       "  'classes': array([b'0'], dtype=object),\n",
       "  'all_class_ids': array([0, 1]),\n",
       "  'all_classes': array([b'0', b'1'], dtype=object)},\n",
       " {'logits': array([-1.2397542], dtype=float32),\n",
       "  'logistic': array([0.22447878], dtype=float32),\n",
       "  'probabilities': array([0.7755212 , 0.22447877], dtype=float32),\n",
       "  'class_ids': array([0], dtype=int64),\n",
       "  'classes': array([b'0'], dtype=object),\n",
       "  'all_class_ids': array([0, 1]),\n",
       "  'all_classes': array([b'0', b'1'], dtype=object)},\n",
       " {'logits': array([-1.1931599], dtype=float32),\n",
       "  'logistic': array([0.2326943], dtype=float32),\n",
       "  'probabilities': array([0.76730573, 0.23269425], dtype=float32),\n",
       "  'class_ids': array([0], dtype=int64),\n",
       "  'classes': array([b'0'], dtype=object),\n",
       "  'all_class_ids': array([0, 1]),\n",
       "  'all_classes': array([b'0', b'1'], dtype=object)},\n",
       " {'logits': array([-0.01007104], dtype=float32),\n",
       "  'logistic': array([0.4974823], dtype=float32),\n",
       "  'probabilities': array([0.50251776, 0.49748227], dtype=float32),\n",
       "  'class_ids': array([0], dtype=int64),\n",
       "  'classes': array([b'0'], dtype=object),\n",
       "  'all_class_ids': array([0, 1]),\n",
       "  'all_classes': array([b'0', b'1'], dtype=object)},\n",
       " {'logits': array([-1.5556151], dtype=float32),\n",
       "  'logistic': array([0.17427675], dtype=float32),\n",
       "  'probabilities': array([0.82572323, 0.17427675], dtype=float32),\n",
       "  'class_ids': array([0], dtype=int64),\n",
       "  'classes': array([b'0'], dtype=object),\n",
       "  'all_class_ids': array([0, 1]),\n",
       "  'all_classes': array([b'0', b'1'], dtype=object)},\n",
       " {'logits': array([-1.0689149], dtype=float32),\n",
       "  'logistic': array([0.2556095], dtype=float32),\n",
       "  'probabilities': array([0.7443905 , 0.25560948], dtype=float32),\n",
       "  'class_ids': array([0], dtype=int64),\n",
       "  'classes': array([b'0'], dtype=object),\n",
       "  'all_class_ids': array([0, 1]),\n",
       "  'all_classes': array([b'0', b'1'], dtype=object)},\n",
       " {'logits': array([0.6971066], dtype=float32),\n",
       "  'logistic': array([0.6675459], dtype=float32),\n",
       "  'probabilities': array([0.33245406, 0.667546  ], dtype=float32),\n",
       "  'class_ids': array([1], dtype=int64),\n",
       "  'classes': array([b'1'], dtype=object),\n",
       "  'all_class_ids': array([0, 1]),\n",
       "  'all_classes': array([b'0', b'1'], dtype=object)},\n",
       " {'logits': array([0.5885186], dtype=float32),\n",
       "  'logistic': array([0.64302516], dtype=float32),\n",
       "  'probabilities': array([0.3569748 , 0.64302516], dtype=float32),\n",
       "  'class_ids': array([1], dtype=int64),\n",
       "  'classes': array([b'1'], dtype=object),\n",
       "  'all_class_ids': array([0, 1]),\n",
       "  'all_classes': array([b'0', b'1'], dtype=object)},\n",
       " {'logits': array([0.09290338], dtype=float32),\n",
       "  'logistic': array([0.52320915], dtype=float32),\n",
       "  'probabilities': array([0.47679085, 0.52320915], dtype=float32),\n",
       "  'class_ids': array([1], dtype=int64),\n",
       "  'classes': array([b'1'], dtype=object),\n",
       "  'all_class_ids': array([0, 1]),\n",
       "  'all_classes': array([b'0', b'1'], dtype=object)},\n",
       " {'logits': array([-0.5025224], dtype=float32),\n",
       "  'logistic': array([0.3769481], dtype=float32),\n",
       "  'probabilities': array([0.62305194, 0.37694806], dtype=float32),\n",
       "  'class_ids': array([0], dtype=int64),\n",
       "  'classes': array([b'0'], dtype=object),\n",
       "  'all_class_ids': array([0, 1]),\n",
       "  'all_classes': array([b'0', b'1'], dtype=object)},\n",
       " {'logits': array([-0.01633108], dtype=float32),\n",
       "  'logistic': array([0.49591732], dtype=float32),\n",
       "  'probabilities': array([0.5040827 , 0.49591732], dtype=float32),\n",
       "  'class_ids': array([0], dtype=int64),\n",
       "  'classes': array([b'0'], dtype=object),\n",
       "  'all_class_ids': array([0, 1]),\n",
       "  'all_classes': array([b'0', b'1'], dtype=object)},\n",
       " {'logits': array([-1.4656159], dtype=float32),\n",
       "  'logistic': array([0.18760991], dtype=float32),\n",
       "  'probabilities': array([0.81239015, 0.18760991], dtype=float32),\n",
       "  'class_ids': array([0], dtype=int64),\n",
       "  'classes': array([b'0'], dtype=object),\n",
       "  'all_class_ids': array([0, 1]),\n",
       "  'all_classes': array([b'0', b'1'], dtype=object)},\n",
       " {'logits': array([-1.3525544], dtype=float32),\n",
       "  'logistic': array([0.20545307], dtype=float32),\n",
       "  'probabilities': array([0.7945469 , 0.20545307], dtype=float32),\n",
       "  'class_ids': array([0], dtype=int64),\n",
       "  'classes': array([b'0'], dtype=object),\n",
       "  'all_class_ids': array([0, 1]),\n",
       "  'all_classes': array([b'0', b'1'], dtype=object)},\n",
       " {'logits': array([-1.5708209], dtype=float32),\n",
       "  'logistic': array([0.1720994], dtype=float32),\n",
       "  'probabilities': array([0.82790065, 0.1720994 ], dtype=float32),\n",
       "  'class_ids': array([0], dtype=int64),\n",
       "  'classes': array([b'0'], dtype=object),\n",
       "  'all_class_ids': array([0, 1]),\n",
       "  'all_classes': array([b'0', b'1'], dtype=object)},\n",
       " {'logits': array([-1.8679558], dtype=float32),\n",
       "  'logistic': array([0.13377842], dtype=float32),\n",
       "  'probabilities': array([0.86622155, 0.13377842], dtype=float32),\n",
       "  'class_ids': array([0], dtype=int64),\n",
       "  'classes': array([b'0'], dtype=object),\n",
       "  'all_class_ids': array([0, 1]),\n",
       "  'all_classes': array([b'0', b'1'], dtype=object)},\n",
       " {'logits': array([0.48906958], dtype=float32),\n",
       "  'logistic': array([0.61988723], dtype=float32),\n",
       "  'probabilities': array([0.3801128 , 0.61988723], dtype=float32),\n",
       "  'class_ids': array([1], dtype=int64),\n",
       "  'classes': array([b'1'], dtype=object),\n",
       "  'all_class_ids': array([0, 1]),\n",
       "  'all_classes': array([b'0', b'1'], dtype=object)},\n",
       " {'logits': array([-1.1207362], dtype=float32),\n",
       "  'logistic': array([0.24587476], dtype=float32),\n",
       "  'probabilities': array([0.75412524, 0.24587475], dtype=float32),\n",
       "  'class_ids': array([0], dtype=int64),\n",
       "  'classes': array([b'0'], dtype=object),\n",
       "  'all_class_ids': array([0, 1]),\n",
       "  'all_classes': array([b'0', b'1'], dtype=object)},\n",
       " {'logits': array([-0.18125427], dtype=float32),\n",
       "  'logistic': array([0.45481008], dtype=float32),\n",
       "  'probabilities': array([0.5451899 , 0.45481008], dtype=float32),\n",
       "  'class_ids': array([0], dtype=int64),\n",
       "  'classes': array([b'0'], dtype=object),\n",
       "  'all_class_ids': array([0, 1]),\n",
       "  'all_classes': array([b'0', b'1'], dtype=object)},\n",
       " {'logits': array([0.4064169], dtype=float32),\n",
       "  'logistic': array([0.60022837], dtype=float32),\n",
       "  'probabilities': array([0.3997716, 0.6002284], dtype=float32),\n",
       "  'class_ids': array([1], dtype=int64),\n",
       "  'classes': array([b'1'], dtype=object),\n",
       "  'all_class_ids': array([0, 1]),\n",
       "  'all_classes': array([b'0', b'1'], dtype=object)},\n",
       " {'logits': array([-0.73871636], dtype=float32),\n",
       "  'logistic': array([0.32328492], dtype=float32),\n",
       "  'probabilities': array([0.67671514, 0.32328492], dtype=float32),\n",
       "  'class_ids': array([0], dtype=int64),\n",
       "  'classes': array([b'0'], dtype=object),\n",
       "  'all_class_ids': array([0, 1]),\n",
       "  'all_classes': array([b'0', b'1'], dtype=object)},\n",
       " {'logits': array([0.7366481], dtype=float32),\n",
       "  'logistic': array([0.67626244], dtype=float32),\n",
       "  'probabilities': array([0.32373753, 0.67626244], dtype=float32),\n",
       "  'class_ids': array([1], dtype=int64),\n",
       "  'classes': array([b'1'], dtype=object),\n",
       "  'all_class_ids': array([0, 1]),\n",
       "  'all_classes': array([b'0', b'1'], dtype=object)},\n",
       " {'logits': array([-1.8367019], dtype=float32),\n",
       "  'logistic': array([0.13744184], dtype=float32),\n",
       "  'probabilities': array([0.8625582 , 0.13744183], dtype=float32),\n",
       "  'class_ids': array([0], dtype=int64),\n",
       "  'classes': array([b'0'], dtype=object),\n",
       "  'all_class_ids': array([0, 1]),\n",
       "  'all_classes': array([b'0', b'1'], dtype=object)},\n",
       " {'logits': array([0.5596434], dtype=float32),\n",
       "  'logistic': array([0.63637], dtype=float32),\n",
       "  'probabilities': array([0.36362997, 0.63637   ], dtype=float32),\n",
       "  'class_ids': array([1], dtype=int64),\n",
       "  'classes': array([b'1'], dtype=object),\n",
       "  'all_class_ids': array([0, 1]),\n",
       "  'all_classes': array([b'0', b'1'], dtype=object)},\n",
       " {'logits': array([-1.8878332], dtype=float32),\n",
       "  'logistic': array([0.13149172], dtype=float32),\n",
       "  'probabilities': array([0.8685083 , 0.13149172], dtype=float32),\n",
       "  'class_ids': array([0], dtype=int64),\n",
       "  'classes': array([b'0'], dtype=object),\n",
       "  'all_class_ids': array([0, 1]),\n",
       "  'all_classes': array([b'0', b'1'], dtype=object)},\n",
       " {'logits': array([0.3080213], dtype=float32),\n",
       "  'logistic': array([0.57640225], dtype=float32),\n",
       "  'probabilities': array([0.4235978 , 0.57640225], dtype=float32),\n",
       "  'class_ids': array([1], dtype=int64),\n",
       "  'classes': array([b'1'], dtype=object),\n",
       "  'all_class_ids': array([0, 1]),\n",
       "  'all_classes': array([b'0', b'1'], dtype=object)},\n",
       " {'logits': array([-0.6236438], dtype=float32),\n",
       "  'logistic': array([0.3489532], dtype=float32),\n",
       "  'probabilities': array([0.6510468, 0.3489532], dtype=float32),\n",
       "  'class_ids': array([0], dtype=int64),\n",
       "  'classes': array([b'0'], dtype=object),\n",
       "  'all_class_ids': array([0, 1]),\n",
       "  'all_classes': array([b'0', b'1'], dtype=object)},\n",
       " {'logits': array([-1.5633328], dtype=float32),\n",
       "  'logistic': array([0.17316893], dtype=float32),\n",
       "  'probabilities': array([0.82683104, 0.17316893], dtype=float32),\n",
       "  'class_ids': array([0], dtype=int64),\n",
       "  'classes': array([b'0'], dtype=object),\n",
       "  'all_class_ids': array([0, 1]),\n",
       "  'all_classes': array([b'0', b'1'], dtype=object)},\n",
       " {'logits': array([0.26592517], dtype=float32),\n",
       "  'logistic': array([0.56609225], dtype=float32),\n",
       "  'probabilities': array([0.43390778, 0.5660923 ], dtype=float32),\n",
       "  'class_ids': array([1], dtype=int64),\n",
       "  'classes': array([b'1'], dtype=object),\n",
       "  'all_class_ids': array([0, 1]),\n",
       "  'all_classes': array([b'0', b'1'], dtype=object)},\n",
       " {'logits': array([0.46492696], dtype=float32),\n",
       "  'logistic': array([0.61418235], dtype=float32),\n",
       "  'probabilities': array([0.38581768, 0.61418235], dtype=float32),\n",
       "  'class_ids': array([1], dtype=int64),\n",
       "  'classes': array([b'1'], dtype=object),\n",
       "  'all_class_ids': array([0, 1]),\n",
       "  'all_classes': array([b'0', b'1'], dtype=object)},\n",
       " {'logits': array([0.26474214], dtype=float32),\n",
       "  'logistic': array([0.5658016], dtype=float32),\n",
       "  'probabilities': array([0.43419835, 0.5658016 ], dtype=float32),\n",
       "  'class_ids': array([1], dtype=int64),\n",
       "  'classes': array([b'1'], dtype=object),\n",
       "  'all_class_ids': array([0, 1]),\n",
       "  'all_classes': array([b'0', b'1'], dtype=object)},\n",
       " {'logits': array([-1.4748045], dtype=float32),\n",
       "  'logistic': array([0.18621343], dtype=float32),\n",
       "  'probabilities': array([0.81378657, 0.18621345], dtype=float32),\n",
       "  'class_ids': array([0], dtype=int64),\n",
       "  'classes': array([b'0'], dtype=object),\n",
       "  'all_class_ids': array([0, 1]),\n",
       "  'all_classes': array([b'0', b'1'], dtype=object)},\n",
       " {'logits': array([-0.5587591], dtype=float32),\n",
       "  'logistic': array([0.36383462], dtype=float32),\n",
       "  'probabilities': array([0.6361654 , 0.36383462], dtype=float32),\n",
       "  'class_ids': array([0], dtype=int64),\n",
       "  'classes': array([b'0'], dtype=object),\n",
       "  'all_class_ids': array([0, 1]),\n",
       "  'all_classes': array([b'0', b'1'], dtype=object)},\n",
       " {'logits': array([-1.653286], dtype=float32),\n",
       "  'logistic': array([0.16066533], dtype=float32),\n",
       "  'probabilities': array([0.83933467, 0.16066533], dtype=float32),\n",
       "  'class_ids': array([0], dtype=int64),\n",
       "  'classes': array([b'0'], dtype=object),\n",
       "  'all_class_ids': array([0, 1]),\n",
       "  'all_classes': array([b'0', b'1'], dtype=object)},\n",
       " {'logits': array([0.9220991], dtype=float32),\n",
       "  'logistic': array([0.7154696], dtype=float32),\n",
       "  'probabilities': array([0.28453037, 0.7154696 ], dtype=float32),\n",
       "  'class_ids': array([1], dtype=int64),\n",
       "  'classes': array([b'1'], dtype=object),\n",
       "  'all_class_ids': array([0, 1]),\n",
       "  'all_classes': array([b'0', b'1'], dtype=object)},\n",
       " {'logits': array([1.5525339], dtype=float32),\n",
       "  'logistic': array([0.8252794], dtype=float32),\n",
       "  'probabilities': array([0.1747206, 0.8252794], dtype=float32),\n",
       "  'class_ids': array([1], dtype=int64),\n",
       "  'classes': array([b'1'], dtype=object),\n",
       "  'all_class_ids': array([0, 1]),\n",
       "  'all_classes': array([b'0', b'1'], dtype=object)},\n",
       " {'logits': array([0.544513], dtype=float32),\n",
       "  'logistic': array([0.6328616], dtype=float32),\n",
       "  'probabilities': array([0.3671384, 0.6328616], dtype=float32),\n",
       "  'class_ids': array([1], dtype=int64),\n",
       "  'classes': array([b'1'], dtype=object),\n",
       "  'all_class_ids': array([0, 1]),\n",
       "  'all_classes': array([b'0', b'1'], dtype=object)},\n",
       " {'logits': array([-1.2083248], dtype=float32),\n",
       "  'logistic': array([0.2299976], dtype=float32),\n",
       "  'probabilities': array([0.7700024 , 0.22999759], dtype=float32),\n",
       "  'class_ids': array([0], dtype=int64),\n",
       "  'classes': array([b'0'], dtype=object),\n",
       "  'all_class_ids': array([0, 1]),\n",
       "  'all_classes': array([b'0', b'1'], dtype=object)},\n",
       " {'logits': array([-0.15250504], dtype=float32),\n",
       "  'logistic': array([0.46194747], dtype=float32),\n",
       "  'probabilities': array([0.5380525 , 0.46194744], dtype=float32),\n",
       "  'class_ids': array([0], dtype=int64),\n",
       "  'classes': array([b'0'], dtype=object),\n",
       "  'all_class_ids': array([0, 1]),\n",
       "  'all_classes': array([b'0', b'1'], dtype=object)},\n",
       " {'logits': array([-0.40519983], dtype=float32),\n",
       "  'logistic': array([0.4000637], dtype=float32),\n",
       "  'probabilities': array([0.5999363 , 0.40006363], dtype=float32),\n",
       "  'class_ids': array([0], dtype=int64),\n",
       "  'classes': array([b'0'], dtype=object),\n",
       "  'all_class_ids': array([0, 1]),\n",
       "  'all_classes': array([b'0', b'1'], dtype=object)},\n",
       " {'logits': array([-0.14992124], dtype=float32),\n",
       "  'logistic': array([0.46258974], dtype=float32),\n",
       "  'probabilities': array([0.53741026, 0.46258974], dtype=float32),\n",
       "  'class_ids': array([0], dtype=int64),\n",
       "  'classes': array([b'0'], dtype=object),\n",
       "  'all_class_ids': array([0, 1]),\n",
       "  'all_classes': array([b'0', b'1'], dtype=object)},\n",
       " {'logits': array([-0.57807463], dtype=float32),\n",
       "  'logistic': array([0.35937575], dtype=float32),\n",
       "  'probabilities': array([0.6406242 , 0.35937572], dtype=float32),\n",
       "  'class_ids': array([0], dtype=int64),\n",
       "  'classes': array([b'0'], dtype=object),\n",
       "  'all_class_ids': array([0, 1]),\n",
       "  'all_classes': array([b'0', b'1'], dtype=object)},\n",
       " {'logits': array([-0.12534362], dtype=float32),\n",
       "  'logistic': array([0.46870506], dtype=float32),\n",
       "  'probabilities': array([0.53129494, 0.46870503], dtype=float32),\n",
       "  'class_ids': array([0], dtype=int64),\n",
       "  'classes': array([b'0'], dtype=object),\n",
       "  'all_class_ids': array([0, 1]),\n",
       "  'all_classes': array([b'0', b'1'], dtype=object)},\n",
       " {'logits': array([-1.6208388], dtype=float32),\n",
       "  'logistic': array([0.16508928], dtype=float32),\n",
       "  'probabilities': array([0.83491075, 0.16508922], dtype=float32),\n",
       "  'class_ids': array([0], dtype=int64),\n",
       "  'classes': array([b'0'], dtype=object),\n",
       "  'all_class_ids': array([0, 1]),\n",
       "  'all_classes': array([b'0', b'1'], dtype=object)},\n",
       " {'logits': array([0.28523827], dtype=float32),\n",
       "  'logistic': array([0.57083], dtype=float32),\n",
       "  'probabilities': array([0.42917, 0.57083], dtype=float32),\n",
       "  'class_ids': array([1], dtype=int64),\n",
       "  'classes': array([b'1'], dtype=object),\n",
       "  'all_class_ids': array([0, 1]),\n",
       "  'all_classes': array([b'0', b'1'], dtype=object)},\n",
       " {'logits': array([0.27896714], dtype=float32),\n",
       "  'logistic': array([0.569293], dtype=float32),\n",
       "  'probabilities': array([0.43070704, 0.569293  ], dtype=float32),\n",
       "  'class_ids': array([1], dtype=int64),\n",
       "  'classes': array([b'1'], dtype=object),\n",
       "  'all_class_ids': array([0, 1]),\n",
       "  'all_classes': array([b'0', b'1'], dtype=object)},\n",
       " {'logits': array([-1.0469446], dtype=float32),\n",
       "  'logistic': array([0.25981224], dtype=float32),\n",
       "  'probabilities': array([0.7401877 , 0.25981224], dtype=float32),\n",
       "  'class_ids': array([0], dtype=int64),\n",
       "  'classes': array([b'0'], dtype=object),\n",
       "  'all_class_ids': array([0, 1]),\n",
       "  'all_classes': array([b'0', b'1'], dtype=object)},\n",
       " {'logits': array([-1.4764137], dtype=float32),\n",
       "  'logistic': array([0.18596974], dtype=float32),\n",
       "  'probabilities': array([0.8140303 , 0.18596973], dtype=float32),\n",
       "  'class_ids': array([0], dtype=int64),\n",
       "  'classes': array([b'0'], dtype=object),\n",
       "  'all_class_ids': array([0, 1]),\n",
       "  'all_classes': array([b'0', b'1'], dtype=object)},\n",
       " {'logits': array([-1.4453909], dtype=float32),\n",
       "  'logistic': array([0.19071192], dtype=float32),\n",
       "  'probabilities': array([0.80928814, 0.19071193], dtype=float32),\n",
       "  'class_ids': array([0], dtype=int64),\n",
       "  'classes': array([b'0'], dtype=object),\n",
       "  'all_class_ids': array([0, 1]),\n",
       "  'all_classes': array([b'0', b'1'], dtype=object)},\n",
       " {'logits': array([-0.8657975], dtype=float32),\n",
       "  'logistic': array([0.29612952], dtype=float32),\n",
       "  'probabilities': array([0.7038705, 0.2961295], dtype=float32),\n",
       "  'class_ids': array([0], dtype=int64),\n",
       "  'classes': array([b'0'], dtype=object),\n",
       "  'all_class_ids': array([0, 1]),\n",
       "  'all_classes': array([b'0', b'1'], dtype=object)},\n",
       " {'logits': array([-0.3361346], dtype=float32),\n",
       "  'logistic': array([0.41674873], dtype=float32),\n",
       "  'probabilities': array([0.5832513 , 0.41674873], dtype=float32),\n",
       "  'class_ids': array([0], dtype=int64),\n",
       "  'classes': array([b'0'], dtype=object),\n",
       "  'all_class_ids': array([0, 1]),\n",
       "  'all_classes': array([b'0', b'1'], dtype=object)},\n",
       " {'logits': array([-1.7980219], dtype=float32),\n",
       "  'logistic': array([0.14209199], dtype=float32),\n",
       "  'probabilities': array([0.857908  , 0.14209203], dtype=float32),\n",
       "  'class_ids': array([0], dtype=int64),\n",
       "  'classes': array([b'0'], dtype=object),\n",
       "  'all_class_ids': array([0, 1]),\n",
       "  'all_classes': array([b'0', b'1'], dtype=object)},\n",
       " {'logits': array([-0.6479465], dtype=float32),\n",
       "  'logistic': array([0.34345245], dtype=float32),\n",
       "  'probabilities': array([0.65654755, 0.34345245], dtype=float32),\n",
       "  'class_ids': array([0], dtype=int64),\n",
       "  'classes': array([b'0'], dtype=object),\n",
       "  'all_class_ids': array([0, 1]),\n",
       "  'all_classes': array([b'0', b'1'], dtype=object)},\n",
       " {'logits': array([-1.1508398], dtype=float32),\n",
       "  'logistic': array([0.24033573], dtype=float32),\n",
       "  'probabilities': array([0.7596643 , 0.24033573], dtype=float32),\n",
       "  'class_ids': array([0], dtype=int64),\n",
       "  'classes': array([b'0'], dtype=object),\n",
       "  'all_class_ids': array([0, 1]),\n",
       "  'all_classes': array([b'0', b'1'], dtype=object)},\n",
       " {'logits': array([-2.161693], dtype=float32),\n",
       "  'logistic': array([0.10324359], dtype=float32),\n",
       "  'probabilities': array([0.89675635, 0.10324358], dtype=float32),\n",
       "  'class_ids': array([0], dtype=int64),\n",
       "  'classes': array([b'0'], dtype=object),\n",
       "  'all_class_ids': array([0, 1]),\n",
       "  'all_classes': array([b'0', b'1'], dtype=object)},\n",
       " {'logits': array([-1.8935997], dtype=float32),\n",
       "  'logistic': array([0.13083458], dtype=float32),\n",
       "  'probabilities': array([0.8691655 , 0.13083458], dtype=float32),\n",
       "  'class_ids': array([0], dtype=int64),\n",
       "  'classes': array([b'0'], dtype=object),\n",
       "  'all_class_ids': array([0, 1]),\n",
       "  'all_classes': array([b'0', b'1'], dtype=object)},\n",
       " {'logits': array([1.1593544], dtype=float32),\n",
       "  'logistic': array([0.7612154], dtype=float32),\n",
       "  'probabilities': array([0.23878461, 0.7612154 ], dtype=float32),\n",
       "  'class_ids': array([1], dtype=int64),\n",
       "  'classes': array([b'1'], dtype=object),\n",
       "  'all_class_ids': array([0, 1]),\n",
       "  'all_classes': array([b'0', b'1'], dtype=object)},\n",
       " {'logits': array([-1.4077995], dtype=float32),\n",
       "  'logistic': array([0.19658136], dtype=float32),\n",
       "  'probabilities': array([0.80341864, 0.19658138], dtype=float32),\n",
       "  'class_ids': array([0], dtype=int64),\n",
       "  'classes': array([b'0'], dtype=object),\n",
       "  'all_class_ids': array([0, 1]),\n",
       "  'all_classes': array([b'0', b'1'], dtype=object)},\n",
       " {'logits': array([-1.8278917], dtype=float32),\n",
       "  'logistic': array([0.1384896], dtype=float32),\n",
       "  'probabilities': array([0.86151046, 0.13848963], dtype=float32),\n",
       "  'class_ids': array([0], dtype=int64),\n",
       "  'classes': array([b'0'], dtype=object),\n",
       "  'all_class_ids': array([0, 1]),\n",
       "  'all_classes': array([b'0', b'1'], dtype=object)},\n",
       " {'logits': array([-1.7268355], dtype=float32),\n",
       "  'logistic': array([0.15099281], dtype=float32),\n",
       "  'probabilities': array([0.8490072, 0.1509928], dtype=float32),\n",
       "  'class_ids': array([0], dtype=int64),\n",
       "  'classes': array([b'0'], dtype=object),\n",
       "  'all_class_ids': array([0, 1]),\n",
       "  'all_classes': array([b'0', b'1'], dtype=object)},\n",
       " {'logits': array([-0.00025916], dtype=float32),\n",
       "  'logistic': array([0.4999352], dtype=float32),\n",
       "  'probabilities': array([0.5000648, 0.4999352], dtype=float32),\n",
       "  'class_ids': array([0], dtype=int64),\n",
       "  'classes': array([b'0'], dtype=object),\n",
       "  'all_class_ids': array([0, 1]),\n",
       "  'all_classes': array([b'0', b'1'], dtype=object)},\n",
       " {'logits': array([-0.02742159], dtype=float32),\n",
       "  'logistic': array([0.49314502], dtype=float32),\n",
       "  'probabilities': array([0.50685495, 0.493145  ], dtype=float32),\n",
       "  'class_ids': array([0], dtype=int64),\n",
       "  'classes': array([b'0'], dtype=object),\n",
       "  'all_class_ids': array([0, 1]),\n",
       "  'all_classes': array([b'0', b'1'], dtype=object)},\n",
       " {'logits': array([-1.0371147], dtype=float32),\n",
       "  'logistic': array([0.2617071], dtype=float32),\n",
       "  'probabilities': array([0.73829293, 0.2617071 ], dtype=float32),\n",
       "  'class_ids': array([0], dtype=int64),\n",
       "  'classes': array([b'0'], dtype=object),\n",
       "  'all_class_ids': array([0, 1]),\n",
       "  'all_classes': array([b'0', b'1'], dtype=object)},\n",
       " {'logits': array([-0.16726351], dtype=float32),\n",
       "  'logistic': array([0.45828134], dtype=float32),\n",
       "  'probabilities': array([0.54171866, 0.45828134], dtype=float32),\n",
       "  'class_ids': array([0], dtype=int64),\n",
       "  'classes': array([b'0'], dtype=object),\n",
       "  'all_class_ids': array([0, 1]),\n",
       "  'all_classes': array([b'0', b'1'], dtype=object)},\n",
       " {'logits': array([-1.4491842], dtype=float32),\n",
       "  'logistic': array([0.19012716], dtype=float32),\n",
       "  'probabilities': array([0.80987287, 0.19012715], dtype=float32),\n",
       "  'class_ids': array([0], dtype=int64),\n",
       "  'classes': array([b'0'], dtype=object),\n",
       "  'all_class_ids': array([0, 1]),\n",
       "  'all_classes': array([b'0', b'1'], dtype=object)},\n",
       " {'logits': array([-1.1419326], dtype=float32),\n",
       "  'logistic': array([0.2419657], dtype=float32),\n",
       "  'probabilities': array([0.75803435, 0.24196573], dtype=float32),\n",
       "  'class_ids': array([0], dtype=int64),\n",
       "  'classes': array([b'0'], dtype=object),\n",
       "  'all_class_ids': array([0, 1]),\n",
       "  'all_classes': array([b'0', b'1'], dtype=object)},\n",
       " {'logits': array([0.1382742], dtype=float32),\n",
       "  'logistic': array([0.5345136], dtype=float32),\n",
       "  'probabilities': array([0.46548644, 0.5345136 ], dtype=float32),\n",
       "  'class_ids': array([1], dtype=int64),\n",
       "  'classes': array([b'1'], dtype=object),\n",
       "  'all_class_ids': array([0, 1]),\n",
       "  'all_classes': array([b'0', b'1'], dtype=object)},\n",
       " {'logits': array([-0.0067246], dtype=float32),\n",
       "  'logistic': array([0.49831885], dtype=float32),\n",
       "  'probabilities': array([0.50168115, 0.49831885], dtype=float32),\n",
       "  'class_ids': array([0], dtype=int64),\n",
       "  'classes': array([b'0'], dtype=object),\n",
       "  'all_class_ids': array([0, 1]),\n",
       "  'all_classes': array([b'0', b'1'], dtype=object)},\n",
       " {'logits': array([-1.7663522], dtype=float32),\n",
       "  'logistic': array([0.14599657], dtype=float32),\n",
       "  'probabilities': array([0.8540035 , 0.14599656], dtype=float32),\n",
       "  'class_ids': array([0], dtype=int64),\n",
       "  'classes': array([b'0'], dtype=object),\n",
       "  'all_class_ids': array([0, 1]),\n",
       "  'all_classes': array([b'0', b'1'], dtype=object)},\n",
       " {'logits': array([-0.35052198], dtype=float32),\n",
       "  'logistic': array([0.41325587], dtype=float32),\n",
       "  'probabilities': array([0.5867441 , 0.41325584], dtype=float32),\n",
       "  'class_ids': array([0], dtype=int64),\n",
       "  'classes': array([b'0'], dtype=object),\n",
       "  'all_class_ids': array([0, 1]),\n",
       "  'all_classes': array([b'0', b'1'], dtype=object)},\n",
       " {'logits': array([0.8693247], dtype=float32),\n",
       "  'logistic': array([0.70460516], dtype=float32),\n",
       "  'probabilities': array([0.29539484, 0.70460516], dtype=float32),\n",
       "  'class_ids': array([1], dtype=int64),\n",
       "  'classes': array([b'1'], dtype=object),\n",
       "  'all_class_ids': array([0, 1]),\n",
       "  'all_classes': array([b'0', b'1'], dtype=object)},\n",
       " {'logits': array([0.2219702], dtype=float32),\n",
       "  'logistic': array([0.5552658], dtype=float32),\n",
       "  'probabilities': array([0.4447342 , 0.55526584], dtype=float32),\n",
       "  'class_ids': array([1], dtype=int64),\n",
       "  'classes': array([b'1'], dtype=object),\n",
       "  'all_class_ids': array([0, 1]),\n",
       "  'all_classes': array([b'0', b'1'], dtype=object)},\n",
       " {'logits': array([-0.36027205], dtype=float32),\n",
       "  'logistic': array([0.41089374], dtype=float32),\n",
       "  'probabilities': array([0.5891063, 0.4108937], dtype=float32),\n",
       "  'class_ids': array([0], dtype=int64),\n",
       "  'classes': array([b'0'], dtype=object),\n",
       "  'all_class_ids': array([0, 1]),\n",
       "  'all_classes': array([b'0', b'1'], dtype=object)},\n",
       " {'logits': array([0.20604157], dtype=float32),\n",
       "  'logistic': array([0.5513289], dtype=float32),\n",
       "  'probabilities': array([0.44867104, 0.5513289 ], dtype=float32),\n",
       "  'class_ids': array([1], dtype=int64),\n",
       "  'classes': array([b'1'], dtype=object),\n",
       "  'all_class_ids': array([0, 1]),\n",
       "  'all_classes': array([b'0', b'1'], dtype=object)},\n",
       " {'logits': array([-1.1639024], dtype=float32),\n",
       "  'logistic': array([0.23795892], dtype=float32),\n",
       "  'probabilities': array([0.7620411 , 0.23795892], dtype=float32),\n",
       "  'class_ids': array([0], dtype=int64),\n",
       "  'classes': array([b'0'], dtype=object),\n",
       "  'all_class_ids': array([0, 1]),\n",
       "  'all_classes': array([b'0', b'1'], dtype=object)},\n",
       " {'logits': array([-1.3855795], dtype=float32),\n",
       "  'logistic': array([0.20011441], dtype=float32),\n",
       "  'probabilities': array([0.7998856, 0.2001144], dtype=float32),\n",
       "  'class_ids': array([0], dtype=int64),\n",
       "  'classes': array([b'0'], dtype=object),\n",
       "  'all_class_ids': array([0, 1]),\n",
       "  'all_classes': array([b'0', b'1'], dtype=object)},\n",
       " {'logits': array([-1.8266749], dtype=float32),\n",
       "  'logistic': array([0.13863483], dtype=float32),\n",
       "  'probabilities': array([0.8613652 , 0.13863488], dtype=float32),\n",
       "  'class_ids': array([0], dtype=int64),\n",
       "  'classes': array([b'0'], dtype=object),\n",
       "  'all_class_ids': array([0, 1]),\n",
       "  'all_classes': array([b'0', b'1'], dtype=object)},\n",
       " {'logits': array([-0.9469477], dtype=float32),\n",
       "  'logistic': array([0.2794991], dtype=float32),\n",
       "  'probabilities': array([0.72050095, 0.27949908], dtype=float32),\n",
       "  'class_ids': array([0], dtype=int64),\n",
       "  'classes': array([b'0'], dtype=object),\n",
       "  'all_class_ids': array([0, 1]),\n",
       "  'all_classes': array([b'0', b'1'], dtype=object)},\n",
       " {'logits': array([-0.00279188], dtype=float32),\n",
       "  'logistic': array([0.49930203], dtype=float32),\n",
       "  'probabilities': array([0.500698  , 0.49930203], dtype=float32),\n",
       "  'class_ids': array([0], dtype=int64),\n",
       "  'classes': array([b'0'], dtype=object),\n",
       "  'all_class_ids': array([0, 1]),\n",
       "  'all_classes': array([b'0', b'1'], dtype=object)},\n",
       " {'logits': array([0.87257254], dtype=float32),\n",
       "  'logistic': array([0.70528066], dtype=float32),\n",
       "  'probabilities': array([0.2947193, 0.7052807], dtype=float32),\n",
       "  'class_ids': array([1], dtype=int64),\n",
       "  'classes': array([b'1'], dtype=object),\n",
       "  'all_class_ids': array([0, 1]),\n",
       "  'all_classes': array([b'0', b'1'], dtype=object)},\n",
       " {'logits': array([-1.1542451], dtype=float32),\n",
       "  'logistic': array([0.23971456], dtype=float32),\n",
       "  'probabilities': array([0.76028544, 0.23971455], dtype=float32),\n",
       "  'class_ids': array([0], dtype=int64),\n",
       "  'classes': array([b'0'], dtype=object),\n",
       "  'all_class_ids': array([0, 1]),\n",
       "  'all_classes': array([b'0', b'1'], dtype=object)},\n",
       " {'logits': array([-1.5816457], dtype=float32),\n",
       "  'logistic': array([0.1705625], dtype=float32),\n",
       "  'probabilities': array([0.8294375 , 0.17056254], dtype=float32),\n",
       "  'class_ids': array([0], dtype=int64),\n",
       "  'classes': array([b'0'], dtype=object),\n",
       "  'all_class_ids': array([0, 1]),\n",
       "  'all_classes': array([b'0', b'1'], dtype=object)},\n",
       " {'logits': array([-0.26297116], dtype=float32),\n",
       "  'logistic': array([0.4346335], dtype=float32),\n",
       "  'probabilities': array([0.56536657, 0.4346335 ], dtype=float32),\n",
       "  'class_ids': array([0], dtype=int64),\n",
       "  'classes': array([b'0'], dtype=object),\n",
       "  'all_class_ids': array([0, 1]),\n",
       "  'all_classes': array([b'0', b'1'], dtype=object)},\n",
       " {'logits': array([-1.0766436], dtype=float32),\n",
       "  'logistic': array([0.25414172], dtype=float32),\n",
       "  'probabilities': array([0.74585825, 0.25414172], dtype=float32),\n",
       "  'class_ids': array([0], dtype=int64),\n",
       "  'classes': array([b'0'], dtype=object),\n",
       "  'all_class_ids': array([0, 1]),\n",
       "  'all_classes': array([b'0', b'1'], dtype=object)},\n",
       " {'logits': array([-1.6495587], dtype=float32),\n",
       "  'logistic': array([0.1611686], dtype=float32),\n",
       "  'probabilities': array([0.83883137, 0.1611686 ], dtype=float32),\n",
       "  'class_ids': array([0], dtype=int64),\n",
       "  'classes': array([b'0'], dtype=object),\n",
       "  'all_class_ids': array([0, 1]),\n",
       "  'all_classes': array([b'0', b'1'], dtype=object)},\n",
       " {'logits': array([-1.3941524], dtype=float32),\n",
       "  'logistic': array([0.19874567], dtype=float32),\n",
       "  'probabilities': array([0.80125433, 0.19874568], dtype=float32),\n",
       "  'class_ids': array([0], dtype=int64),\n",
       "  'classes': array([b'0'], dtype=object),\n",
       "  'all_class_ids': array([0, 1]),\n",
       "  'all_classes': array([b'0', b'1'], dtype=object)},\n",
       " {'logits': array([-1.8772568], dtype=float32),\n",
       "  'logistic': array([0.13270426], dtype=float32),\n",
       "  'probabilities': array([0.8672957 , 0.13270427], dtype=float32),\n",
       "  'class_ids': array([0], dtype=int64),\n",
       "  'classes': array([b'0'], dtype=object),\n",
       "  'all_class_ids': array([0, 1]),\n",
       "  'all_classes': array([b'0', b'1'], dtype=object)},\n",
       " {'logits': array([-0.32493567], dtype=float32),\n",
       "  'logistic': array([0.41947338], dtype=float32),\n",
       "  'probabilities': array([0.58052665, 0.41947335], dtype=float32),\n",
       "  'class_ids': array([0], dtype=int64),\n",
       "  'classes': array([b'0'], dtype=object),\n",
       "  'all_class_ids': array([0, 1]),\n",
       "  'all_classes': array([b'0', b'1'], dtype=object)},\n",
       " {'logits': array([1.3453898], dtype=float32),\n",
       "  'logistic': array([0.7933749], dtype=float32),\n",
       "  'probabilities': array([0.20662509, 0.7933749 ], dtype=float32),\n",
       "  'class_ids': array([1], dtype=int64),\n",
       "  'classes': array([b'1'], dtype=object),\n",
       "  'all_class_ids': array([0, 1]),\n",
       "  'all_classes': array([b'0', b'1'], dtype=object)},\n",
       " {'logits': array([1.2567532], dtype=float32),\n",
       "  'logistic': array([0.7784667], dtype=float32),\n",
       "  'probabilities': array([0.22153331, 0.7784667 ], dtype=float32),\n",
       "  'class_ids': array([1], dtype=int64),\n",
       "  'classes': array([b'1'], dtype=object),\n",
       "  'all_class_ids': array([0, 1]),\n",
       "  'all_classes': array([b'0', b'1'], dtype=object)},\n",
       " {'logits': array([0.26607358], dtype=float32),\n",
       "  'logistic': array([0.56612873], dtype=float32),\n",
       "  'probabilities': array([0.43387127, 0.56612873], dtype=float32),\n",
       "  'class_ids': array([1], dtype=int64),\n",
       "  'classes': array([b'1'], dtype=object),\n",
       "  'all_class_ids': array([0, 1]),\n",
       "  'all_classes': array([b'0', b'1'], dtype=object)},\n",
       " {'logits': array([0.06383681], dtype=float32),\n",
       "  'logistic': array([0.5159538], dtype=float32),\n",
       "  'probabilities': array([0.48404622, 0.5159538 ], dtype=float32),\n",
       "  'class_ids': array([1], dtype=int64),\n",
       "  'classes': array([b'1'], dtype=object),\n",
       "  'all_class_ids': array([0, 1]),\n",
       "  'all_classes': array([b'0', b'1'], dtype=object)},\n",
       " {'logits': array([0.33057034], dtype=float32),\n",
       "  'logistic': array([0.58189815], dtype=float32),\n",
       "  'probabilities': array([0.41810188, 0.58189815], dtype=float32),\n",
       "  'class_ids': array([1], dtype=int64),\n",
       "  'classes': array([b'1'], dtype=object),\n",
       "  'all_class_ids': array([0, 1]),\n",
       "  'all_classes': array([b'0', b'1'], dtype=object)},\n",
       " {'logits': array([-1.9299133], dtype=float32),\n",
       "  'logistic': array([0.12676015], dtype=float32),\n",
       "  'probabilities': array([0.8732398 , 0.12676018], dtype=float32),\n",
       "  'class_ids': array([0], dtype=int64),\n",
       "  'classes': array([b'0'], dtype=object),\n",
       "  'all_class_ids': array([0, 1]),\n",
       "  'all_classes': array([b'0', b'1'], dtype=object)},\n",
       " {'logits': array([0.2118336], dtype=float32),\n",
       "  'logistic': array([0.55276126], dtype=float32),\n",
       "  'probabilities': array([0.44723874, 0.55276126], dtype=float32),\n",
       "  'class_ids': array([1], dtype=int64),\n",
       "  'classes': array([b'1'], dtype=object),\n",
       "  'all_class_ids': array([0, 1]),\n",
       "  'all_classes': array([b'0', b'1'], dtype=object)},\n",
       " {'logits': array([1.2617569], dtype=float32),\n",
       "  'logistic': array([0.77932835], dtype=float32),\n",
       "  'probabilities': array([0.2206716 , 0.77932835], dtype=float32),\n",
       "  'class_ids': array([1], dtype=int64),\n",
       "  'classes': array([b'1'], dtype=object),\n",
       "  'all_class_ids': array([0, 1]),\n",
       "  'all_classes': array([b'0', b'1'], dtype=object)},\n",
       " {'logits': array([-0.32116306], dtype=float32),\n",
       "  'logistic': array([0.42039233], dtype=float32),\n",
       "  'probabilities': array([0.57960767, 0.4203923 ], dtype=float32),\n",
       "  'class_ids': array([0], dtype=int64),\n",
       "  'classes': array([b'0'], dtype=object),\n",
       "  'all_class_ids': array([0, 1]),\n",
       "  'all_classes': array([b'0', b'1'], dtype=object)},\n",
       " {'logits': array([-0.9415757], dtype=float32),\n",
       "  'logistic': array([0.2805822], dtype=float32),\n",
       "  'probabilities': array([0.71941787, 0.2805822 ], dtype=float32),\n",
       "  'class_ids': array([0], dtype=int64),\n",
       "  'classes': array([b'0'], dtype=object),\n",
       "  'all_class_ids': array([0, 1]),\n",
       "  'all_classes': array([b'0', b'1'], dtype=object)},\n",
       " {'logits': array([-0.57772905], dtype=float32),\n",
       "  'logistic': array([0.3594553], dtype=float32),\n",
       "  'probabilities': array([0.6405447 , 0.35945532], dtype=float32),\n",
       "  'class_ids': array([0], dtype=int64),\n",
       "  'classes': array([b'0'], dtype=object),\n",
       "  'all_class_ids': array([0, 1]),\n",
       "  'all_classes': array([b'0', b'1'], dtype=object)},\n",
       " {'logits': array([0.4288429], dtype=float32),\n",
       "  'logistic': array([0.6055973], dtype=float32),\n",
       "  'probabilities': array([0.39440265, 0.6055973 ], dtype=float32),\n",
       "  'class_ids': array([1], dtype=int64),\n",
       "  'classes': array([b'1'], dtype=object),\n",
       "  'all_class_ids': array([0, 1]),\n",
       "  'all_classes': array([b'0', b'1'], dtype=object)},\n",
       " {'logits': array([-1.0347488], dtype=float32),\n",
       "  'logistic': array([0.26216447], dtype=float32),\n",
       "  'probabilities': array([0.73783547, 0.26216447], dtype=float32),\n",
       "  'class_ids': array([0], dtype=int64),\n",
       "  'classes': array([b'0'], dtype=object),\n",
       "  'all_class_ids': array([0, 1]),\n",
       "  'all_classes': array([b'0', b'1'], dtype=object)},\n",
       " {'logits': array([0.7183665], dtype=float32),\n",
       "  'logistic': array([0.6722472], dtype=float32),\n",
       "  'probabilities': array([0.3277528 , 0.67224723], dtype=float32),\n",
       "  'class_ids': array([1], dtype=int64),\n",
       "  'classes': array([b'1'], dtype=object),\n",
       "  'all_class_ids': array([0, 1]),\n",
       "  'all_classes': array([b'0', b'1'], dtype=object)},\n",
       " {'logits': array([-0.31448424], dtype=float32),\n",
       "  'logistic': array([0.42202055], dtype=float32),\n",
       "  'probabilities': array([0.57797945, 0.42202058], dtype=float32),\n",
       "  'class_ids': array([0], dtype=int64),\n",
       "  'classes': array([b'0'], dtype=object),\n",
       "  'all_class_ids': array([0, 1]),\n",
       "  'all_classes': array([b'0', b'1'], dtype=object)},\n",
       " {'logits': array([-0.26534927], dtype=float32),\n",
       "  'logistic': array([0.4340492], dtype=float32),\n",
       "  'probabilities': array([0.5659508, 0.4340492], dtype=float32),\n",
       "  'class_ids': array([0], dtype=int64),\n",
       "  'classes': array([b'0'], dtype=object),\n",
       "  'all_class_ids': array([0, 1]),\n",
       "  'all_classes': array([b'0', b'1'], dtype=object)},\n",
       " {'logits': array([-1.5197316], dtype=float32),\n",
       "  'logistic': array([0.17950104], dtype=float32),\n",
       "  'probabilities': array([0.82049894, 0.17950104], dtype=float32),\n",
       "  'class_ids': array([0], dtype=int64),\n",
       "  'classes': array([b'0'], dtype=object),\n",
       "  'all_class_ids': array([0, 1]),\n",
       "  'all_classes': array([b'0', b'1'], dtype=object)},\n",
       " {'logits': array([-1.4203604], dtype=float32),\n",
       "  'logistic': array([0.19460508], dtype=float32),\n",
       "  'probabilities': array([0.80539495, 0.19460508], dtype=float32),\n",
       "  'class_ids': array([0], dtype=int64),\n",
       "  'classes': array([b'0'], dtype=object),\n",
       "  'all_class_ids': array([0, 1]),\n",
       "  'all_classes': array([b'0', b'1'], dtype=object)},\n",
       " {'logits': array([-1.4182038], dtype=float32),\n",
       "  'logistic': array([0.19494331], dtype=float32),\n",
       "  'probabilities': array([0.8050567 , 0.19494332], dtype=float32),\n",
       "  'class_ids': array([0], dtype=int64),\n",
       "  'classes': array([b'0'], dtype=object),\n",
       "  'all_class_ids': array([0, 1]),\n",
       "  'all_classes': array([b'0', b'1'], dtype=object)},\n",
       " {'logits': array([-0.16475987], dtype=float32),\n",
       "  'logistic': array([0.45890296], dtype=float32),\n",
       "  'probabilities': array([0.54109704, 0.45890296], dtype=float32),\n",
       "  'class_ids': array([0], dtype=int64),\n",
       "  'classes': array([b'0'], dtype=object),\n",
       "  'all_class_ids': array([0, 1]),\n",
       "  'all_classes': array([b'0', b'1'], dtype=object)},\n",
       " {'logits': array([-1.615423], dtype=float32),\n",
       "  'logistic': array([0.16583702], dtype=float32),\n",
       "  'probabilities': array([0.83416295, 0.16583708], dtype=float32),\n",
       "  'class_ids': array([0], dtype=int64),\n",
       "  'classes': array([b'0'], dtype=object),\n",
       "  'all_class_ids': array([0, 1]),\n",
       "  'all_classes': array([b'0', b'1'], dtype=object)},\n",
       " {'logits': array([1.0332704], dtype=float32),\n",
       "  'logistic': array([0.7375494], dtype=float32),\n",
       "  'probabilities': array([0.26245055, 0.73754936], dtype=float32),\n",
       "  'class_ids': array([1], dtype=int64),\n",
       "  'classes': array([b'1'], dtype=object),\n",
       "  'all_class_ids': array([0, 1]),\n",
       "  'all_classes': array([b'0', b'1'], dtype=object)},\n",
       " {'logits': array([-1.2448461], dtype=float32),\n",
       "  'logistic': array([0.2235936], dtype=float32),\n",
       "  'probabilities': array([0.7764064 , 0.22359358], dtype=float32),\n",
       "  'class_ids': array([0], dtype=int64),\n",
       "  'classes': array([b'0'], dtype=object),\n",
       "  'all_class_ids': array([0, 1]),\n",
       "  'all_classes': array([b'0', b'1'], dtype=object)},\n",
       " {'logits': array([0.0947572], dtype=float32),\n",
       "  'logistic': array([0.52367157], dtype=float32),\n",
       "  'probabilities': array([0.4763284 , 0.52367157], dtype=float32),\n",
       "  'class_ids': array([1], dtype=int64),\n",
       "  'classes': array([b'1'], dtype=object),\n",
       "  'all_class_ids': array([0, 1]),\n",
       "  'all_classes': array([b'0', b'1'], dtype=object)},\n",
       " {'logits': array([-1.583751], dtype=float32),\n",
       "  'logistic': array([0.17026493], dtype=float32),\n",
       "  'probabilities': array([0.82973504, 0.17026491], dtype=float32),\n",
       "  'class_ids': array([0], dtype=int64),\n",
       "  'classes': array([b'0'], dtype=object),\n",
       "  'all_class_ids': array([0, 1]),\n",
       "  'all_classes': array([b'0', b'1'], dtype=object)},\n",
       " {'logits': array([0.7567804], dtype=float32),\n",
       "  'logistic': array([0.6806543], dtype=float32),\n",
       "  'probabilities': array([0.31934568, 0.6806543 ], dtype=float32),\n",
       "  'class_ids': array([1], dtype=int64),\n",
       "  'classes': array([b'1'], dtype=object),\n",
       "  'all_class_ids': array([0, 1]),\n",
       "  'all_classes': array([b'0', b'1'], dtype=object)},\n",
       " {'logits': array([-0.69094247], dtype=float32),\n",
       "  'logistic': array([0.33382344], dtype=float32),\n",
       "  'probabilities': array([0.6661765 , 0.33382344], dtype=float32),\n",
       "  'class_ids': array([0], dtype=int64),\n",
       "  'classes': array([b'0'], dtype=object),\n",
       "  'all_class_ids': array([0, 1]),\n",
       "  'all_classes': array([b'0', b'1'], dtype=object)},\n",
       " {'logits': array([-1.338519], dtype=float32),\n",
       "  'logistic': array([0.20775372], dtype=float32),\n",
       "  'probabilities': array([0.7922463 , 0.20775372], dtype=float32),\n",
       "  'class_ids': array([0], dtype=int64),\n",
       "  'classes': array([b'0'], dtype=object),\n",
       "  'all_class_ids': array([0, 1]),\n",
       "  'all_classes': array([b'0', b'1'], dtype=object)},\n",
       " {'logits': array([-0.5955169], dtype=float32),\n",
       "  'logistic': array([0.35537001], dtype=float32),\n",
       "  'probabilities': array([0.64462996, 0.35537001], dtype=float32),\n",
       "  'class_ids': array([0], dtype=int64),\n",
       "  'classes': array([b'0'], dtype=object),\n",
       "  'all_class_ids': array([0, 1]),\n",
       "  'all_classes': array([b'0', b'1'], dtype=object)},\n",
       " {'logits': array([-0.634403], dtype=float32),\n",
       "  'logistic': array([0.34651285], dtype=float32),\n",
       "  'probabilities': array([0.65348715, 0.34651285], dtype=float32),\n",
       "  'class_ids': array([0], dtype=int64),\n",
       "  'classes': array([b'0'], dtype=object),\n",
       "  'all_class_ids': array([0, 1]),\n",
       "  'all_classes': array([b'0', b'1'], dtype=object)},\n",
       " {'logits': array([-1.5318168], dtype=float32),\n",
       "  'logistic': array([0.177728], dtype=float32),\n",
       "  'probabilities': array([0.82227194, 0.177728  ], dtype=float32),\n",
       "  'class_ids': array([0], dtype=int64),\n",
       "  'classes': array([b'0'], dtype=object),\n",
       "  'all_class_ids': array([0, 1]),\n",
       "  'all_classes': array([b'0', b'1'], dtype=object)},\n",
       " {'logits': array([1.0056043], dtype=float32),\n",
       "  'logistic': array([0.732159], dtype=float32),\n",
       "  'probabilities': array([0.26784098, 0.732159  ], dtype=float32),\n",
       "  'class_ids': array([1], dtype=int64),\n",
       "  'classes': array([b'1'], dtype=object),\n",
       "  'all_class_ids': array([0, 1]),\n",
       "  'all_classes': array([b'0', b'1'], dtype=object)},\n",
       " {'logits': array([-1.3549385], dtype=float32),\n",
       "  'logistic': array([0.20506418], dtype=float32),\n",
       "  'probabilities': array([0.7949358 , 0.20506415], dtype=float32),\n",
       "  'class_ids': array([0], dtype=int64),\n",
       "  'classes': array([b'0'], dtype=object),\n",
       "  'all_class_ids': array([0, 1]),\n",
       "  'all_classes': array([b'0', b'1'], dtype=object)},\n",
       " {'logits': array([-1.4969938], dtype=float32),\n",
       "  'logistic': array([0.18287432], dtype=float32),\n",
       "  'probabilities': array([0.8171257, 0.1828743], dtype=float32),\n",
       "  'class_ids': array([0], dtype=int64),\n",
       "  'classes': array([b'0'], dtype=object),\n",
       "  'all_class_ids': array([0, 1]),\n",
       "  'all_classes': array([b'0', b'1'], dtype=object)},\n",
       " {'logits': array([-0.9567103], dtype=float32),\n",
       "  'logistic': array([0.27753735], dtype=float32),\n",
       "  'probabilities': array([0.72246265, 0.27753732], dtype=float32),\n",
       "  'class_ids': array([0], dtype=int64),\n",
       "  'classes': array([b'0'], dtype=object),\n",
       "  'all_class_ids': array([0, 1]),\n",
       "  'all_classes': array([b'0', b'1'], dtype=object)},\n",
       " {'logits': array([-0.21594852], dtype=float32),\n",
       "  'logistic': array([0.4462217], dtype=float32),\n",
       "  'probabilities': array([0.5537783 , 0.44622168], dtype=float32),\n",
       "  'class_ids': array([0], dtype=int64),\n",
       "  'classes': array([b'0'], dtype=object),\n",
       "  'all_class_ids': array([0, 1]),\n",
       "  'all_classes': array([b'0', b'1'], dtype=object)},\n",
       " {'logits': array([-0.9406004], dtype=float32),\n",
       "  'logistic': array([0.2807791], dtype=float32),\n",
       "  'probabilities': array([0.71922094, 0.2807791 ], dtype=float32),\n",
       "  'class_ids': array([0], dtype=int64),\n",
       "  'classes': array([b'0'], dtype=object),\n",
       "  'all_class_ids': array([0, 1]),\n",
       "  'all_classes': array([b'0', b'1'], dtype=object)},\n",
       " {'logits': array([-1.9493244], dtype=float32),\n",
       "  'logistic': array([0.12462704], dtype=float32),\n",
       "  'probabilities': array([0.87537295, 0.12462704], dtype=float32),\n",
       "  'class_ids': array([0], dtype=int64),\n",
       "  'classes': array([b'0'], dtype=object),\n",
       "  'all_class_ids': array([0, 1]),\n",
       "  'all_classes': array([b'0', b'1'], dtype=object)},\n",
       " {'logits': array([1.7601514], dtype=float32),\n",
       "  'logistic': array([0.8532286], dtype=float32),\n",
       "  'probabilities': array([0.1467714, 0.8532287], dtype=float32),\n",
       "  'class_ids': array([1], dtype=int64),\n",
       "  'classes': array([b'1'], dtype=object),\n",
       "  'all_class_ids': array([0, 1]),\n",
       "  'all_classes': array([b'0', b'1'], dtype=object)},\n",
       " {'logits': array([0.80415094], dtype=float32),\n",
       "  'logistic': array([0.6908617], dtype=float32),\n",
       "  'probabilities': array([0.3091383, 0.6908617], dtype=float32),\n",
       "  'class_ids': array([1], dtype=int64),\n",
       "  'classes': array([b'1'], dtype=object),\n",
       "  'all_class_ids': array([0, 1]),\n",
       "  'all_classes': array([b'0', b'1'], dtype=object)},\n",
       " {'logits': array([0.10622215], dtype=float32),\n",
       "  'logistic': array([0.5265306], dtype=float32),\n",
       "  'probabilities': array([0.47346938, 0.52653056], dtype=float32),\n",
       "  'class_ids': array([1], dtype=int64),\n",
       "  'classes': array([b'1'], dtype=object),\n",
       "  'all_class_ids': array([0, 1]),\n",
       "  'all_classes': array([b'0', b'1'], dtype=object)},\n",
       " {'logits': array([1.0377862], dtype=float32),\n",
       "  'logistic': array([0.73842263], dtype=float32),\n",
       "  'probabilities': array([0.26157737, 0.73842263], dtype=float32),\n",
       "  'class_ids': array([1], dtype=int64),\n",
       "  'classes': array([b'1'], dtype=object),\n",
       "  'all_class_ids': array([0, 1]),\n",
       "  'all_classes': array([b'0', b'1'], dtype=object)},\n",
       " {'logits': array([-1.9669122], dtype=float32),\n",
       "  'logistic': array([0.12272093], dtype=float32),\n",
       "  'probabilities': array([0.87727904, 0.12272093], dtype=float32),\n",
       "  'class_ids': array([0], dtype=int64),\n",
       "  'classes': array([b'0'], dtype=object),\n",
       "  'all_class_ids': array([0, 1]),\n",
       "  'all_classes': array([b'0', b'1'], dtype=object)},\n",
       " {'logits': array([-1.6585033], dtype=float32),\n",
       "  'logistic': array([0.15996304], dtype=float32),\n",
       "  'probabilities': array([0.84003705, 0.15996303], dtype=float32),\n",
       "  'class_ids': array([0], dtype=int64),\n",
       "  'classes': array([b'0'], dtype=object),\n",
       "  'all_class_ids': array([0, 1]),\n",
       "  'all_classes': array([b'0', b'1'], dtype=object)},\n",
       " {'logits': array([-1.25452], dtype=float32),\n",
       "  'logistic': array([0.2219187], dtype=float32),\n",
       "  'probabilities': array([0.7780813 , 0.22191866], dtype=float32),\n",
       "  'class_ids': array([0], dtype=int64),\n",
       "  'classes': array([b'0'], dtype=object),\n",
       "  'all_class_ids': array([0, 1]),\n",
       "  'all_classes': array([b'0', b'1'], dtype=object)},\n",
       " {'logits': array([-0.5581543], dtype=float32),\n",
       "  'logistic': array([0.36397463], dtype=float32),\n",
       "  'probabilities': array([0.63602537, 0.36397463], dtype=float32),\n",
       "  'class_ids': array([0], dtype=int64),\n",
       "  'classes': array([b'0'], dtype=object),\n",
       "  'all_class_ids': array([0, 1]),\n",
       "  'all_classes': array([b'0', b'1'], dtype=object)},\n",
       " {'logits': array([-0.40677863], dtype=float32),\n",
       "  'logistic': array([0.3996848], dtype=float32),\n",
       "  'probabilities': array([0.6003152 , 0.39968482], dtype=float32),\n",
       "  'class_ids': array([0], dtype=int64),\n",
       "  'classes': array([b'0'], dtype=object),\n",
       "  'all_class_ids': array([0, 1]),\n",
       "  'all_classes': array([b'0', b'1'], dtype=object)},\n",
       " {'logits': array([0.38897896], dtype=float32),\n",
       "  'logistic': array([0.5960369], dtype=float32),\n",
       "  'probabilities': array([0.40396312, 0.5960369 ], dtype=float32),\n",
       "  'class_ids': array([1], dtype=int64),\n",
       "  'classes': array([b'1'], dtype=object),\n",
       "  'all_class_ids': array([0, 1]),\n",
       "  'all_classes': array([b'0', b'1'], dtype=object)},\n",
       " {'logits': array([0.27959538], dtype=float32),\n",
       "  'logistic': array([0.56944704], dtype=float32),\n",
       "  'probabilities': array([0.43055296, 0.569447  ], dtype=float32),\n",
       "  'class_ids': array([1], dtype=int64),\n",
       "  'classes': array([b'1'], dtype=object),\n",
       "  'all_class_ids': array([0, 1]),\n",
       "  'all_classes': array([b'0', b'1'], dtype=object)},\n",
       " {'logits': array([-0.42052013], dtype=float32),\n",
       "  'logistic': array([0.3963923], dtype=float32),\n",
       "  'probabilities': array([0.6036077, 0.3963923], dtype=float32),\n",
       "  'class_ids': array([0], dtype=int64),\n",
       "  'classes': array([b'0'], dtype=object),\n",
       "  'all_class_ids': array([0, 1]),\n",
       "  'all_classes': array([b'0', b'1'], dtype=object)},\n",
       " {'logits': array([-0.5166493], dtype=float32),\n",
       "  'logistic': array([0.37363607], dtype=float32),\n",
       "  'probabilities': array([0.62636393, 0.37363607], dtype=float32),\n",
       "  'class_ids': array([0], dtype=int64),\n",
       "  'classes': array([b'0'], dtype=object),\n",
       "  'all_class_ids': array([0, 1]),\n",
       "  'all_classes': array([b'0', b'1'], dtype=object)},\n",
       " {'logits': array([-0.5672255], dtype=float32),\n",
       "  'logistic': array([0.36187726], dtype=float32),\n",
       "  'probabilities': array([0.63812274, 0.36187726], dtype=float32),\n",
       "  'class_ids': array([0], dtype=int64),\n",
       "  'classes': array([b'0'], dtype=object),\n",
       "  'all_class_ids': array([0, 1]),\n",
       "  'all_classes': array([b'0', b'1'], dtype=object)},\n",
       " {'logits': array([-1.371309], dtype=float32),\n",
       "  'logistic': array([0.20240846], dtype=float32),\n",
       "  'probabilities': array([0.79759157, 0.20240845], dtype=float32),\n",
       "  'class_ids': array([0], dtype=int64),\n",
       "  'classes': array([b'0'], dtype=object),\n",
       "  'all_class_ids': array([0, 1]),\n",
       "  'all_classes': array([b'0', b'1'], dtype=object)},\n",
       " {'logits': array([0.65723085], dtype=float32),\n",
       "  'logistic': array([0.65863806], dtype=float32),\n",
       "  'probabilities': array([0.34136194, 0.65863806], dtype=float32),\n",
       "  'class_ids': array([1], dtype=int64),\n",
       "  'classes': array([b'1'], dtype=object),\n",
       "  'all_class_ids': array([0, 1]),\n",
       "  'all_classes': array([b'0', b'1'], dtype=object)},\n",
       " {'logits': array([-1.8397334], dtype=float32),\n",
       "  'logistic': array([0.13708279], dtype=float32),\n",
       "  'probabilities': array([0.8629172 , 0.13708283], dtype=float32),\n",
       "  'class_ids': array([0], dtype=int64),\n",
       "  'classes': array([b'0'], dtype=object),\n",
       "  'all_class_ids': array([0, 1]),\n",
       "  'all_classes': array([b'0', b'1'], dtype=object)},\n",
       " {'logits': array([-0.9906544], dtype=float32),\n",
       "  'logistic': array([0.27078283], dtype=float32),\n",
       "  'probabilities': array([0.7292172 , 0.27078283], dtype=float32),\n",
       "  'class_ids': array([0], dtype=int64),\n",
       "  'classes': array([b'0'], dtype=object),\n",
       "  'all_class_ids': array([0, 1]),\n",
       "  'all_classes': array([b'0', b'1'], dtype=object)},\n",
       " {'logits': array([0.22326314], dtype=float32),\n",
       "  'logistic': array([0.5555851], dtype=float32),\n",
       "  'probabilities': array([0.4444149, 0.5555851], dtype=float32),\n",
       "  'class_ids': array([1], dtype=int64),\n",
       "  'classes': array([b'1'], dtype=object),\n",
       "  'all_class_ids': array([0, 1]),\n",
       "  'all_classes': array([b'0', b'1'], dtype=object)},\n",
       " {'logits': array([-0.5064863], dtype=float32),\n",
       "  'logistic': array([0.3760176], dtype=float32),\n",
       "  'probabilities': array([0.6239824, 0.3760176], dtype=float32),\n",
       "  'class_ids': array([0], dtype=int64),\n",
       "  'classes': array([b'0'], dtype=object),\n",
       "  'all_class_ids': array([0, 1]),\n",
       "  'all_classes': array([b'0', b'1'], dtype=object)},\n",
       " {'logits': array([-1.3460803], dtype=float32),\n",
       "  'logistic': array([0.20651194], dtype=float32),\n",
       "  'probabilities': array([0.793488  , 0.20651193], dtype=float32),\n",
       "  'class_ids': array([0], dtype=int64),\n",
       "  'classes': array([b'0'], dtype=object),\n",
       "  'all_class_ids': array([0, 1]),\n",
       "  'all_classes': array([b'0', b'1'], dtype=object)},\n",
       " {'logits': array([-0.9094044], dtype=float32),\n",
       "  'logistic': array([0.2871217], dtype=float32),\n",
       "  'probabilities': array([0.7128782, 0.2871217], dtype=float32),\n",
       "  'class_ids': array([0], dtype=int64),\n",
       "  'classes': array([b'0'], dtype=object),\n",
       "  'all_class_ids': array([0, 1]),\n",
       "  'all_classes': array([b'0', b'1'], dtype=object)},\n",
       " {'logits': array([-0.9371767], dtype=float32),\n",
       "  'logistic': array([0.281471], dtype=float32),\n",
       "  'probabilities': array([0.71852905, 0.28147098], dtype=float32),\n",
       "  'class_ids': array([0], dtype=int64),\n",
       "  'classes': array([b'0'], dtype=object),\n",
       "  'all_class_ids': array([0, 1]),\n",
       "  'all_classes': array([b'0', b'1'], dtype=object)},\n",
       " {'logits': array([-1.7834167], dtype=float32),\n",
       "  'logistic': array([0.14388177], dtype=float32),\n",
       "  'probabilities': array([0.85611826, 0.14388175], dtype=float32),\n",
       "  'class_ids': array([0], dtype=int64),\n",
       "  'classes': array([b'0'], dtype=object),\n",
       "  'all_class_ids': array([0, 1]),\n",
       "  'all_classes': array([b'0', b'1'], dtype=object)},\n",
       " {'logits': array([-1.3766783], dtype=float32),\n",
       "  'logistic': array([0.201543], dtype=float32),\n",
       "  'probabilities': array([0.79845697, 0.20154299], dtype=float32),\n",
       "  'class_ids': array([0], dtype=int64),\n",
       "  'classes': array([b'0'], dtype=object),\n",
       "  'all_class_ids': array([0, 1]),\n",
       "  'all_classes': array([b'0', b'1'], dtype=object)},\n",
       " {'logits': array([0.33731723], dtype=float32),\n",
       "  'logistic': array([0.5835387], dtype=float32),\n",
       "  'probabilities': array([0.41646132, 0.5835387 ], dtype=float32),\n",
       "  'class_ids': array([1], dtype=int64),\n",
       "  'classes': array([b'1'], dtype=object),\n",
       "  'all_class_ids': array([0, 1]),\n",
       "  'all_classes': array([b'0', b'1'], dtype=object)},\n",
       " {'logits': array([0.88544905], dtype=float32),\n",
       "  'logistic': array([0.7079501], dtype=float32),\n",
       "  'probabilities': array([0.29204985, 0.7079501 ], dtype=float32),\n",
       "  'class_ids': array([1], dtype=int64),\n",
       "  'classes': array([b'1'], dtype=object),\n",
       "  'all_class_ids': array([0, 1]),\n",
       "  'all_classes': array([b'0', b'1'], dtype=object)},\n",
       " {'logits': array([0.5693449], dtype=float32),\n",
       "  'logistic': array([0.638612], dtype=float32),\n",
       "  'probabilities': array([0.36138797, 0.638612  ], dtype=float32),\n",
       "  'class_ids': array([1], dtype=int64),\n",
       "  'classes': array([b'1'], dtype=object),\n",
       "  'all_class_ids': array([0, 1]),\n",
       "  'all_classes': array([b'0', b'1'], dtype=object)},\n",
       " {'logits': array([0.93199205], dtype=float32),\n",
       "  'logistic': array([0.7174792], dtype=float32),\n",
       "  'probabilities': array([0.28252074, 0.7174792 ], dtype=float32),\n",
       "  'class_ids': array([1], dtype=int64),\n",
       "  'classes': array([b'1'], dtype=object),\n",
       "  'all_class_ids': array([0, 1]),\n",
       "  'all_classes': array([b'0', b'1'], dtype=object)},\n",
       " {'logits': array([-0.08202291], dtype=float32),\n",
       "  'logistic': array([0.47950575], dtype=float32),\n",
       "  'probabilities': array([0.5204942 , 0.47950575], dtype=float32),\n",
       "  'class_ids': array([0], dtype=int64),\n",
       "  'classes': array([b'0'], dtype=object),\n",
       "  'all_class_ids': array([0, 1]),\n",
       "  'all_classes': array([b'0', b'1'], dtype=object)},\n",
       " {'logits': array([-0.8100366], dtype=float32),\n",
       "  'logistic': array([0.30788273], dtype=float32),\n",
       "  'probabilities': array([0.6921173, 0.3078827], dtype=float32),\n",
       "  'class_ids': array([0], dtype=int64),\n",
       "  'classes': array([b'0'], dtype=object),\n",
       "  'all_class_ids': array([0, 1]),\n",
       "  'all_classes': array([b'0', b'1'], dtype=object)},\n",
       " {'logits': array([0.10528648], dtype=float32),\n",
       "  'logistic': array([0.52629733], dtype=float32),\n",
       "  'probabilities': array([0.47370267, 0.52629733], dtype=float32),\n",
       "  'class_ids': array([1], dtype=int64),\n",
       "  'classes': array([b'1'], dtype=object),\n",
       "  'all_class_ids': array([0, 1]),\n",
       "  'all_classes': array([b'0', b'1'], dtype=object)},\n",
       " {'logits': array([-1.3860865], dtype=float32),\n",
       "  'logistic': array([0.20003328], dtype=float32),\n",
       "  'probabilities': array([0.79996675, 0.20003326], dtype=float32),\n",
       "  'class_ids': array([0], dtype=int64),\n",
       "  'classes': array([b'0'], dtype=object),\n",
       "  'all_class_ids': array([0, 1]),\n",
       "  'all_classes': array([b'0', b'1'], dtype=object)},\n",
       " {'logits': array([-1.6865635], dtype=float32),\n",
       "  'logistic': array([0.15622827], dtype=float32),\n",
       "  'probabilities': array([0.8437717 , 0.15622832], dtype=float32),\n",
       "  'class_ids': array([0], dtype=int64),\n",
       "  'classes': array([b'0'], dtype=object),\n",
       "  'all_class_ids': array([0, 1]),\n",
       "  'all_classes': array([b'0', b'1'], dtype=object)},\n",
       " {'logits': array([-1.3826747], dtype=float32),\n",
       "  'logistic': array([0.20057976], dtype=float32),\n",
       "  'probabilities': array([0.7994202 , 0.20057976], dtype=float32),\n",
       "  'class_ids': array([0], dtype=int64),\n",
       "  'classes': array([b'0'], dtype=object),\n",
       "  'all_class_ids': array([0, 1]),\n",
       "  'all_classes': array([b'0', b'1'], dtype=object)},\n",
       " {'logits': array([0.12296021], dtype=float32),\n",
       "  'logistic': array([0.5307014], dtype=float32),\n",
       "  'probabilities': array([0.46929863, 0.5307014 ], dtype=float32),\n",
       "  'class_ids': array([1], dtype=int64),\n",
       "  'classes': array([b'1'], dtype=object),\n",
       "  'all_class_ids': array([0, 1]),\n",
       "  'all_classes': array([b'0', b'1'], dtype=object)},\n",
       " {'logits': array([-2.6331983], dtype=float32),\n",
       "  'logistic': array([0.06703216], dtype=float32),\n",
       "  'probabilities': array([0.93296784, 0.06703216], dtype=float32),\n",
       "  'class_ids': array([0], dtype=int64),\n",
       "  'classes': array([b'0'], dtype=object),\n",
       "  'all_class_ids': array([0, 1]),\n",
       "  'all_classes': array([b'0', b'1'], dtype=object)},\n",
       " {'logits': array([-0.79920083], dtype=float32),\n",
       "  'logistic': array([0.31019652], dtype=float32),\n",
       "  'probabilities': array([0.6898035, 0.3101965], dtype=float32),\n",
       "  'class_ids': array([0], dtype=int64),\n",
       "  'classes': array([b'0'], dtype=object),\n",
       "  'all_class_ids': array([0, 1]),\n",
       "  'all_classes': array([b'0', b'1'], dtype=object)},\n",
       " {'logits': array([-1.5269345], dtype=float32),\n",
       "  'logistic': array([0.17844264], dtype=float32),\n",
       "  'probabilities': array([0.82155734, 0.17844264], dtype=float32),\n",
       "  'class_ids': array([0], dtype=int64),\n",
       "  'classes': array([b'0'], dtype=object),\n",
       "  'all_class_ids': array([0, 1]),\n",
       "  'all_classes': array([b'0', b'1'], dtype=object)},\n",
       " {'logits': array([-0.9180935], dtype=float32),\n",
       "  'logistic': array([0.28534654], dtype=float32),\n",
       "  'probabilities': array([0.71465343, 0.28534648], dtype=float32),\n",
       "  'class_ids': array([0], dtype=int64),\n",
       "  'classes': array([b'0'], dtype=object),\n",
       "  'all_class_ids': array([0, 1]),\n",
       "  'all_classes': array([b'0', b'1'], dtype=object)},\n",
       " {'logits': array([-1.0184569], dtype=float32),\n",
       "  'logistic': array([0.2653281], dtype=float32),\n",
       "  'probabilities': array([0.7346719 , 0.26532805], dtype=float32),\n",
       "  'class_ids': array([0], dtype=int64),\n",
       "  'classes': array([b'0'], dtype=object),\n",
       "  'all_class_ids': array([0, 1]),\n",
       "  'all_classes': array([b'0', b'1'], dtype=object)},\n",
       " {'logits': array([-0.8944614], dtype=float32),\n",
       "  'logistic': array([0.29019004], dtype=float32),\n",
       "  'probabilities': array([0.70980996, 0.29018998], dtype=float32),\n",
       "  'class_ids': array([0], dtype=int64),\n",
       "  'classes': array([b'0'], dtype=object),\n",
       "  'all_class_ids': array([0, 1]),\n",
       "  'all_classes': array([b'0', b'1'], dtype=object)},\n",
       " {'logits': array([1.2735386], dtype=float32),\n",
       "  'logistic': array([0.7813479], dtype=float32),\n",
       "  'probabilities': array([0.2186521, 0.7813479], dtype=float32),\n",
       "  'class_ids': array([1], dtype=int64),\n",
       "  'classes': array([b'1'], dtype=object),\n",
       "  'all_class_ids': array([0, 1]),\n",
       "  'all_classes': array([b'0', b'1'], dtype=object)},\n",
       " {'logits': array([-1.4970616], dtype=float32),\n",
       "  'logistic': array([0.18286419], dtype=float32),\n",
       "  'probabilities': array([0.81713575, 0.18286417], dtype=float32),\n",
       "  'class_ids': array([0], dtype=int64),\n",
       "  'classes': array([b'0'], dtype=object),\n",
       "  'all_class_ids': array([0, 1]),\n",
       "  'all_classes': array([b'0', b'1'], dtype=object)},\n",
       " {'logits': array([-1.9088514], dtype=float32),\n",
       "  'logistic': array([0.12910995], dtype=float32),\n",
       "  'probabilities': array([0.87089   , 0.12910995], dtype=float32),\n",
       "  'class_ids': array([0], dtype=int64),\n",
       "  'classes': array([b'0'], dtype=object),\n",
       "  'all_class_ids': array([0, 1]),\n",
       "  'all_classes': array([b'0', b'1'], dtype=object)},\n",
       " {'logits': array([0.44003534], dtype=float32),\n",
       "  'logistic': array([0.6082674], dtype=float32),\n",
       "  'probabilities': array([0.39173257, 0.6082675 ], dtype=float32),\n",
       "  'class_ids': array([1], dtype=int64),\n",
       "  'classes': array([b'1'], dtype=object),\n",
       "  'all_class_ids': array([0, 1]),\n",
       "  'all_classes': array([b'0', b'1'], dtype=object)},\n",
       " {'logits': array([-0.01643693], dtype=float32),\n",
       "  'logistic': array([0.49589086], dtype=float32),\n",
       "  'probabilities': array([0.50410914, 0.49589086], dtype=float32),\n",
       "  'class_ids': array([0], dtype=int64),\n",
       "  'classes': array([b'0'], dtype=object),\n",
       "  'all_class_ids': array([0, 1]),\n",
       "  'all_classes': array([b'0', b'1'], dtype=object)},\n",
       " {'logits': array([1.8303359], dtype=float32),\n",
       "  'logistic': array([0.86180174], dtype=float32),\n",
       "  'probabilities': array([0.13819827, 0.8618017 ], dtype=float32),\n",
       "  'class_ids': array([1], dtype=int64),\n",
       "  'classes': array([b'1'], dtype=object),\n",
       "  'all_class_ids': array([0, 1]),\n",
       "  'all_classes': array([b'0', b'1'], dtype=object)},\n",
       " {'logits': array([0.65011775], dtype=float32),\n",
       "  'logistic': array([0.65703696], dtype=float32),\n",
       "  'probabilities': array([0.34296295, 0.65703696], dtype=float32),\n",
       "  'class_ids': array([1], dtype=int64),\n",
       "  'classes': array([b'1'], dtype=object),\n",
       "  'all_class_ids': array([0, 1]),\n",
       "  'all_classes': array([b'0', b'1'], dtype=object)},\n",
       " {'logits': array([-1.9001853], dtype=float32),\n",
       "  'logistic': array([0.1300875], dtype=float32),\n",
       "  'probabilities': array([0.8699125, 0.1300875], dtype=float32),\n",
       "  'class_ids': array([0], dtype=int64),\n",
       "  'classes': array([b'0'], dtype=object),\n",
       "  'all_class_ids': array([0, 1]),\n",
       "  'all_classes': array([b'0', b'1'], dtype=object)},\n",
       " {'logits': array([0.6489165], dtype=float32),\n",
       "  'logistic': array([0.65676624], dtype=float32),\n",
       "  'probabilities': array([0.34323373, 0.65676624], dtype=float32),\n",
       "  'class_ids': array([1], dtype=int64),\n",
       "  'classes': array([b'1'], dtype=object),\n",
       "  'all_class_ids': array([0, 1]),\n",
       "  'all_classes': array([b'0', b'1'], dtype=object)},\n",
       " {'logits': array([0.2295767], dtype=float32),\n",
       "  'logistic': array([0.5571434], dtype=float32),\n",
       "  'probabilities': array([0.44285658, 0.5571434 ], dtype=float32),\n",
       "  'class_ids': array([1], dtype=int64),\n",
       "  'classes': array([b'1'], dtype=object),\n",
       "  'all_class_ids': array([0, 1]),\n",
       "  'all_classes': array([b'0', b'1'], dtype=object)},\n",
       " {'logits': array([1.3215632], dtype=float32),\n",
       "  'logistic': array([0.7894417], dtype=float32),\n",
       "  'probabilities': array([0.21055833, 0.78944165], dtype=float32),\n",
       "  'class_ids': array([1], dtype=int64),\n",
       "  'classes': array([b'1'], dtype=object),\n",
       "  'all_class_ids': array([0, 1]),\n",
       "  'all_classes': array([b'0', b'1'], dtype=object)},\n",
       " {'logits': array([-1.135523], dtype=float32),\n",
       "  'logistic': array([0.24314332], dtype=float32),\n",
       "  'probabilities': array([0.75685674, 0.2431433 ], dtype=float32),\n",
       "  'class_ids': array([0], dtype=int64),\n",
       "  'classes': array([b'0'], dtype=object),\n",
       "  'all_class_ids': array([0, 1]),\n",
       "  'all_classes': array([b'0', b'1'], dtype=object)},\n",
       " {'logits': array([-1.4946028], dtype=float32),\n",
       "  'logistic': array([0.18323189], dtype=float32),\n",
       "  'probabilities': array([0.8167681 , 0.18323188], dtype=float32),\n",
       "  'class_ids': array([0], dtype=int64),\n",
       "  'classes': array([b'0'], dtype=object),\n",
       "  'all_class_ids': array([0, 1]),\n",
       "  'all_classes': array([b'0', b'1'], dtype=object)},\n",
       " {'logits': array([0.23033476], dtype=float32),\n",
       "  'logistic': array([0.5573304], dtype=float32),\n",
       "  'probabilities': array([0.44266954, 0.5573304 ], dtype=float32),\n",
       "  'class_ids': array([1], dtype=int64),\n",
       "  'classes': array([b'1'], dtype=object),\n",
       "  'all_class_ids': array([0, 1]),\n",
       "  'all_classes': array([b'0', b'1'], dtype=object)},\n",
       " {'logits': array([-1.6099265], dtype=float32),\n",
       "  'logistic': array([0.16659883], dtype=float32),\n",
       "  'probabilities': array([0.8334012 , 0.16659883], dtype=float32),\n",
       "  'class_ids': array([0], dtype=int64),\n",
       "  'classes': array([b'0'], dtype=object),\n",
       "  'all_class_ids': array([0, 1]),\n",
       "  'all_classes': array([b'0', b'1'], dtype=object)},\n",
       " {'logits': array([1.3242717], dtype=float32),\n",
       "  'logistic': array([0.78989154], dtype=float32),\n",
       "  'probabilities': array([0.21010847, 0.7898915 ], dtype=float32),\n",
       "  'class_ids': array([1], dtype=int64),\n",
       "  'classes': array([b'1'], dtype=object),\n",
       "  'all_class_ids': array([0, 1]),\n",
       "  'all_classes': array([b'0', b'1'], dtype=object)},\n",
       " {'logits': array([0.24355459], dtype=float32),\n",
       "  'logistic': array([0.56058943], dtype=float32),\n",
       "  'probabilities': array([0.43941054, 0.56058943], dtype=float32),\n",
       "  'class_ids': array([1], dtype=int64),\n",
       "  'classes': array([b'1'], dtype=object),\n",
       "  'all_class_ids': array([0, 1]),\n",
       "  'all_classes': array([b'0', b'1'], dtype=object)},\n",
       " {'logits': array([-1.5022715], dtype=float32),\n",
       "  'logistic': array([0.18208697], dtype=float32),\n",
       "  'probabilities': array([0.81791306, 0.18208697], dtype=float32),\n",
       "  'class_ids': array([0], dtype=int64),\n",
       "  'classes': array([b'0'], dtype=object),\n",
       "  'all_class_ids': array([0, 1]),\n",
       "  'all_classes': array([b'0', b'1'], dtype=object)},\n",
       " {'logits': array([0.23028386], dtype=float32),\n",
       "  'logistic': array([0.55731785], dtype=float32),\n",
       "  'probabilities': array([0.44268212, 0.5573179 ], dtype=float32),\n",
       "  'class_ids': array([1], dtype=int64),\n",
       "  'classes': array([b'1'], dtype=object),\n",
       "  'all_class_ids': array([0, 1]),\n",
       "  'all_classes': array([b'0', b'1'], dtype=object)},\n",
       " {'logits': array([-0.05963314], dtype=float32),\n",
       "  'logistic': array([0.48509613], dtype=float32),\n",
       "  'probabilities': array([0.5149039, 0.4850962], dtype=float32),\n",
       "  'class_ids': array([0], dtype=int64),\n",
       "  'classes': array([b'0'], dtype=object),\n",
       "  'all_class_ids': array([0, 1]),\n",
       "  'all_classes': array([b'0', b'1'], dtype=object)},\n",
       " {'logits': array([-1.9974215], dtype=float32),\n",
       "  'logistic': array([0.1194739], dtype=float32),\n",
       "  'probabilities': array([0.88052607, 0.11947391], dtype=float32),\n",
       "  'class_ids': array([0], dtype=int64),\n",
       "  'classes': array([b'0'], dtype=object),\n",
       "  'all_class_ids': array([0, 1]),\n",
       "  'all_classes': array([b'0', b'1'], dtype=object)},\n",
       " {'logits': array([0.11480045], dtype=float32),\n",
       "  'logistic': array([0.52866864], dtype=float32),\n",
       "  'probabilities': array([0.4713314 , 0.52866864], dtype=float32),\n",
       "  'class_ids': array([1], dtype=int64),\n",
       "  'classes': array([b'1'], dtype=object),\n",
       "  'all_class_ids': array([0, 1]),\n",
       "  'all_classes': array([b'0', b'1'], dtype=object)},\n",
       " {'logits': array([0.45767272], dtype=float32),\n",
       "  'logistic': array([0.6124619], dtype=float32),\n",
       "  'probabilities': array([0.38753808, 0.6124619 ], dtype=float32),\n",
       "  'class_ids': array([1], dtype=int64),\n",
       "  'classes': array([b'1'], dtype=object),\n",
       "  'all_class_ids': array([0, 1]),\n",
       "  'all_classes': array([b'0', b'1'], dtype=object)},\n",
       " {'logits': array([1.1108546], dtype=float32),\n",
       "  'logistic': array([0.7522884], dtype=float32),\n",
       "  'probabilities': array([0.24771158, 0.7522884 ], dtype=float32),\n",
       "  'class_ids': array([1], dtype=int64),\n",
       "  'classes': array([b'1'], dtype=object),\n",
       "  'all_class_ids': array([0, 1]),\n",
       "  'all_classes': array([b'0', b'1'], dtype=object)},\n",
       " {'logits': array([1.4841733], dtype=float32),\n",
       "  'logistic': array([0.8152021], dtype=float32),\n",
       "  'probabilities': array([0.18479788, 0.81520206], dtype=float32),\n",
       "  'class_ids': array([1], dtype=int64),\n",
       "  'classes': array([b'1'], dtype=object),\n",
       "  'all_class_ids': array([0, 1]),\n",
       "  'all_classes': array([b'0', b'1'], dtype=object)},\n",
       " {'logits': array([-0.16855681], dtype=float32),\n",
       "  'logistic': array([0.45796028], dtype=float32),\n",
       "  'probabilities': array([0.54203975, 0.4579603 ], dtype=float32),\n",
       "  'class_ids': array([0], dtype=int64),\n",
       "  'classes': array([b'0'], dtype=object),\n",
       "  'all_class_ids': array([0, 1]),\n",
       "  'all_classes': array([b'0', b'1'], dtype=object)},\n",
       " {'logits': array([-1.54289], dtype=float32),\n",
       "  'logistic': array([0.17611556], dtype=float32),\n",
       "  'probabilities': array([0.8238845 , 0.17611556], dtype=float32),\n",
       "  'class_ids': array([0], dtype=int64),\n",
       "  'classes': array([b'0'], dtype=object),\n",
       "  'all_class_ids': array([0, 1]),\n",
       "  'all_classes': array([b'0', b'1'], dtype=object)},\n",
       " {'logits': array([-2.3146744], dtype=float32),\n",
       "  'logistic': array([0.0899149], dtype=float32),\n",
       "  'probabilities': array([0.9100851, 0.0899149], dtype=float32),\n",
       "  'class_ids': array([0], dtype=int64),\n",
       "  'classes': array([b'0'], dtype=object),\n",
       "  'all_class_ids': array([0, 1]),\n",
       "  'all_classes': array([b'0', b'1'], dtype=object)},\n",
       " {'logits': array([-2.0691004], dtype=float32),\n",
       "  'logistic': array([0.11213657], dtype=float32),\n",
       "  'probabilities': array([0.8878634 , 0.11213657], dtype=float32),\n",
       "  'class_ids': array([0], dtype=int64),\n",
       "  'classes': array([b'0'], dtype=object),\n",
       "  'all_class_ids': array([0, 1]),\n",
       "  'all_classes': array([b'0', b'1'], dtype=object)},\n",
       " {'logits': array([-0.9528336], dtype=float32),\n",
       "  'logistic': array([0.2783153], dtype=float32),\n",
       "  'probabilities': array([0.7216847 , 0.27831534], dtype=float32),\n",
       "  'class_ids': array([0], dtype=int64),\n",
       "  'classes': array([b'0'], dtype=object),\n",
       "  'all_class_ids': array([0, 1]),\n",
       "  'all_classes': array([b'0', b'1'], dtype=object)},\n",
       " {'logits': array([-0.6686043], dtype=float32),\n",
       "  'logistic': array([0.3388094], dtype=float32),\n",
       "  'probabilities': array([0.66119057, 0.33880943], dtype=float32),\n",
       "  'class_ids': array([0], dtype=int64),\n",
       "  'classes': array([b'0'], dtype=object),\n",
       "  'all_class_ids': array([0, 1]),\n",
       "  'all_classes': array([b'0', b'1'], dtype=object)},\n",
       " {'logits': array([-0.8549414], dtype=float32),\n",
       "  'logistic': array([0.2983973], dtype=float32),\n",
       "  'probabilities': array([0.7016027, 0.2983973], dtype=float32),\n",
       "  'class_ids': array([0], dtype=int64),\n",
       "  'classes': array([b'0'], dtype=object),\n",
       "  'all_class_ids': array([0, 1]),\n",
       "  'all_classes': array([b'0', b'1'], dtype=object)}]"
      ]
     },
     "execution_count": 329,
     "metadata": {},
     "output_type": "execute_result"
    }
   ],
   "source": [
    "my_pred"
   ]
  },
  {
   "cell_type": "code",
   "execution_count": 331,
   "metadata": {},
   "outputs": [
    {
     "name": "stdout",
     "output_type": "stream",
     "text": [
      "INFO:tensorflow:Using default config.\n",
      "WARNING:tensorflow:Using temporary folder as model directory: C:\\Users\\manzu\\AppData\\Local\\Temp\\tmpptjvh12u\n",
      "INFO:tensorflow:Using config: {'_model_dir': 'C:\\\\Users\\\\manzu\\\\AppData\\\\Local\\\\Temp\\\\tmpptjvh12u', '_tf_random_seed': None, '_save_summary_steps': 100, '_save_checkpoints_steps': None, '_save_checkpoints_secs': 600, '_session_config': allow_soft_placement: true\n",
      "graph_options {\n",
      "  rewrite_options {\n",
      "    meta_optimizer_iterations: ONE\n",
      "  }\n",
      "}\n",
      ", '_keep_checkpoint_max': 5, '_keep_checkpoint_every_n_hours': 10000, '_log_step_count_steps': 100, '_train_distribute': None, '_device_fn': None, '_protocol': None, '_eval_distribute': None, '_experimental_distribute': None, '_experimental_max_worker_delay_secs': None, '_session_creation_timeout_secs': 7200, '_service': None, '_cluster_spec': ClusterSpec({}), '_task_type': 'worker', '_task_id': 0, '_global_id_in_cluster': 0, '_master': '', '_evaluation_master': '', '_is_chief': True, '_num_ps_replicas': 0, '_num_worker_replicas': 1}\n"
     ]
    }
   ],
   "source": [
    "dnn_model = tf.estimator.DNNClassifier(hidden_units=[10,10,10],feature_columns=feat_cols,n_classes=2)"
   ]
  },
  {
   "cell_type": "code",
   "execution_count": 332,
   "metadata": {},
   "outputs": [],
   "source": [
    "embedded_group_col = tf.feature_column.embedding_column(assigned_group,dimension=4)"
   ]
  },
  {
   "cell_type": "code",
   "execution_count": 333,
   "metadata": {},
   "outputs": [],
   "source": [
    "feat_cols =  [num_preg,plasma_gluc,dias_press,tricep,insulin,bmi,diabetes_pedigree,embedded_group_col,age_bucket]"
   ]
  },
  {
   "cell_type": "code",
   "execution_count": 334,
   "metadata": {},
   "outputs": [],
   "source": [
    "input_func = tf.estimator.inputs.pandas_input_fn(X_train,y_train,batch_size=10,num_epochs=1,shuffle=True)"
   ]
  },
  {
   "cell_type": "code",
   "execution_count": 343,
   "metadata": {},
   "outputs": [
    {
     "name": "stdout",
     "output_type": "stream",
     "text": [
      "INFO:tensorflow:Using default config.\n",
      "WARNING:tensorflow:Using temporary folder as model directory: C:\\Users\\manzu\\AppData\\Local\\Temp\\tmpidwfx7gm\n",
      "INFO:tensorflow:Using config: {'_model_dir': 'C:\\\\Users\\\\manzu\\\\AppData\\\\Local\\\\Temp\\\\tmpidwfx7gm', '_tf_random_seed': None, '_save_summary_steps': 100, '_save_checkpoints_steps': None, '_save_checkpoints_secs': 600, '_session_config': allow_soft_placement: true\n",
      "graph_options {\n",
      "  rewrite_options {\n",
      "    meta_optimizer_iterations: ONE\n",
      "  }\n",
      "}\n",
      ", '_keep_checkpoint_max': 5, '_keep_checkpoint_every_n_hours': 10000, '_log_step_count_steps': 100, '_train_distribute': None, '_device_fn': None, '_protocol': None, '_eval_distribute': None, '_experimental_distribute': None, '_experimental_max_worker_delay_secs': None, '_session_creation_timeout_secs': 7200, '_service': None, '_cluster_spec': ClusterSpec({}), '_task_type': 'worker', '_task_id': 0, '_global_id_in_cluster': 0, '_master': '', '_evaluation_master': '', '_is_chief': True, '_num_ps_replicas': 0, '_num_worker_replicas': 1}\n"
     ]
    }
   ],
   "source": [
    "dnn_model = tf.estimator.DNNClassifier(hidden_units=[10,20,20,10],feature_columns=feat_cols,n_classes=2)"
   ]
  },
  {
   "cell_type": "code",
   "execution_count": 336,
   "metadata": {},
   "outputs": [
    {
     "name": "stdout",
     "output_type": "stream",
     "text": [
      "INFO:tensorflow:Calling model_fn.\n",
      "WARNING:tensorflow:From C:\\Users\\manzu\\anaconda3\\envs\\tfdeeplearning\\lib\\site-packages\\tensorflow\\python\\training\\adagrad.py:77: calling Constant.__init__ (from tensorflow.python.ops.init_ops) with dtype is deprecated and will be removed in a future version.\n",
      "Instructions for updating:\n",
      "Call initializer instance with the dtype argument instead of passing it to the constructor\n",
      "INFO:tensorflow:Done calling model_fn.\n",
      "INFO:tensorflow:Create CheckpointSaverHook.\n",
      "INFO:tensorflow:Graph was finalized.\n",
      "INFO:tensorflow:Running local_init_op.\n",
      "INFO:tensorflow:Done running local_init_op.\n",
      "INFO:tensorflow:Calling checkpoint listeners before saving checkpoint 0...\n",
      "INFO:tensorflow:Saving checkpoints for 0 into C:\\Users\\manzu\\AppData\\Local\\Temp\\tmptzi1k7f8\\model.ckpt.\n",
      "INFO:tensorflow:Calling checkpoint listeners after saving checkpoint 0...\n",
      "INFO:tensorflow:loss = 6.972598, step = 1\n",
      "INFO:tensorflow:Calling checkpoint listeners before saving checkpoint 52...\n",
      "INFO:tensorflow:Saving checkpoints for 52 into C:\\Users\\manzu\\AppData\\Local\\Temp\\tmptzi1k7f8\\model.ckpt.\n",
      "INFO:tensorflow:Calling checkpoint listeners after saving checkpoint 52...\n",
      "INFO:tensorflow:Loss for final step: 1.6249516.\n"
     ]
    },
    {
     "data": {
      "text/plain": [
       "<tensorflow_estimator.python.estimator.canned.dnn.DNNClassifier at 0x220880a2288>"
      ]
     },
     "execution_count": 336,
     "metadata": {},
     "output_type": "execute_result"
    }
   ],
   "source": [
    "dnn_model.train(input_fn=input_func,steps=1000)"
   ]
  },
  {
   "cell_type": "code",
   "execution_count": 340,
   "metadata": {},
   "outputs": [],
   "source": [
    "eval_input_func = tf.estimator.inputs.pandas_input_fn(\n",
    "      x=X_test,\n",
    "      y=y_test,\n",
    "      batch_size=10,\n",
    "      num_epochs=1,\n",
    "      shuffle=False)"
   ]
  },
  {
   "cell_type": "code",
   "execution_count": 342,
   "metadata": {},
   "outputs": [
    {
     "name": "stdout",
     "output_type": "stream",
     "text": [
      "INFO:tensorflow:Calling model_fn.\n",
      "WARNING:tensorflow:Trapezoidal rule is known to produce incorrect PR-AUCs; please switch to \"careful_interpolation\" instead.\n",
      "WARNING:tensorflow:Trapezoidal rule is known to produce incorrect PR-AUCs; please switch to \"careful_interpolation\" instead.\n",
      "INFO:tensorflow:Done calling model_fn.\n",
      "INFO:tensorflow:Starting evaluation at 2020-07-17T16:01:33Z\n",
      "INFO:tensorflow:Graph was finalized.\n",
      "INFO:tensorflow:Restoring parameters from C:\\Users\\manzu\\AppData\\Local\\Temp\\tmptzi1k7f8\\model.ckpt-52\n",
      "INFO:tensorflow:Running local_init_op.\n",
      "INFO:tensorflow:Done running local_init_op.\n",
      "INFO:tensorflow:Inference Time : 9.92160s\n",
      "INFO:tensorflow:Finished evaluation at 2020-07-17-16:01:43\n",
      "INFO:tensorflow:Saving dict for global step 52: accuracy = 0.6417323, accuracy_baseline = 0.65748036, auc = 0.7090646, auc_precision_recall = 0.5589702, average_loss = 0.59088296, global_step = 52, label/mean = 0.34251967, loss = 5.772472, precision = 0.47142857, prediction/mean = 0.3935693, recall = 0.37931034\n",
      "INFO:tensorflow:Saving 'checkpoint_path' summary for global step 52: C:\\Users\\manzu\\AppData\\Local\\Temp\\tmptzi1k7f8\\model.ckpt-52\n"
     ]
    },
    {
     "data": {
      "text/plain": [
       "{'accuracy': 0.6417323,\n",
       " 'accuracy_baseline': 0.65748036,\n",
       " 'auc': 0.7090646,\n",
       " 'auc_precision_recall': 0.5589702,\n",
       " 'average_loss': 0.59088296,\n",
       " 'label/mean': 0.34251967,\n",
       " 'loss': 5.772472,\n",
       " 'precision': 0.47142857,\n",
       " 'prediction/mean': 0.3935693,\n",
       " 'recall': 0.37931034,\n",
       " 'global_step': 52}"
      ]
     },
     "execution_count": 342,
     "metadata": {},
     "output_type": "execute_result"
    }
   ],
   "source": [
    "dnn_model.evaluate(eval_input_func)"
   ]
  },
  {
   "cell_type": "code",
   "execution_count": 344,
   "metadata": {},
   "outputs": [],
   "source": [
    "#TF REGRESSION EXERCISE"
   ]
  },
  {
   "cell_type": "code",
   "execution_count": 345,
   "metadata": {},
   "outputs": [],
   "source": [
    "import pandas as pd"
   ]
  },
  {
   "cell_type": "code",
   "execution_count": 347,
   "metadata": {},
   "outputs": [],
   "source": [
    "housing = pd.read_csv('cal_housing_clean.csv') "
   ]
  },
  {
   "cell_type": "code",
   "execution_count": 348,
   "metadata": {},
   "outputs": [
    {
     "data": {
      "text/html": [
       "<div>\n",
       "<style scoped>\n",
       "    .dataframe tbody tr th:only-of-type {\n",
       "        vertical-align: middle;\n",
       "    }\n",
       "\n",
       "    .dataframe tbody tr th {\n",
       "        vertical-align: top;\n",
       "    }\n",
       "\n",
       "    .dataframe thead th {\n",
       "        text-align: right;\n",
       "    }\n",
       "</style>\n",
       "<table border=\"1\" class=\"dataframe\">\n",
       "  <thead>\n",
       "    <tr style=\"text-align: right;\">\n",
       "      <th></th>\n",
       "      <th>housingMedianAge</th>\n",
       "      <th>totalRooms</th>\n",
       "      <th>totalBedrooms</th>\n",
       "      <th>population</th>\n",
       "      <th>households</th>\n",
       "      <th>medianIncome</th>\n",
       "      <th>medianHouseValue</th>\n",
       "    </tr>\n",
       "  </thead>\n",
       "  <tbody>\n",
       "    <tr>\n",
       "      <th>0</th>\n",
       "      <td>41.0</td>\n",
       "      <td>880.0</td>\n",
       "      <td>129.0</td>\n",
       "      <td>322.0</td>\n",
       "      <td>126.0</td>\n",
       "      <td>8.3252</td>\n",
       "      <td>452600.0</td>\n",
       "    </tr>\n",
       "    <tr>\n",
       "      <th>1</th>\n",
       "      <td>21.0</td>\n",
       "      <td>7099.0</td>\n",
       "      <td>1106.0</td>\n",
       "      <td>2401.0</td>\n",
       "      <td>1138.0</td>\n",
       "      <td>8.3014</td>\n",
       "      <td>358500.0</td>\n",
       "    </tr>\n",
       "    <tr>\n",
       "      <th>2</th>\n",
       "      <td>52.0</td>\n",
       "      <td>1467.0</td>\n",
       "      <td>190.0</td>\n",
       "      <td>496.0</td>\n",
       "      <td>177.0</td>\n",
       "      <td>7.2574</td>\n",
       "      <td>352100.0</td>\n",
       "    </tr>\n",
       "    <tr>\n",
       "      <th>3</th>\n",
       "      <td>52.0</td>\n",
       "      <td>1274.0</td>\n",
       "      <td>235.0</td>\n",
       "      <td>558.0</td>\n",
       "      <td>219.0</td>\n",
       "      <td>5.6431</td>\n",
       "      <td>341300.0</td>\n",
       "    </tr>\n",
       "    <tr>\n",
       "      <th>4</th>\n",
       "      <td>52.0</td>\n",
       "      <td>1627.0</td>\n",
       "      <td>280.0</td>\n",
       "      <td>565.0</td>\n",
       "      <td>259.0</td>\n",
       "      <td>3.8462</td>\n",
       "      <td>342200.0</td>\n",
       "    </tr>\n",
       "  </tbody>\n",
       "</table>\n",
       "</div>"
      ],
      "text/plain": [
       "   housingMedianAge  totalRooms  totalBedrooms  population  households  \\\n",
       "0              41.0       880.0          129.0       322.0       126.0   \n",
       "1              21.0      7099.0         1106.0      2401.0      1138.0   \n",
       "2              52.0      1467.0          190.0       496.0       177.0   \n",
       "3              52.0      1274.0          235.0       558.0       219.0   \n",
       "4              52.0      1627.0          280.0       565.0       259.0   \n",
       "\n",
       "   medianIncome  medianHouseValue  \n",
       "0        8.3252          452600.0  \n",
       "1        8.3014          358500.0  \n",
       "2        7.2574          352100.0  \n",
       "3        5.6431          341300.0  \n",
       "4        3.8462          342200.0  "
      ]
     },
     "execution_count": 348,
     "metadata": {},
     "output_type": "execute_result"
    }
   ],
   "source": [
    "housing.head()"
   ]
  },
  {
   "cell_type": "code",
   "execution_count": 349,
   "metadata": {},
   "outputs": [],
   "source": [
    "#"
   ]
  },
  {
   "cell_type": "code",
   "execution_count": 350,
   "metadata": {},
   "outputs": [],
   "source": [
    "#"
   ]
  },
  {
   "cell_type": "code",
   "execution_count": 352,
   "metadata": {},
   "outputs": [],
   "source": [
    "y_val = housing['medianHouseValue']"
   ]
  },
  {
   "cell_type": "code",
   "execution_count": 354,
   "metadata": {},
   "outputs": [],
   "source": [
    "x_data = housing.drop('medianHouseValue', axis=1)"
   ]
  },
  {
   "cell_type": "code",
   "execution_count": 356,
   "metadata": {},
   "outputs": [],
   "source": [
    "from sklearn.model_selection import train_test_split"
   ]
  },
  {
   "cell_type": "code",
   "execution_count": 361,
   "metadata": {},
   "outputs": [],
   "source": [
    "X_train, X_test, y_train, y_test = train_test_split(x_data,y_val,test_size=0.3,random_state=101)"
   ]
  },
  {
   "cell_type": "code",
   "execution_count": 363,
   "metadata": {},
   "outputs": [],
   "source": [
    "from sklearn.preprocessing import MinMaxScaler"
   ]
  },
  {
   "cell_type": "code",
   "execution_count": 364,
   "metadata": {},
   "outputs": [],
   "source": [
    "scaler = MinMaxScaler()"
   ]
  },
  {
   "cell_type": "code",
   "execution_count": 365,
   "metadata": {},
   "outputs": [
    {
     "data": {
      "text/plain": [
       "MinMaxScaler(copy=True, feature_range=(0, 1))"
      ]
     },
     "execution_count": 365,
     "metadata": {},
     "output_type": "execute_result"
    }
   ],
   "source": [
    "scaler.fit(X_train)"
   ]
  },
  {
   "cell_type": "code",
   "execution_count": 366,
   "metadata": {},
   "outputs": [],
   "source": [
    "X_train = pd.DataFrame(data=scaler.transform(X_train),columns=X_train.columns,index=X_train.index)"
   ]
  },
  {
   "cell_type": "code",
   "execution_count": 367,
   "metadata": {},
   "outputs": [],
   "source": [
    "X_test = pd.DataFrame(data=scaler.transform(X_test),columns=X_test.columns,index=X_test.index)"
   ]
  },
  {
   "cell_type": "code",
   "execution_count": 368,
   "metadata": {},
   "outputs": [],
   "source": [
    "#Feature Columns"
   ]
  },
  {
   "cell_type": "code",
   "execution_count": 369,
   "metadata": {},
   "outputs": [
    {
     "data": {
      "text/plain": [
       "Index(['housingMedianAge', 'totalRooms', 'totalBedrooms', 'population',\n",
       "       'households', 'medianIncome', 'medianHouseValue'],\n",
       "      dtype='object')"
      ]
     },
     "execution_count": 369,
     "metadata": {},
     "output_type": "execute_result"
    }
   ],
   "source": [
    "housing.columns"
   ]
  },
  {
   "cell_type": "code",
   "execution_count": 370,
   "metadata": {},
   "outputs": [],
   "source": [
    "import tensorflow.compat.v1 as tf\n",
    "tf.disable_v2_behavior()"
   ]
  },
  {
   "cell_type": "code",
   "execution_count": 371,
   "metadata": {},
   "outputs": [],
   "source": [
    "age = tf.feature_column.numeric_column('housingMedianAge')"
   ]
  },
  {
   "cell_type": "code",
   "execution_count": 372,
   "metadata": {},
   "outputs": [],
   "source": [
    "rooms = tf.feature_column.numeric_column('totalRooms')\n",
    "bedrooms = tf.feature_column.numeric_column('totalBedrooms')\n",
    "pop = tf.feature_column.numeric_column('population')\n",
    "households = tf.feature_column.numeric_column('households')\n",
    "income = tf.feature_column.numeric_column('medianIncome')"
   ]
  },
  {
   "cell_type": "code",
   "execution_count": 374,
   "metadata": {},
   "outputs": [],
   "source": [
    "feat_cols = [age,rooms,bedrooms,pop,households,income]"
   ]
  },
  {
   "cell_type": "code",
   "execution_count": 375,
   "metadata": {},
   "outputs": [],
   "source": [
    "input_func = tf.estimator.inputs.pandas_input_fn(x=X_train,y=y_train,batch_size=10,num_epochs=1000,shuffle=True)"
   ]
  },
  {
   "cell_type": "code",
   "execution_count": 376,
   "metadata": {},
   "outputs": [
    {
     "name": "stdout",
     "output_type": "stream",
     "text": [
      "INFO:tensorflow:Using default config.\n",
      "WARNING:tensorflow:Using temporary folder as model directory: C:\\Users\\manzu\\AppData\\Local\\Temp\\tmp57z0vx0e\n",
      "INFO:tensorflow:Using config: {'_model_dir': 'C:\\\\Users\\\\manzu\\\\AppData\\\\Local\\\\Temp\\\\tmp57z0vx0e', '_tf_random_seed': None, '_save_summary_steps': 100, '_save_checkpoints_steps': None, '_save_checkpoints_secs': 600, '_session_config': allow_soft_placement: true\n",
      "graph_options {\n",
      "  rewrite_options {\n",
      "    meta_optimizer_iterations: ONE\n",
      "  }\n",
      "}\n",
      ", '_keep_checkpoint_max': 5, '_keep_checkpoint_every_n_hours': 10000, '_log_step_count_steps': 100, '_train_distribute': None, '_device_fn': None, '_protocol': None, '_eval_distribute': None, '_experimental_distribute': None, '_experimental_max_worker_delay_secs': None, '_session_creation_timeout_secs': 7200, '_service': None, '_cluster_spec': ClusterSpec({}), '_task_type': 'worker', '_task_id': 0, '_global_id_in_cluster': 0, '_master': '', '_evaluation_master': '', '_is_chief': True, '_num_ps_replicas': 0, '_num_worker_replicas': 1}\n"
     ]
    }
   ],
   "source": [
    "model = tf.estimator.DNNRegressor(hidden_units=[6,6,6],feature_columns=feat_cols)"
   ]
  },
  {
   "cell_type": "code",
   "execution_count": 398,
   "metadata": {},
   "outputs": [
    {
     "name": "stdout",
     "output_type": "stream",
     "text": [
      "INFO:tensorflow:Calling model_fn.\n",
      "INFO:tensorflow:Done calling model_fn.\n",
      "INFO:tensorflow:Create CheckpointSaverHook.\n",
      "INFO:tensorflow:Graph was finalized.\n",
      "INFO:tensorflow:Restoring parameters from C:\\Users\\manzu\\AppData\\Local\\Temp\\tmp57z0vx0e\\model.ckpt-28000\n",
      "INFO:tensorflow:Running local_init_op.\n",
      "INFO:tensorflow:Done running local_init_op.\n",
      "INFO:tensorflow:Calling checkpoint listeners before saving checkpoint 28000...\n",
      "INFO:tensorflow:Saving checkpoints for 28000 into C:\\Users\\manzu\\AppData\\Local\\Temp\\tmp57z0vx0e\\model.ckpt.\n",
      "INFO:tensorflow:Calling checkpoint listeners after saving checkpoint 28000...\n",
      "INFO:tensorflow:loss = 59504230000.0, step = 28001\n",
      "INFO:tensorflow:global_step/sec: 247.513\n",
      "INFO:tensorflow:loss = 149927080000.0, step = 28101 (0.412 sec)\n",
      "INFO:tensorflow:global_step/sec: 311.074\n",
      "INFO:tensorflow:loss = 109786735000.0, step = 28201 (0.313 sec)\n",
      "INFO:tensorflow:global_step/sec: 326.284\n",
      "INFO:tensorflow:loss = 98213044000.0, step = 28301 (0.306 sec)\n",
      "INFO:tensorflow:global_step/sec: 286.04\n",
      "INFO:tensorflow:loss = 47090217000.0, step = 28401 (0.350 sec)\n",
      "INFO:tensorflow:global_step/sec: 330.142\n",
      "INFO:tensorflow:loss = 157027930000.0, step = 28501 (0.306 sec)\n",
      "INFO:tensorflow:global_step/sec: 336.564\n",
      "INFO:tensorflow:loss = 85979250000.0, step = 28601 (0.294 sec)\n",
      "INFO:tensorflow:global_step/sec: 328.334\n",
      "INFO:tensorflow:loss = 86735410000.0, step = 28701 (0.320 sec)\n",
      "INFO:tensorflow:global_step/sec: 304.461\n",
      "INFO:tensorflow:loss = 159636680000.0, step = 28801 (0.313 sec)\n",
      "INFO:tensorflow:global_step/sec: 326.882\n",
      "INFO:tensorflow:loss = 278380740000.0, step = 28901 (0.306 sec)\n",
      "INFO:tensorflow:Calling checkpoint listeners before saving checkpoint 29000...\n",
      "INFO:tensorflow:Saving checkpoints for 29000 into C:\\Users\\manzu\\AppData\\Local\\Temp\\tmp57z0vx0e\\model.ckpt.\n",
      "INFO:tensorflow:Calling checkpoint listeners after saving checkpoint 29000...\n",
      "INFO:tensorflow:Loss for final step: 116336345000.0.\n"
     ]
    },
    {
     "data": {
      "text/plain": [
       "<tensorflow_estimator.python.estimator.canned.dnn.DNNRegressor at 0x2208c03a2c8>"
      ]
     },
     "execution_count": 398,
     "metadata": {},
     "output_type": "execute_result"
    }
   ],
   "source": [
    "model.train(input_fn=input_func,steps=1000)"
   ]
  },
  {
   "cell_type": "code",
   "execution_count": 399,
   "metadata": {},
   "outputs": [],
   "source": [
    "predict_input_func = tf.estimator.inputs.pandas_input_fn(x=X_test,batch_size=10,num_epochs=1,shuffle=False)"
   ]
  },
  {
   "cell_type": "code",
   "execution_count": 400,
   "metadata": {},
   "outputs": [],
   "source": [
    "pred_gen = model.predict(predict_input_func)"
   ]
  },
  {
   "cell_type": "code",
   "execution_count": 401,
   "metadata": {},
   "outputs": [
    {
     "name": "stdout",
     "output_type": "stream",
     "text": [
      "INFO:tensorflow:Calling model_fn.\n",
      "INFO:tensorflow:Done calling model_fn.\n",
      "INFO:tensorflow:Graph was finalized.\n",
      "INFO:tensorflow:Restoring parameters from C:\\Users\\manzu\\AppData\\Local\\Temp\\tmp57z0vx0e\\model.ckpt-29000\n",
      "INFO:tensorflow:Running local_init_op.\n",
      "INFO:tensorflow:Done running local_init_op.\n"
     ]
    }
   ],
   "source": [
    "predictions = list(pred_gen)"
   ]
  },
  {
   "cell_type": "code",
   "execution_count": 408,
   "metadata": {},
   "outputs": [
    {
     "data": {
      "text/plain": [
       "[{'predictions': array([242959.64], dtype=float32)},\n",
       " {'predictions': array([328444.16], dtype=float32)},\n",
       " {'predictions': array([213809.69], dtype=float32)},\n",
       " {'predictions': array([190255.42], dtype=float32)},\n",
       " {'predictions': array([292585.12], dtype=float32)},\n",
       " {'predictions': array([198419.03], dtype=float32)},\n",
       " {'predictions': array([226163.25], dtype=float32)},\n",
       " {'predictions': array([207832.72], dtype=float32)},\n",
       " {'predictions': array([224640.38], dtype=float32)},\n",
       " {'predictions': array([205848.27], dtype=float32)},\n",
       " {'predictions': array([205900.64], dtype=float32)},\n",
       " {'predictions': array([221908.4], dtype=float32)},\n",
       " {'predictions': array([194043.9], dtype=float32)},\n",
       " {'predictions': array([180762.33], dtype=float32)},\n",
       " {'predictions': array([264424.38], dtype=float32)},\n",
       " {'predictions': array([182901.06], dtype=float32)},\n",
       " {'predictions': array([201346.95], dtype=float32)},\n",
       " {'predictions': array([191459.92], dtype=float32)},\n",
       " {'predictions': array([183695.94], dtype=float32)},\n",
       " {'predictions': array([248976.92], dtype=float32)},\n",
       " {'predictions': array([173264.12], dtype=float32)},\n",
       " {'predictions': array([236639.27], dtype=float32)},\n",
       " {'predictions': array([216926.39], dtype=float32)},\n",
       " {'predictions': array([172128.72], dtype=float32)},\n",
       " {'predictions': array([187065.44], dtype=float32)},\n",
       " {'predictions': array([281817.16], dtype=float32)},\n",
       " {'predictions': array([182969.92], dtype=float32)},\n",
       " {'predictions': array([143453.98], dtype=float32)},\n",
       " {'predictions': array([176100.16], dtype=float32)},\n",
       " {'predictions': array([217076.84], dtype=float32)},\n",
       " {'predictions': array([247455.52], dtype=float32)},\n",
       " {'predictions': array([204612.94], dtype=float32)},\n",
       " {'predictions': array([236421.78], dtype=float32)},\n",
       " {'predictions': array([233107.44], dtype=float32)},\n",
       " {'predictions': array([197672.3], dtype=float32)},\n",
       " {'predictions': array([182615.11], dtype=float32)},\n",
       " {'predictions': array([186246.22], dtype=float32)},\n",
       " {'predictions': array([197102.42], dtype=float32)},\n",
       " {'predictions': array([208102.11], dtype=float32)},\n",
       " {'predictions': array([208771.11], dtype=float32)},\n",
       " {'predictions': array([221017.94], dtype=float32)},\n",
       " {'predictions': array([206893.28], dtype=float32)},\n",
       " {'predictions': array([204661.39], dtype=float32)},\n",
       " {'predictions': array([201370.56], dtype=float32)},\n",
       " {'predictions': array([232091.3], dtype=float32)},\n",
       " {'predictions': array([225555.17], dtype=float32)},\n",
       " {'predictions': array([230755.52], dtype=float32)},\n",
       " {'predictions': array([171857.44], dtype=float32)},\n",
       " {'predictions': array([196861.4], dtype=float32)},\n",
       " {'predictions': array([217751.78], dtype=float32)},\n",
       " {'predictions': array([182276.9], dtype=float32)},\n",
       " {'predictions': array([211139.5], dtype=float32)},\n",
       " {'predictions': array([305353.2], dtype=float32)},\n",
       " {'predictions': array([193570.94], dtype=float32)},\n",
       " {'predictions': array([195480.67], dtype=float32)},\n",
       " {'predictions': array([181666.27], dtype=float32)},\n",
       " {'predictions': array([213892.02], dtype=float32)},\n",
       " {'predictions': array([212865.11], dtype=float32)},\n",
       " {'predictions': array([229368.94], dtype=float32)},\n",
       " {'predictions': array([200760.6], dtype=float32)},\n",
       " {'predictions': array([239877.66], dtype=float32)},\n",
       " {'predictions': array([304848.7], dtype=float32)},\n",
       " {'predictions': array([277711.06], dtype=float32)},\n",
       " {'predictions': array([211987.06], dtype=float32)},\n",
       " {'predictions': array([174678.4], dtype=float32)},\n",
       " {'predictions': array([218369.27], dtype=float32)},\n",
       " {'predictions': array([195924.88], dtype=float32)},\n",
       " {'predictions': array([268291.22], dtype=float32)},\n",
       " {'predictions': array([244149.55], dtype=float32)},\n",
       " {'predictions': array([218176.36], dtype=float32)},\n",
       " {'predictions': array([205088.7], dtype=float32)},\n",
       " {'predictions': array([193233.42], dtype=float32)},\n",
       " {'predictions': array([194828.9], dtype=float32)},\n",
       " {'predictions': array([196788.95], dtype=float32)},\n",
       " {'predictions': array([204168.84], dtype=float32)},\n",
       " {'predictions': array([220392.42], dtype=float32)},\n",
       " {'predictions': array([256019.17], dtype=float32)},\n",
       " {'predictions': array([192358.86], dtype=float32)},\n",
       " {'predictions': array([297324.56], dtype=float32)},\n",
       " {'predictions': array([205486.1], dtype=float32)},\n",
       " {'predictions': array([226849.83], dtype=float32)},\n",
       " {'predictions': array([244450.62], dtype=float32)},\n",
       " {'predictions': array([209342.03], dtype=float32)},\n",
       " {'predictions': array([182370.92], dtype=float32)},\n",
       " {'predictions': array([237850.88], dtype=float32)},\n",
       " {'predictions': array([289408.38], dtype=float32)},\n",
       " {'predictions': array([157572.19], dtype=float32)},\n",
       " {'predictions': array([196462.73], dtype=float32)},\n",
       " {'predictions': array([228994.17], dtype=float32)},\n",
       " {'predictions': array([246254.78], dtype=float32)},\n",
       " {'predictions': array([205761.38], dtype=float32)},\n",
       " {'predictions': array([147325.3], dtype=float32)},\n",
       " {'predictions': array([159572.], dtype=float32)},\n",
       " {'predictions': array([167476.14], dtype=float32)},\n",
       " {'predictions': array([188874.14], dtype=float32)},\n",
       " {'predictions': array([215903.39], dtype=float32)},\n",
       " {'predictions': array([250688.52], dtype=float32)},\n",
       " {'predictions': array([349868.47], dtype=float32)},\n",
       " {'predictions': array([172230.66], dtype=float32)},\n",
       " {'predictions': array([193633.3], dtype=float32)},\n",
       " {'predictions': array([200648.95], dtype=float32)},\n",
       " {'predictions': array([256466.19], dtype=float32)},\n",
       " {'predictions': array([228707.33], dtype=float32)},\n",
       " {'predictions': array([191974.7], dtype=float32)},\n",
       " {'predictions': array([232224.55], dtype=float32)},\n",
       " {'predictions': array([221465.66], dtype=float32)},\n",
       " {'predictions': array([281670.9], dtype=float32)},\n",
       " {'predictions': array([190554.02], dtype=float32)},\n",
       " {'predictions': array([218646.55], dtype=float32)},\n",
       " {'predictions': array([184933.28], dtype=float32)},\n",
       " {'predictions': array([195063.72], dtype=float32)},\n",
       " {'predictions': array([188223.38], dtype=float32)},\n",
       " {'predictions': array([270722.03], dtype=float32)},\n",
       " {'predictions': array([210713.38], dtype=float32)},\n",
       " {'predictions': array([233569.42], dtype=float32)},\n",
       " {'predictions': array([237854.1], dtype=float32)},\n",
       " {'predictions': array([235659.9], dtype=float32)},\n",
       " {'predictions': array([262625.84], dtype=float32)},\n",
       " {'predictions': array([187981.44], dtype=float32)},\n",
       " {'predictions': array([234049.23], dtype=float32)},\n",
       " {'predictions': array([222175.36], dtype=float32)},\n",
       " {'predictions': array([215393.9], dtype=float32)},\n",
       " {'predictions': array([211737.5], dtype=float32)},\n",
       " {'predictions': array([197924.], dtype=float32)},\n",
       " {'predictions': array([230828.88], dtype=float32)},\n",
       " {'predictions': array([180823.03], dtype=float32)},\n",
       " {'predictions': array([209415.3], dtype=float32)},\n",
       " {'predictions': array([232666.55], dtype=float32)},\n",
       " {'predictions': array([238262.05], dtype=float32)},\n",
       " {'predictions': array([210043.14], dtype=float32)},\n",
       " {'predictions': array([184894.], dtype=float32)},\n",
       " {'predictions': array([185321.48], dtype=float32)},\n",
       " {'predictions': array([174167.69], dtype=float32)},\n",
       " {'predictions': array([242155.8], dtype=float32)},\n",
       " {'predictions': array([160250.1], dtype=float32)},\n",
       " {'predictions': array([216213.52], dtype=float32)},\n",
       " {'predictions': array([229734.8], dtype=float32)},\n",
       " {'predictions': array([167596.3], dtype=float32)},\n",
       " {'predictions': array([232501.28], dtype=float32)},\n",
       " {'predictions': array([227134.81], dtype=float32)},\n",
       " {'predictions': array([227770.31], dtype=float32)},\n",
       " {'predictions': array([232109.38], dtype=float32)},\n",
       " {'predictions': array([242226.23], dtype=float32)},\n",
       " {'predictions': array([228647.22], dtype=float32)},\n",
       " {'predictions': array([213240.44], dtype=float32)},\n",
       " {'predictions': array([218430.64], dtype=float32)},\n",
       " {'predictions': array([195357.], dtype=float32)},\n",
       " {'predictions': array([220236.72], dtype=float32)},\n",
       " {'predictions': array([174701.86], dtype=float32)},\n",
       " {'predictions': array([232629.06], dtype=float32)},\n",
       " {'predictions': array([249712.73], dtype=float32)},\n",
       " {'predictions': array([133639.7], dtype=float32)},\n",
       " {'predictions': array([231922.38], dtype=float32)},\n",
       " {'predictions': array([213002.1], dtype=float32)},\n",
       " {'predictions': array([182221.67], dtype=float32)},\n",
       " {'predictions': array([218431.5], dtype=float32)},\n",
       " {'predictions': array([201164.28], dtype=float32)},\n",
       " {'predictions': array([256622.45], dtype=float32)},\n",
       " {'predictions': array([211484.73], dtype=float32)},\n",
       " {'predictions': array([202112.81], dtype=float32)},\n",
       " {'predictions': array([181971.92], dtype=float32)},\n",
       " {'predictions': array([340999.9], dtype=float32)},\n",
       " {'predictions': array([215996.73], dtype=float32)},\n",
       " {'predictions': array([168248.38], dtype=float32)},\n",
       " {'predictions': array([209647.14], dtype=float32)},\n",
       " {'predictions': array([211198.58], dtype=float32)},\n",
       " {'predictions': array([193032.94], dtype=float32)},\n",
       " {'predictions': array([231298.52], dtype=float32)},\n",
       " {'predictions': array([184006.89], dtype=float32)},\n",
       " {'predictions': array([321837.06], dtype=float32)},\n",
       " {'predictions': array([223295.14], dtype=float32)},\n",
       " {'predictions': array([206082.31], dtype=float32)},\n",
       " {'predictions': array([178930.69], dtype=float32)},\n",
       " {'predictions': array([171698.4], dtype=float32)},\n",
       " {'predictions': array([209707.9], dtype=float32)},\n",
       " {'predictions': array([194104.83], dtype=float32)},\n",
       " {'predictions': array([229277.94], dtype=float32)},\n",
       " {'predictions': array([200163.36], dtype=float32)},\n",
       " {'predictions': array([221593.75], dtype=float32)},\n",
       " {'predictions': array([207216.28], dtype=float32)},\n",
       " {'predictions': array([142486.95], dtype=float32)},\n",
       " {'predictions': array([183524.72], dtype=float32)},\n",
       " {'predictions': array([226885.62], dtype=float32)},\n",
       " {'predictions': array([185271.34], dtype=float32)},\n",
       " {'predictions': array([204878.12], dtype=float32)},\n",
       " {'predictions': array([182681.08], dtype=float32)},\n",
       " {'predictions': array([199695.22], dtype=float32)},\n",
       " {'predictions': array([222511.3], dtype=float32)},\n",
       " {'predictions': array([178438.97], dtype=float32)},\n",
       " {'predictions': array([177714.61], dtype=float32)},\n",
       " {'predictions': array([248178.39], dtype=float32)},\n",
       " {'predictions': array([200315.5], dtype=float32)},\n",
       " {'predictions': array([276189.12], dtype=float32)},\n",
       " {'predictions': array([191075.19], dtype=float32)},\n",
       " {'predictions': array([216740.67], dtype=float32)},\n",
       " {'predictions': array([237233.14], dtype=float32)},\n",
       " {'predictions': array([250753.1], dtype=float32)},\n",
       " {'predictions': array([183640.2], dtype=float32)},\n",
       " {'predictions': array([199520.67], dtype=float32)},\n",
       " {'predictions': array([177962.39], dtype=float32)},\n",
       " {'predictions': array([174598.88], dtype=float32)},\n",
       " {'predictions': array([198350.08], dtype=float32)},\n",
       " {'predictions': array([236768.94], dtype=float32)},\n",
       " {'predictions': array([217672.6], dtype=float32)},\n",
       " {'predictions': array([399711.97], dtype=float32)},\n",
       " {'predictions': array([202581.44], dtype=float32)},\n",
       " {'predictions': array([244509.86], dtype=float32)},\n",
       " {'predictions': array([244384.17], dtype=float32)},\n",
       " {'predictions': array([177125.98], dtype=float32)},\n",
       " {'predictions': array([208671.11], dtype=float32)},\n",
       " {'predictions': array([198888.11], dtype=float32)},\n",
       " {'predictions': array([238505.3], dtype=float32)},\n",
       " {'predictions': array([219571.92], dtype=float32)},\n",
       " {'predictions': array([245526.58], dtype=float32)},\n",
       " {'predictions': array([186681.03], dtype=float32)},\n",
       " {'predictions': array([185915.38], dtype=float32)},\n",
       " {'predictions': array([225927.61], dtype=float32)},\n",
       " {'predictions': array([201081.78], dtype=float32)},\n",
       " {'predictions': array([239066.38], dtype=float32)},\n",
       " {'predictions': array([210129.28], dtype=float32)},\n",
       " {'predictions': array([194437.16], dtype=float32)},\n",
       " {'predictions': array([264635.94], dtype=float32)},\n",
       " {'predictions': array([201946.2], dtype=float32)},\n",
       " {'predictions': array([208360.48], dtype=float32)},\n",
       " {'predictions': array([189624.84], dtype=float32)},\n",
       " {'predictions': array([272639.2], dtype=float32)},\n",
       " {'predictions': array([213926.28], dtype=float32)},\n",
       " {'predictions': array([180462.23], dtype=float32)},\n",
       " {'predictions': array([197355.89], dtype=float32)},\n",
       " {'predictions': array([243991.42], dtype=float32)},\n",
       " {'predictions': array([228883.92], dtype=float32)},\n",
       " {'predictions': array([172252.17], dtype=float32)},\n",
       " {'predictions': array([189434.31], dtype=float32)},\n",
       " {'predictions': array([183094.08], dtype=float32)},\n",
       " {'predictions': array([222176.], dtype=float32)},\n",
       " {'predictions': array([260580.66], dtype=float32)},\n",
       " {'predictions': array([293759.84], dtype=float32)},\n",
       " {'predictions': array([219635.39], dtype=float32)},\n",
       " {'predictions': array([255193.27], dtype=float32)},\n",
       " {'predictions': array([216421.72], dtype=float32)},\n",
       " {'predictions': array([314479.4], dtype=float32)},\n",
       " {'predictions': array([216259.62], dtype=float32)},\n",
       " {'predictions': array([274175.4], dtype=float32)},\n",
       " {'predictions': array([188467.25], dtype=float32)},\n",
       " {'predictions': array([231762.6], dtype=float32)},\n",
       " {'predictions': array([174608.72], dtype=float32)},\n",
       " {'predictions': array([225488.19], dtype=float32)},\n",
       " {'predictions': array([191815.17], dtype=float32)},\n",
       " {'predictions': array([237061.56], dtype=float32)},\n",
       " {'predictions': array([224587.42], dtype=float32)},\n",
       " {'predictions': array([227756.55], dtype=float32)},\n",
       " {'predictions': array([216934.06], dtype=float32)},\n",
       " {'predictions': array([170971.3], dtype=float32)},\n",
       " {'predictions': array([204853.66], dtype=float32)},\n",
       " {'predictions': array([166496.17], dtype=float32)},\n",
       " {'predictions': array([202778.12], dtype=float32)},\n",
       " {'predictions': array([205945.89], dtype=float32)},\n",
       " {'predictions': array([189466.28], dtype=float32)},\n",
       " {'predictions': array([225546.31], dtype=float32)},\n",
       " {'predictions': array([205783.03], dtype=float32)},\n",
       " {'predictions': array([207302.95], dtype=float32)},\n",
       " {'predictions': array([205836.67], dtype=float32)},\n",
       " {'predictions': array([256726.11], dtype=float32)},\n",
       " {'predictions': array([176064.56], dtype=float32)},\n",
       " {'predictions': array([228620.83], dtype=float32)},\n",
       " {'predictions': array([260327.67], dtype=float32)},\n",
       " {'predictions': array([243708.67], dtype=float32)},\n",
       " {'predictions': array([183209.94], dtype=float32)},\n",
       " {'predictions': array([231519.95], dtype=float32)},\n",
       " {'predictions': array([172494.44], dtype=float32)},\n",
       " {'predictions': array([211671.14], dtype=float32)},\n",
       " {'predictions': array([213948.19], dtype=float32)},\n",
       " {'predictions': array([177249.52], dtype=float32)},\n",
       " {'predictions': array([139699.22], dtype=float32)},\n",
       " {'predictions': array([206482.28], dtype=float32)},\n",
       " {'predictions': array([221923.1], dtype=float32)},\n",
       " {'predictions': array([218643.55], dtype=float32)},\n",
       " {'predictions': array([241004.5], dtype=float32)},\n",
       " {'predictions': array([205651.52], dtype=float32)},\n",
       " {'predictions': array([213832.44], dtype=float32)},\n",
       " {'predictions': array([182344.14], dtype=float32)},\n",
       " {'predictions': array([236497.19], dtype=float32)},\n",
       " {'predictions': array([225768.16], dtype=float32)},\n",
       " {'predictions': array([226594.72], dtype=float32)},\n",
       " {'predictions': array([166712.83], dtype=float32)},\n",
       " {'predictions': array([180472.88], dtype=float32)},\n",
       " {'predictions': array([179059.94], dtype=float32)},\n",
       " {'predictions': array([229000.6], dtype=float32)},\n",
       " {'predictions': array([189525.2], dtype=float32)},\n",
       " {'predictions': array([274944.62], dtype=float32)},\n",
       " {'predictions': array([189108.45], dtype=float32)},\n",
       " {'predictions': array([216222.17], dtype=float32)},\n",
       " {'predictions': array([164314.66], dtype=float32)},\n",
       " {'predictions': array([168969.94], dtype=float32)},\n",
       " {'predictions': array([281750.62], dtype=float32)},\n",
       " {'predictions': array([216975.33], dtype=float32)},\n",
       " {'predictions': array([221853.62], dtype=float32)},\n",
       " {'predictions': array([205083.27], dtype=float32)},\n",
       " {'predictions': array([277615.47], dtype=float32)},\n",
       " {'predictions': array([272022.16], dtype=float32)},\n",
       " {'predictions': array([203277.67], dtype=float32)},\n",
       " {'predictions': array([185384.11], dtype=float32)},\n",
       " {'predictions': array([228252.66], dtype=float32)},\n",
       " {'predictions': array([204367.08], dtype=float32)},\n",
       " {'predictions': array([355200.78], dtype=float32)},\n",
       " {'predictions': array([234016.72], dtype=float32)},\n",
       " {'predictions': array([242505.97], dtype=float32)},\n",
       " {'predictions': array([262502.88], dtype=float32)},\n",
       " {'predictions': array([232883.03], dtype=float32)},\n",
       " {'predictions': array([216679.27], dtype=float32)},\n",
       " {'predictions': array([145766.39], dtype=float32)},\n",
       " {'predictions': array([274210.22], dtype=float32)},\n",
       " {'predictions': array([214932.52], dtype=float32)},\n",
       " {'predictions': array([246629.89], dtype=float32)},\n",
       " {'predictions': array([174823.92], dtype=float32)},\n",
       " {'predictions': array([169836.75], dtype=float32)},\n",
       " {'predictions': array([202883.1], dtype=float32)},\n",
       " {'predictions': array([209813.27], dtype=float32)},\n",
       " {'predictions': array([181918.62], dtype=float32)},\n",
       " {'predictions': array([167156.27], dtype=float32)},\n",
       " {'predictions': array([233894.6], dtype=float32)},\n",
       " {'predictions': array([200819.3], dtype=float32)},\n",
       " {'predictions': array([147499.27], dtype=float32)},\n",
       " {'predictions': array([181859.4], dtype=float32)},\n",
       " {'predictions': array([178214.14], dtype=float32)},\n",
       " {'predictions': array([245494.86], dtype=float32)},\n",
       " {'predictions': array([165092.28], dtype=float32)},\n",
       " {'predictions': array([203806.42], dtype=float32)},\n",
       " {'predictions': array([193642.27], dtype=float32)},\n",
       " {'predictions': array([207389.42], dtype=float32)},\n",
       " {'predictions': array([207517.7], dtype=float32)},\n",
       " {'predictions': array([237762.1], dtype=float32)},\n",
       " {'predictions': array([192588.08], dtype=float32)},\n",
       " {'predictions': array([194163.92], dtype=float32)},\n",
       " {'predictions': array([216324.12], dtype=float32)},\n",
       " {'predictions': array([196987.06], dtype=float32)},\n",
       " {'predictions': array([212561.5], dtype=float32)},\n",
       " {'predictions': array([274234.88], dtype=float32)},\n",
       " {'predictions': array([224439.47], dtype=float32)},\n",
       " {'predictions': array([224564.69], dtype=float32)},\n",
       " {'predictions': array([204181.92], dtype=float32)},\n",
       " {'predictions': array([212216.66], dtype=float32)},\n",
       " {'predictions': array([171465.88], dtype=float32)},\n",
       " {'predictions': array([173149.4], dtype=float32)},\n",
       " {'predictions': array([238233.34], dtype=float32)},\n",
       " {'predictions': array([273574.22], dtype=float32)},\n",
       " {'predictions': array([191046.33], dtype=float32)},\n",
       " {'predictions': array([208522.72], dtype=float32)},\n",
       " {'predictions': array([191771.05], dtype=float32)},\n",
       " {'predictions': array([160062.95], dtype=float32)},\n",
       " {'predictions': array([197830.67], dtype=float32)},\n",
       " {'predictions': array([286594.78], dtype=float32)},\n",
       " {'predictions': array([248938.2], dtype=float32)},\n",
       " {'predictions': array([258175.66], dtype=float32)},\n",
       " {'predictions': array([202759.45], dtype=float32)},\n",
       " {'predictions': array([198763.73], dtype=float32)},\n",
       " {'predictions': array([222701.42], dtype=float32)},\n",
       " {'predictions': array([222416.03], dtype=float32)},\n",
       " {'predictions': array([232693.86], dtype=float32)},\n",
       " {'predictions': array([217670.7], dtype=float32)},\n",
       " {'predictions': array([224319.9], dtype=float32)},\n",
       " {'predictions': array([257788.12], dtype=float32)},\n",
       " {'predictions': array([177094.42], dtype=float32)},\n",
       " {'predictions': array([263813.38], dtype=float32)},\n",
       " {'predictions': array([188446.94], dtype=float32)},\n",
       " {'predictions': array([172089.25], dtype=float32)},\n",
       " {'predictions': array([200913.62], dtype=float32)},\n",
       " {'predictions': array([169513.44], dtype=float32)},\n",
       " {'predictions': array([200125.48], dtype=float32)},\n",
       " {'predictions': array([213221.08], dtype=float32)},\n",
       " {'predictions': array([189127.56], dtype=float32)},\n",
       " {'predictions': array([191010.44], dtype=float32)},\n",
       " {'predictions': array([226044.95], dtype=float32)},\n",
       " {'predictions': array([242799.94], dtype=float32)},\n",
       " {'predictions': array([214348.25], dtype=float32)},\n",
       " {'predictions': array([220397.98], dtype=float32)},\n",
       " {'predictions': array([220888.72], dtype=float32)},\n",
       " {'predictions': array([205302.64], dtype=float32)},\n",
       " {'predictions': array([180832.25], dtype=float32)},\n",
       " {'predictions': array([238577.55], dtype=float32)},\n",
       " {'predictions': array([184943.33], dtype=float32)},\n",
       " {'predictions': array([205079.86], dtype=float32)},\n",
       " {'predictions': array([192937.78], dtype=float32)},\n",
       " {'predictions': array([183687.27], dtype=float32)},\n",
       " {'predictions': array([251737.73], dtype=float32)},\n",
       " {'predictions': array([178870.94], dtype=float32)},\n",
       " {'predictions': array([221377.14], dtype=float32)},\n",
       " {'predictions': array([192936.77], dtype=float32)},\n",
       " {'predictions': array([182911.03], dtype=float32)},\n",
       " {'predictions': array([223952.48], dtype=float32)},\n",
       " {'predictions': array([188308.25], dtype=float32)},\n",
       " {'predictions': array([194057.38], dtype=float32)},\n",
       " {'predictions': array([256380.67], dtype=float32)},\n",
       " {'predictions': array([192753.73], dtype=float32)},\n",
       " {'predictions': array([232632.67], dtype=float32)},\n",
       " {'predictions': array([205829.67], dtype=float32)},\n",
       " {'predictions': array([199770.38], dtype=float32)},\n",
       " {'predictions': array([224258.7], dtype=float32)},\n",
       " {'predictions': array([210775.67], dtype=float32)},\n",
       " {'predictions': array([201272.16], dtype=float32)},\n",
       " {'predictions': array([201039.33], dtype=float32)},\n",
       " {'predictions': array([217694.02], dtype=float32)},\n",
       " {'predictions': array([257175.64], dtype=float32)},\n",
       " {'predictions': array([179401.36], dtype=float32)},\n",
       " {'predictions': array([207303.73], dtype=float32)},\n",
       " {'predictions': array([164407.12], dtype=float32)},\n",
       " {'predictions': array([214044.2], dtype=float32)},\n",
       " {'predictions': array([237657.38], dtype=float32)},\n",
       " {'predictions': array([182457.86], dtype=float32)},\n",
       " {'predictions': array([196118.72], dtype=float32)},\n",
       " {'predictions': array([212691.83], dtype=float32)},\n",
       " {'predictions': array([201647.5], dtype=float32)},\n",
       " {'predictions': array([253400.6], dtype=float32)},\n",
       " {'predictions': array([185108.05], dtype=float32)},\n",
       " {'predictions': array([154365.23], dtype=float32)},\n",
       " {'predictions': array([197938.77], dtype=float32)},\n",
       " {'predictions': array([173348.56], dtype=float32)},\n",
       " {'predictions': array([199146.12], dtype=float32)},\n",
       " {'predictions': array([238227.28], dtype=float32)},\n",
       " {'predictions': array([247925.27], dtype=float32)},\n",
       " {'predictions': array([299170.], dtype=float32)},\n",
       " {'predictions': array([232976.28], dtype=float32)},\n",
       " {'predictions': array([187005.27], dtype=float32)},\n",
       " {'predictions': array([141695.72], dtype=float32)},\n",
       " {'predictions': array([167716.22], dtype=float32)},\n",
       " {'predictions': array([175611.28], dtype=float32)},\n",
       " {'predictions': array([263017.62], dtype=float32)},\n",
       " {'predictions': array([190916.89], dtype=float32)},\n",
       " {'predictions': array([228586.31], dtype=float32)},\n",
       " {'predictions': array([177470.2], dtype=float32)},\n",
       " {'predictions': array([209849.06], dtype=float32)},\n",
       " {'predictions': array([253979.62], dtype=float32)},\n",
       " {'predictions': array([168698.52], dtype=float32)},\n",
       " {'predictions': array([201702.78], dtype=float32)},\n",
       " {'predictions': array([189973.47], dtype=float32)},\n",
       " {'predictions': array([195585.34], dtype=float32)},\n",
       " {'predictions': array([196008.9], dtype=float32)},\n",
       " {'predictions': array([240628.58], dtype=float32)},\n",
       " {'predictions': array([231251.33], dtype=float32)},\n",
       " {'predictions': array([203584.9], dtype=float32)},\n",
       " {'predictions': array([175046.22], dtype=float32)},\n",
       " {'predictions': array([169942.11], dtype=float32)},\n",
       " {'predictions': array([172482.81], dtype=float32)},\n",
       " {'predictions': array([171612.62], dtype=float32)},\n",
       " {'predictions': array([189113.77], dtype=float32)},\n",
       " {'predictions': array([243329.39], dtype=float32)},\n",
       " {'predictions': array([191137.52], dtype=float32)},\n",
       " {'predictions': array([255275.6], dtype=float32)},\n",
       " {'predictions': array([167733.56], dtype=float32)},\n",
       " {'predictions': array([231007.16], dtype=float32)},\n",
       " {'predictions': array([198782.6], dtype=float32)},\n",
       " {'predictions': array([233741.7], dtype=float32)},\n",
       " {'predictions': array([177165.19], dtype=float32)},\n",
       " {'predictions': array([186064.94], dtype=float32)},\n",
       " {'predictions': array([271366.62], dtype=float32)},\n",
       " {'predictions': array([268858.16], dtype=float32)},\n",
       " {'predictions': array([215439.33], dtype=float32)},\n",
       " {'predictions': array([224308.02], dtype=float32)},\n",
       " {'predictions': array([169151.8], dtype=float32)},\n",
       " {'predictions': array([154343.22], dtype=float32)},\n",
       " {'predictions': array([195687.95], dtype=float32)},\n",
       " {'predictions': array([235518.23], dtype=float32)},\n",
       " {'predictions': array([227741.97], dtype=float32)},\n",
       " {'predictions': array([255484.94], dtype=float32)},\n",
       " {'predictions': array([181616.56], dtype=float32)},\n",
       " {'predictions': array([234024.73], dtype=float32)},\n",
       " {'predictions': array([255848.88], dtype=float32)},\n",
       " {'predictions': array([242410.98], dtype=float32)},\n",
       " {'predictions': array([180415.62], dtype=float32)},\n",
       " {'predictions': array([170612.1], dtype=float32)},\n",
       " {'predictions': array([216937.36], dtype=float32)},\n",
       " {'predictions': array([136343.1], dtype=float32)},\n",
       " {'predictions': array([230159.98], dtype=float32)},\n",
       " {'predictions': array([270565.97], dtype=float32)},\n",
       " {'predictions': array([296393.9], dtype=float32)},\n",
       " {'predictions': array([227423.8], dtype=float32)},\n",
       " {'predictions': array([226323.39], dtype=float32)},\n",
       " {'predictions': array([214663.31], dtype=float32)},\n",
       " {'predictions': array([201420.39], dtype=float32)},\n",
       " {'predictions': array([164908.4], dtype=float32)},\n",
       " {'predictions': array([229474.7], dtype=float32)},\n",
       " {'predictions': array([207249.52], dtype=float32)},\n",
       " {'predictions': array([150148.36], dtype=float32)},\n",
       " {'predictions': array([228768.48], dtype=float32)},\n",
       " {'predictions': array([221498.61], dtype=float32)},\n",
       " {'predictions': array([265707.75], dtype=float32)},\n",
       " {'predictions': array([169163.94], dtype=float32)},\n",
       " {'predictions': array([210856.77], dtype=float32)},\n",
       " {'predictions': array([177806.06], dtype=float32)},\n",
       " {'predictions': array([212220.03], dtype=float32)},\n",
       " {'predictions': array([218359.03], dtype=float32)},\n",
       " {'predictions': array([214811.31], dtype=float32)},\n",
       " {'predictions': array([165508.64], dtype=float32)},\n",
       " {'predictions': array([205378.7], dtype=float32)},\n",
       " {'predictions': array([245729.64], dtype=float32)},\n",
       " {'predictions': array([258940.42], dtype=float32)},\n",
       " {'predictions': array([196834.5], dtype=float32)},\n",
       " {'predictions': array([216523.88], dtype=float32)},\n",
       " {'predictions': array([225537.3], dtype=float32)},\n",
       " {'predictions': array([213889.94], dtype=float32)},\n",
       " {'predictions': array([233132.73], dtype=float32)},\n",
       " {'predictions': array([194354.06], dtype=float32)},\n",
       " {'predictions': array([247334.14], dtype=float32)},\n",
       " {'predictions': array([216069.31], dtype=float32)},\n",
       " {'predictions': array([154578.86], dtype=float32)},\n",
       " {'predictions': array([234984.62], dtype=float32)},\n",
       " {'predictions': array([204323.28], dtype=float32)},\n",
       " {'predictions': array([217395.95], dtype=float32)},\n",
       " {'predictions': array([191824.77], dtype=float32)},\n",
       " {'predictions': array([242069.94], dtype=float32)},\n",
       " {'predictions': array([205046.23], dtype=float32)},\n",
       " {'predictions': array([226065.6], dtype=float32)},\n",
       " {'predictions': array([168323.17], dtype=float32)},\n",
       " {'predictions': array([210215.19], dtype=float32)},\n",
       " {'predictions': array([224071.42], dtype=float32)},\n",
       " {'predictions': array([274409.34], dtype=float32)},\n",
       " {'predictions': array([197342.47], dtype=float32)},\n",
       " {'predictions': array([222114.53], dtype=float32)},\n",
       " {'predictions': array([227890.95], dtype=float32)},\n",
       " {'predictions': array([151229.83], dtype=float32)},\n",
       " {'predictions': array([200600.19], dtype=float32)},\n",
       " {'predictions': array([189659.86], dtype=float32)},\n",
       " {'predictions': array([223736.28], dtype=float32)},\n",
       " {'predictions': array([212606.19], dtype=float32)},\n",
       " {'predictions': array([196089.98], dtype=float32)},\n",
       " {'predictions': array([199112.42], dtype=float32)},\n",
       " {'predictions': array([186976.84], dtype=float32)},\n",
       " {'predictions': array([193082.38], dtype=float32)},\n",
       " {'predictions': array([248249.55], dtype=float32)},\n",
       " {'predictions': array([204844.86], dtype=float32)},\n",
       " {'predictions': array([218009.38], dtype=float32)},\n",
       " {'predictions': array([207903.14], dtype=float32)},\n",
       " {'predictions': array([272198.6], dtype=float32)},\n",
       " {'predictions': array([199485.47], dtype=float32)},\n",
       " {'predictions': array([223317.17], dtype=float32)},\n",
       " {'predictions': array([212823.56], dtype=float32)},\n",
       " {'predictions': array([164398.81], dtype=float32)},\n",
       " {'predictions': array([176389.2], dtype=float32)},\n",
       " {'predictions': array([180288.77], dtype=float32)},\n",
       " {'predictions': array([223366.27], dtype=float32)},\n",
       " {'predictions': array([239253.89], dtype=float32)},\n",
       " {'predictions': array([233937.92], dtype=float32)},\n",
       " {'predictions': array([222593.12], dtype=float32)},\n",
       " {'predictions': array([236370.38], dtype=float32)},\n",
       " {'predictions': array([264572.44], dtype=float32)},\n",
       " {'predictions': array([170423.9], dtype=float32)},\n",
       " {'predictions': array([212306.42], dtype=float32)},\n",
       " {'predictions': array([222138.33], dtype=float32)},\n",
       " {'predictions': array([216159.72], dtype=float32)},\n",
       " {'predictions': array([243900.48], dtype=float32)},\n",
       " {'predictions': array([242883.03], dtype=float32)},\n",
       " {'predictions': array([209866.19], dtype=float32)},\n",
       " {'predictions': array([218360.78], dtype=float32)},\n",
       " {'predictions': array([215717.53], dtype=float32)},\n",
       " {'predictions': array([168589.61], dtype=float32)},\n",
       " {'predictions': array([224790.61], dtype=float32)},\n",
       " {'predictions': array([246321.39], dtype=float32)},\n",
       " {'predictions': array([164893.06], dtype=float32)},\n",
       " {'predictions': array([232038.11], dtype=float32)},\n",
       " {'predictions': array([172101.22], dtype=float32)},\n",
       " {'predictions': array([213794.97], dtype=float32)},\n",
       " {'predictions': array([223097.12], dtype=float32)},\n",
       " {'predictions': array([192915.19], dtype=float32)},\n",
       " {'predictions': array([228964.52], dtype=float32)},\n",
       " {'predictions': array([225171.83], dtype=float32)},\n",
       " {'predictions': array([144894.94], dtype=float32)},\n",
       " {'predictions': array([213231.23], dtype=float32)},\n",
       " {'predictions': array([197574.22], dtype=float32)},\n",
       " {'predictions': array([147759.84], dtype=float32)},\n",
       " {'predictions': array([207647.17], dtype=float32)},\n",
       " {'predictions': array([210372.19], dtype=float32)},\n",
       " {'predictions': array([194011.64], dtype=float32)},\n",
       " {'predictions': array([177994.84], dtype=float32)},\n",
       " {'predictions': array([218498.23], dtype=float32)},\n",
       " {'predictions': array([208771.36], dtype=float32)},\n",
       " {'predictions': array([196346.19], dtype=float32)},\n",
       " {'predictions': array([184045.72], dtype=float32)},\n",
       " {'predictions': array([163598.16], dtype=float32)},\n",
       " {'predictions': array([188782.62], dtype=float32)},\n",
       " {'predictions': array([234649.14], dtype=float32)},\n",
       " {'predictions': array([213959.66], dtype=float32)},\n",
       " {'predictions': array([199051.1], dtype=float32)},\n",
       " {'predictions': array([237079.72], dtype=float32)},\n",
       " {'predictions': array([209188.16], dtype=float32)},\n",
       " {'predictions': array([236836.23], dtype=float32)},\n",
       " {'predictions': array([247749.12], dtype=float32)},\n",
       " {'predictions': array([215830.33], dtype=float32)},\n",
       " {'predictions': array([221159.47], dtype=float32)},\n",
       " {'predictions': array([225711.3], dtype=float32)},\n",
       " {'predictions': array([153171.8], dtype=float32)},\n",
       " {'predictions': array([211409.86], dtype=float32)},\n",
       " {'predictions': array([218820.48], dtype=float32)},\n",
       " {'predictions': array([150708.2], dtype=float32)},\n",
       " {'predictions': array([252539.39], dtype=float32)},\n",
       " {'predictions': array([189398.4], dtype=float32)},\n",
       " {'predictions': array([209817.38], dtype=float32)},\n",
       " {'predictions': array([175419.03], dtype=float32)},\n",
       " {'predictions': array([214252.78], dtype=float32)},\n",
       " {'predictions': array([179806.67], dtype=float32)},\n",
       " {'predictions': array([184903.6], dtype=float32)},\n",
       " {'predictions': array([271105.1], dtype=float32)},\n",
       " {'predictions': array([211332.48], dtype=float32)},\n",
       " {'predictions': array([181172.9], dtype=float32)},\n",
       " {'predictions': array([237682.8], dtype=float32)},\n",
       " {'predictions': array([217603.48], dtype=float32)},\n",
       " {'predictions': array([254139.1], dtype=float32)},\n",
       " {'predictions': array([210250.97], dtype=float32)},\n",
       " {'predictions': array([194967.3], dtype=float32)},\n",
       " {'predictions': array([187347.56], dtype=float32)},\n",
       " {'predictions': array([193459.1], dtype=float32)},\n",
       " {'predictions': array([241187.17], dtype=float32)},\n",
       " {'predictions': array([223816.08], dtype=float32)},\n",
       " {'predictions': array([200771.27], dtype=float32)},\n",
       " {'predictions': array([161298.28], dtype=float32)},\n",
       " {'predictions': array([183673.2], dtype=float32)},\n",
       " {'predictions': array([227180.56], dtype=float32)},\n",
       " {'predictions': array([205796.55], dtype=float32)},\n",
       " {'predictions': array([258537.16], dtype=float32)},\n",
       " {'predictions': array([231131.52], dtype=float32)},\n",
       " {'predictions': array([161972.14], dtype=float32)},\n",
       " {'predictions': array([187952.33], dtype=float32)},\n",
       " {'predictions': array([206764.97], dtype=float32)},\n",
       " {'predictions': array([195496.53], dtype=float32)},\n",
       " {'predictions': array([199326.89], dtype=float32)},\n",
       " {'predictions': array([203007.19], dtype=float32)},\n",
       " {'predictions': array([196797.23], dtype=float32)},\n",
       " {'predictions': array([224601.2], dtype=float32)},\n",
       " {'predictions': array([220444.44], dtype=float32)},\n",
       " {'predictions': array([151338.8], dtype=float32)},\n",
       " {'predictions': array([282534.5], dtype=float32)},\n",
       " {'predictions': array([235929.56], dtype=float32)},\n",
       " {'predictions': array([214505.4], dtype=float32)},\n",
       " {'predictions': array([195150.73], dtype=float32)},\n",
       " {'predictions': array([237972.22], dtype=float32)},\n",
       " {'predictions': array([317483.88], dtype=float32)},\n",
       " {'predictions': array([246267.86], dtype=float32)},\n",
       " {'predictions': array([305036.28], dtype=float32)},\n",
       " {'predictions': array([183679.95], dtype=float32)},\n",
       " {'predictions': array([230484.2], dtype=float32)},\n",
       " {'predictions': array([220088.44], dtype=float32)},\n",
       " {'predictions': array([215837.12], dtype=float32)},\n",
       " {'predictions': array([192532.17], dtype=float32)},\n",
       " {'predictions': array([184162.56], dtype=float32)},\n",
       " {'predictions': array([180885.14], dtype=float32)},\n",
       " {'predictions': array([155363.97], dtype=float32)},\n",
       " {'predictions': array([247358.02], dtype=float32)},\n",
       " {'predictions': array([186458.86], dtype=float32)},\n",
       " {'predictions': array([228588.95], dtype=float32)},\n",
       " {'predictions': array([281450.7], dtype=float32)},\n",
       " {'predictions': array([181601.72], dtype=float32)},\n",
       " {'predictions': array([258039.4], dtype=float32)},\n",
       " {'predictions': array([232910.56], dtype=float32)},\n",
       " {'predictions': array([209444.25], dtype=float32)},\n",
       " {'predictions': array([199567.77], dtype=float32)},\n",
       " {'predictions': array([247198.14], dtype=float32)},\n",
       " {'predictions': array([237946.22], dtype=float32)},\n",
       " {'predictions': array([234607.28], dtype=float32)},\n",
       " {'predictions': array([215797.73], dtype=float32)},\n",
       " {'predictions': array([228183.5], dtype=float32)},\n",
       " {'predictions': array([196011.9], dtype=float32)},\n",
       " {'predictions': array([216200.14], dtype=float32)},\n",
       " {'predictions': array([162574.52], dtype=float32)},\n",
       " {'predictions': array([229955.5], dtype=float32)},\n",
       " {'predictions': array([265932.03], dtype=float32)},\n",
       " {'predictions': array([260901.19], dtype=float32)},\n",
       " {'predictions': array([147019.05], dtype=float32)},\n",
       " {'predictions': array([230859.3], dtype=float32)},\n",
       " {'predictions': array([201759.53], dtype=float32)},\n",
       " {'predictions': array([228360.05], dtype=float32)},\n",
       " {'predictions': array([205930.6], dtype=float32)},\n",
       " {'predictions': array([144775.64], dtype=float32)},\n",
       " {'predictions': array([192003.94], dtype=float32)},\n",
       " {'predictions': array([190420.47], dtype=float32)},\n",
       " {'predictions': array([188840.36], dtype=float32)},\n",
       " {'predictions': array([218904.16], dtype=float32)},\n",
       " {'predictions': array([246151.14], dtype=float32)},\n",
       " {'predictions': array([190057.69], dtype=float32)},\n",
       " {'predictions': array([216846.27], dtype=float32)},\n",
       " {'predictions': array([250200.14], dtype=float32)},\n",
       " {'predictions': array([388552.78], dtype=float32)},\n",
       " {'predictions': array([215356.89], dtype=float32)},\n",
       " {'predictions': array([178233.5], dtype=float32)},\n",
       " {'predictions': array([216063.23], dtype=float32)},\n",
       " {'predictions': array([233183.9], dtype=float32)},\n",
       " {'predictions': array([228271.11], dtype=float32)},\n",
       " {'predictions': array([169115.5], dtype=float32)},\n",
       " {'predictions': array([216788.28], dtype=float32)},\n",
       " {'predictions': array([190375.3], dtype=float32)},\n",
       " {'predictions': array([238988.94], dtype=float32)},\n",
       " {'predictions': array([211595.98], dtype=float32)},\n",
       " {'predictions': array([155801.17], dtype=float32)},\n",
       " {'predictions': array([203285.39], dtype=float32)},\n",
       " {'predictions': array([210977.53], dtype=float32)},\n",
       " {'predictions': array([212230.72], dtype=float32)},\n",
       " {'predictions': array([252973.25], dtype=float32)},\n",
       " {'predictions': array([223903.2], dtype=float32)},\n",
       " {'predictions': array([221644.17], dtype=float32)},\n",
       " {'predictions': array([225368.86], dtype=float32)},\n",
       " {'predictions': array([248642.19], dtype=float32)},\n",
       " {'predictions': array([234002.88], dtype=float32)},\n",
       " {'predictions': array([219487.42], dtype=float32)},\n",
       " {'predictions': array([258938.16], dtype=float32)},\n",
       " {'predictions': array([209334.19], dtype=float32)},\n",
       " {'predictions': array([211407.42], dtype=float32)},\n",
       " {'predictions': array([221779.03], dtype=float32)},\n",
       " {'predictions': array([182410.5], dtype=float32)},\n",
       " {'predictions': array([193319.22], dtype=float32)},\n",
       " {'predictions': array([200262.64], dtype=float32)},\n",
       " {'predictions': array([216890.17], dtype=float32)},\n",
       " {'predictions': array([180066.86], dtype=float32)},\n",
       " {'predictions': array([213234.56], dtype=float32)},\n",
       " {'predictions': array([233052.42], dtype=float32)},\n",
       " {'predictions': array([156589.03], dtype=float32)},\n",
       " {'predictions': array([235039.], dtype=float32)},\n",
       " {'predictions': array([226262.98], dtype=float32)},\n",
       " {'predictions': array([233434.38], dtype=float32)},\n",
       " {'predictions': array([240174.27], dtype=float32)},\n",
       " {'predictions': array([198462.72], dtype=float32)},\n",
       " {'predictions': array([212517.08], dtype=float32)},\n",
       " {'predictions': array([233551.72], dtype=float32)},\n",
       " {'predictions': array([187671.61], dtype=float32)},\n",
       " {'predictions': array([206856.25], dtype=float32)},\n",
       " {'predictions': array([248075.8], dtype=float32)},\n",
       " {'predictions': array([246353.89], dtype=float32)},\n",
       " {'predictions': array([226814.11], dtype=float32)},\n",
       " {'predictions': array([184572.22], dtype=float32)},\n",
       " {'predictions': array([232329.9], dtype=float32)},\n",
       " {'predictions': array([212395.33], dtype=float32)},\n",
       " {'predictions': array([200607.16], dtype=float32)},\n",
       " {'predictions': array([199641.7], dtype=float32)},\n",
       " {'predictions': array([179413.2], dtype=float32)},\n",
       " {'predictions': array([174503.77], dtype=float32)},\n",
       " {'predictions': array([185778.45], dtype=float32)},\n",
       " {'predictions': array([185491.48], dtype=float32)},\n",
       " {'predictions': array([233755.81], dtype=float32)},\n",
       " {'predictions': array([258338.42], dtype=float32)},\n",
       " {'predictions': array([259001.], dtype=float32)},\n",
       " {'predictions': array([209437.62], dtype=float32)},\n",
       " {'predictions': array([213880.98], dtype=float32)},\n",
       " {'predictions': array([215527.44], dtype=float32)},\n",
       " {'predictions': array([180532.34], dtype=float32)},\n",
       " {'predictions': array([205666.62], dtype=float32)},\n",
       " {'predictions': array([244404.45], dtype=float32)},\n",
       " {'predictions': array([251682.1], dtype=float32)},\n",
       " {'predictions': array([199008.73], dtype=float32)},\n",
       " {'predictions': array([170967.22], dtype=float32)},\n",
       " {'predictions': array([246294.22], dtype=float32)},\n",
       " {'predictions': array([177870.39], dtype=float32)},\n",
       " {'predictions': array([197711.06], dtype=float32)},\n",
       " {'predictions': array([187283.39], dtype=float32)},\n",
       " {'predictions': array([243952.25], dtype=float32)},\n",
       " {'predictions': array([273971.12], dtype=float32)},\n",
       " {'predictions': array([192220.84], dtype=float32)},\n",
       " {'predictions': array([208622.1], dtype=float32)},\n",
       " {'predictions': array([236233.11], dtype=float32)},\n",
       " {'predictions': array([236909.61], dtype=float32)},\n",
       " {'predictions': array([224076.11], dtype=float32)},\n",
       " {'predictions': array([181541.89], dtype=float32)},\n",
       " {'predictions': array([169002.78], dtype=float32)},\n",
       " {'predictions': array([208344.42], dtype=float32)},\n",
       " {'predictions': array([189677.95], dtype=float32)},\n",
       " {'predictions': array([200328.81], dtype=float32)},\n",
       " {'predictions': array([310131.1], dtype=float32)},\n",
       " {'predictions': array([187532.08], dtype=float32)},\n",
       " {'predictions': array([188136.3], dtype=float32)},\n",
       " {'predictions': array([237863.17], dtype=float32)},\n",
       " {'predictions': array([152377.], dtype=float32)},\n",
       " {'predictions': array([233571.89], dtype=float32)},\n",
       " {'predictions': array([210953.95], dtype=float32)},\n",
       " {'predictions': array([262169.3], dtype=float32)},\n",
       " {'predictions': array([211245.45], dtype=float32)},\n",
       " {'predictions': array([191323.08], dtype=float32)},\n",
       " {'predictions': array([202678.], dtype=float32)},\n",
       " {'predictions': array([220660.9], dtype=float32)},\n",
       " {'predictions': array([200880.64], dtype=float32)},\n",
       " {'predictions': array([229101.66], dtype=float32)},\n",
       " {'predictions': array([170361.92], dtype=float32)},\n",
       " {'predictions': array([243429.58], dtype=float32)},\n",
       " {'predictions': array([221610.6], dtype=float32)},\n",
       " {'predictions': array([237983.45], dtype=float32)},\n",
       " {'predictions': array([191030.38], dtype=float32)},\n",
       " {'predictions': array([260880.6], dtype=float32)},\n",
       " {'predictions': array([187663.53], dtype=float32)},\n",
       " {'predictions': array([204926.05], dtype=float32)},\n",
       " {'predictions': array([218928.62], dtype=float32)},\n",
       " {'predictions': array([267616.9], dtype=float32)},\n",
       " {'predictions': array([189088.4], dtype=float32)},\n",
       " {'predictions': array([196888.02], dtype=float32)},\n",
       " {'predictions': array([197972.03], dtype=float32)},\n",
       " {'predictions': array([201845.22], dtype=float32)},\n",
       " {'predictions': array([187795.23], dtype=float32)},\n",
       " {'predictions': array([290520.06], dtype=float32)},\n",
       " {'predictions': array([218156.83], dtype=float32)},\n",
       " {'predictions': array([190650.1], dtype=float32)},\n",
       " {'predictions': array([231369.23], dtype=float32)},\n",
       " {'predictions': array([201772.53], dtype=float32)},\n",
       " {'predictions': array([240199.14], dtype=float32)},\n",
       " {'predictions': array([204414.45], dtype=float32)},\n",
       " {'predictions': array([244011.62], dtype=float32)},\n",
       " {'predictions': array([190878.3], dtype=float32)},\n",
       " {'predictions': array([203417.48], dtype=float32)},\n",
       " {'predictions': array([231616.62], dtype=float32)},\n",
       " {'predictions': array([240563.75], dtype=float32)},\n",
       " {'predictions': array([171730.03], dtype=float32)},\n",
       " {'predictions': array([214710.78], dtype=float32)},\n",
       " {'predictions': array([216522.58], dtype=float32)},\n",
       " {'predictions': array([158822.28], dtype=float32)},\n",
       " {'predictions': array([250104.8], dtype=float32)},\n",
       " {'predictions': array([192962.92], dtype=float32)},\n",
       " {'predictions': array([149256.53], dtype=float32)},\n",
       " {'predictions': array([279837.25], dtype=float32)},\n",
       " {'predictions': array([316345.66], dtype=float32)},\n",
       " {'predictions': array([199821.95], dtype=float32)},\n",
       " {'predictions': array([175211.19], dtype=float32)},\n",
       " {'predictions': array([205278.9], dtype=float32)},\n",
       " {'predictions': array([230101.23], dtype=float32)},\n",
       " {'predictions': array([188174.86], dtype=float32)},\n",
       " {'predictions': array([196912.84], dtype=float32)},\n",
       " {'predictions': array([353319.97], dtype=float32)},\n",
       " {'predictions': array([271793.4], dtype=float32)},\n",
       " {'predictions': array([234093.2], dtype=float32)},\n",
       " {'predictions': array([225393.89], dtype=float32)},\n",
       " {'predictions': array([244177.92], dtype=float32)},\n",
       " {'predictions': array([173153.77], dtype=float32)},\n",
       " {'predictions': array([218940.2], dtype=float32)},\n",
       " {'predictions': array([159346.81], dtype=float32)},\n",
       " {'predictions': array([238689.52], dtype=float32)},\n",
       " {'predictions': array([138219.3], dtype=float32)},\n",
       " {'predictions': array([160853.92], dtype=float32)},\n",
       " {'predictions': array([218827.08], dtype=float32)},\n",
       " {'predictions': array([249004.72], dtype=float32)},\n",
       " {'predictions': array([227726.45], dtype=float32)},\n",
       " {'predictions': array([297943.9], dtype=float32)},\n",
       " {'predictions': array([194042.14], dtype=float32)},\n",
       " {'predictions': array([231892.47], dtype=float32)},\n",
       " {'predictions': array([227016.98], dtype=float32)},\n",
       " {'predictions': array([187085.34], dtype=float32)},\n",
       " {'predictions': array([247285.34], dtype=float32)},\n",
       " {'predictions': array([224736.8], dtype=float32)},\n",
       " {'predictions': array([152608.67], dtype=float32)},\n",
       " {'predictions': array([175797.78], dtype=float32)},\n",
       " {'predictions': array([229588.53], dtype=float32)},\n",
       " {'predictions': array([232259.64], dtype=float32)},\n",
       " {'predictions': array([191704.55], dtype=float32)},\n",
       " {'predictions': array([179471.02], dtype=float32)},\n",
       " {'predictions': array([211781.84], dtype=float32)},\n",
       " {'predictions': array([206313.69], dtype=float32)},\n",
       " {'predictions': array([203236.11], dtype=float32)},\n",
       " {'predictions': array([253147.67], dtype=float32)},\n",
       " {'predictions': array([186956.97], dtype=float32)},\n",
       " {'predictions': array([283177.25], dtype=float32)},\n",
       " {'predictions': array([198864.23], dtype=float32)},\n",
       " {'predictions': array([169547.], dtype=float32)},\n",
       " {'predictions': array([166631.69], dtype=float32)},\n",
       " {'predictions': array([396237.38], dtype=float32)},\n",
       " {'predictions': array([208697.1], dtype=float32)},\n",
       " {'predictions': array([212260.22], dtype=float32)},\n",
       " {'predictions': array([211817.16], dtype=float32)},\n",
       " {'predictions': array([215258.89], dtype=float32)},\n",
       " {'predictions': array([183165.33], dtype=float32)},\n",
       " {'predictions': array([209827.5], dtype=float32)},\n",
       " {'predictions': array([193411.14], dtype=float32)},\n",
       " {'predictions': array([169580.25], dtype=float32)},\n",
       " {'predictions': array([238158.4], dtype=float32)},\n",
       " {'predictions': array([216871.25], dtype=float32)},\n",
       " {'predictions': array([189891.8], dtype=float32)},\n",
       " {'predictions': array([393349.9], dtype=float32)},\n",
       " {'predictions': array([235529.27], dtype=float32)},\n",
       " {'predictions': array([234245.5], dtype=float32)},\n",
       " {'predictions': array([219320.73], dtype=float32)},\n",
       " {'predictions': array([264546.], dtype=float32)},\n",
       " {'predictions': array([255138.47], dtype=float32)},\n",
       " {'predictions': array([212662.98], dtype=float32)},\n",
       " {'predictions': array([238884.25], dtype=float32)},\n",
       " {'predictions': array([211056.58], dtype=float32)},\n",
       " {'predictions': array([180399.3], dtype=float32)},\n",
       " {'predictions': array([239585.78], dtype=float32)},\n",
       " {'predictions': array([148080.1], dtype=float32)},\n",
       " {'predictions': array([232670.03], dtype=float32)},\n",
       " {'predictions': array([181047.89], dtype=float32)},\n",
       " {'predictions': array([204506.56], dtype=float32)},\n",
       " {'predictions': array([223342.8], dtype=float32)},\n",
       " {'predictions': array([192781.36], dtype=float32)},\n",
       " {'predictions': array([210759.3], dtype=float32)},\n",
       " {'predictions': array([242052.69], dtype=float32)},\n",
       " {'predictions': array([195762.19], dtype=float32)},\n",
       " {'predictions': array([239224.53], dtype=float32)},\n",
       " {'predictions': array([169633.3], dtype=float32)},\n",
       " {'predictions': array([234488.77], dtype=float32)},\n",
       " {'predictions': array([181068.38], dtype=float32)},\n",
       " {'predictions': array([251058.92], dtype=float32)},\n",
       " {'predictions': array([212518.39], dtype=float32)},\n",
       " {'predictions': array([170141.73], dtype=float32)},\n",
       " {'predictions': array([185902.23], dtype=float32)},\n",
       " {'predictions': array([210532.88], dtype=float32)},\n",
       " {'predictions': array([208149.98], dtype=float32)},\n",
       " {'predictions': array([204472.95], dtype=float32)},\n",
       " {'predictions': array([165783.47], dtype=float32)},\n",
       " {'predictions': array([207911.33], dtype=float32)},\n",
       " {'predictions': array([217036.45], dtype=float32)},\n",
       " {'predictions': array([370497.97], dtype=float32)},\n",
       " {'predictions': array([197607.27], dtype=float32)},\n",
       " {'predictions': array([212323.16], dtype=float32)},\n",
       " {'predictions': array([181121.23], dtype=float32)},\n",
       " {'predictions': array([254636.48], dtype=float32)},\n",
       " {'predictions': array([161531.84], dtype=float32)},\n",
       " {'predictions': array([157679.23], dtype=float32)},\n",
       " {'predictions': array([197899.33], dtype=float32)},\n",
       " {'predictions': array([210338.92], dtype=float32)},\n",
       " {'predictions': array([232704.23], dtype=float32)},\n",
       " {'predictions': array([239604.], dtype=float32)},\n",
       " {'predictions': array([215454.55], dtype=float32)},\n",
       " {'predictions': array([229949.9], dtype=float32)},\n",
       " {'predictions': array([268877.22], dtype=float32)},\n",
       " {'predictions': array([198859.44], dtype=float32)},\n",
       " {'predictions': array([199288.84], dtype=float32)},\n",
       " {'predictions': array([205200.61], dtype=float32)},\n",
       " {'predictions': array([301296.75], dtype=float32)},\n",
       " {'predictions': array([177684.64], dtype=float32)},\n",
       " {'predictions': array([223174.58], dtype=float32)},\n",
       " {'predictions': array([213953.34], dtype=float32)},\n",
       " {'predictions': array([211500.67], dtype=float32)},\n",
       " {'predictions': array([188844.75], dtype=float32)},\n",
       " {'predictions': array([209125.83], dtype=float32)},\n",
       " {'predictions': array([227792.73], dtype=float32)},\n",
       " {'predictions': array([204180.8], dtype=float32)},\n",
       " {'predictions': array([210853.42], dtype=float32)},\n",
       " {'predictions': array([186177.58], dtype=float32)},\n",
       " {'predictions': array([202137.58], dtype=float32)},\n",
       " {'predictions': array([194353.81], dtype=float32)},\n",
       " {'predictions': array([237516.55], dtype=float32)},\n",
       " {'predictions': array([215739.92], dtype=float32)},\n",
       " {'predictions': array([158405.11], dtype=float32)},\n",
       " {'predictions': array([170707.92], dtype=float32)},\n",
       " {'predictions': array([180617.62], dtype=float32)},\n",
       " {'predictions': array([217970.12], dtype=float32)},\n",
       " {'predictions': array([252813.47], dtype=float32)},\n",
       " {'predictions': array([213442.47], dtype=float32)},\n",
       " {'predictions': array([190505.95], dtype=float32)},\n",
       " {'predictions': array([290370.12], dtype=float32)},\n",
       " {'predictions': array([182541.8], dtype=float32)},\n",
       " {'predictions': array([224332.02], dtype=float32)},\n",
       " {'predictions': array([195133.27], dtype=float32)},\n",
       " {'predictions': array([184967.81], dtype=float32)},\n",
       " {'predictions': array([299574.7], dtype=float32)},\n",
       " {'predictions': array([194657.98], dtype=float32)},\n",
       " {'predictions': array([190145.03], dtype=float32)},\n",
       " {'predictions': array([170094.81], dtype=float32)},\n",
       " {'predictions': array([240198.92], dtype=float32)},\n",
       " {'predictions': array([211901.53], dtype=float32)},\n",
       " {'predictions': array([248039.08], dtype=float32)},\n",
       " {'predictions': array([217334.75], dtype=float32)},\n",
       " {'predictions': array([197968.4], dtype=float32)},\n",
       " {'predictions': array([174041.2], dtype=float32)},\n",
       " {'predictions': array([208275.2], dtype=float32)},\n",
       " {'predictions': array([207283.86], dtype=float32)},\n",
       " {'predictions': array([219076.89], dtype=float32)},\n",
       " {'predictions': array([189645.39], dtype=float32)},\n",
       " {'predictions': array([196245.8], dtype=float32)},\n",
       " {'predictions': array([196506.4], dtype=float32)},\n",
       " {'predictions': array([246607.58], dtype=float32)},\n",
       " {'predictions': array([183280.98], dtype=float32)},\n",
       " {'predictions': array([273673.38], dtype=float32)},\n",
       " {'predictions': array([261918.61], dtype=float32)},\n",
       " {'predictions': array([228258.05], dtype=float32)},\n",
       " {'predictions': array([224170.3], dtype=float32)},\n",
       " {'predictions': array([289696.06], dtype=float32)},\n",
       " {'predictions': array([295514.44], dtype=float32)},\n",
       " {'predictions': array([188914.72], dtype=float32)},\n",
       " {'predictions': array([232610.48], dtype=float32)},\n",
       " {'predictions': array([172019.22], dtype=float32)},\n",
       " {'predictions': array([176293.], dtype=float32)},\n",
       " {'predictions': array([252960.27], dtype=float32)},\n",
       " {'predictions': array([193243.27], dtype=float32)},\n",
       " {'predictions': array([176013.69], dtype=float32)},\n",
       " {'predictions': array([244339.08], dtype=float32)},\n",
       " {'predictions': array([233884.89], dtype=float32)},\n",
       " {'predictions': array([228977.66], dtype=float32)},\n",
       " {'predictions': array([150361.72], dtype=float32)},\n",
       " {'predictions': array([315896.12], dtype=float32)},\n",
       " {'predictions': array([229846.75], dtype=float32)},\n",
       " {'predictions': array([193300.39], dtype=float32)},\n",
       " {'predictions': array([218517.95], dtype=float32)},\n",
       " {'predictions': array([220726.25], dtype=float32)},\n",
       " {'predictions': array([196468.95], dtype=float32)},\n",
       " {'predictions': array([231577.98], dtype=float32)},\n",
       " {'predictions': array([211063.16], dtype=float32)},\n",
       " {'predictions': array([203885.27], dtype=float32)},\n",
       " {'predictions': array([187806.1], dtype=float32)},\n",
       " {'predictions': array([206990.66], dtype=float32)},\n",
       " {'predictions': array([223708.56], dtype=float32)},\n",
       " {'predictions': array([175049.], dtype=float32)},\n",
       " {'predictions': array([229348.19], dtype=float32)},\n",
       " {'predictions': array([203095.08], dtype=float32)},\n",
       " {'predictions': array([187831.16], dtype=float32)},\n",
       " {'predictions': array([232885.83], dtype=float32)},\n",
       " {'predictions': array([213557.1], dtype=float32)},\n",
       " {'predictions': array([198508.56], dtype=float32)},\n",
       " {'predictions': array([188791.78], dtype=float32)},\n",
       " {'predictions': array([195471.3], dtype=float32)},\n",
       " ...]"
      ]
     },
     "execution_count": 408,
     "metadata": {},
     "output_type": "execute_result"
    }
   ],
   "source": [
    "predictions"
   ]
  },
  {
   "cell_type": "code",
   "execution_count": 409,
   "metadata": {},
   "outputs": [],
   "source": [
    "#TF CLASSIFICATION"
   ]
  },
  {
   "cell_type": "code",
   "execution_count": 410,
   "metadata": {},
   "outputs": [],
   "source": [
    "import pandas as pd"
   ]
  },
  {
   "cell_type": "code",
   "execution_count": 411,
   "metadata": {},
   "outputs": [],
   "source": [
    "census = pd.read_csv('census_data.csv')"
   ]
  },
  {
   "cell_type": "code",
   "execution_count": 412,
   "metadata": {},
   "outputs": [
    {
     "data": {
      "text/html": [
       "<div>\n",
       "<style scoped>\n",
       "    .dataframe tbody tr th:only-of-type {\n",
       "        vertical-align: middle;\n",
       "    }\n",
       "\n",
       "    .dataframe tbody tr th {\n",
       "        vertical-align: top;\n",
       "    }\n",
       "\n",
       "    .dataframe thead th {\n",
       "        text-align: right;\n",
       "    }\n",
       "</style>\n",
       "<table border=\"1\" class=\"dataframe\">\n",
       "  <thead>\n",
       "    <tr style=\"text-align: right;\">\n",
       "      <th></th>\n",
       "      <th>age</th>\n",
       "      <th>workclass</th>\n",
       "      <th>education</th>\n",
       "      <th>education_num</th>\n",
       "      <th>marital_status</th>\n",
       "      <th>occupation</th>\n",
       "      <th>relationship</th>\n",
       "      <th>race</th>\n",
       "      <th>gender</th>\n",
       "      <th>capital_gain</th>\n",
       "      <th>capital_loss</th>\n",
       "      <th>hours_per_week</th>\n",
       "      <th>native_country</th>\n",
       "      <th>income_bracket</th>\n",
       "    </tr>\n",
       "  </thead>\n",
       "  <tbody>\n",
       "    <tr>\n",
       "      <th>0</th>\n",
       "      <td>39</td>\n",
       "      <td>State-gov</td>\n",
       "      <td>Bachelors</td>\n",
       "      <td>13</td>\n",
       "      <td>Never-married</td>\n",
       "      <td>Adm-clerical</td>\n",
       "      <td>Not-in-family</td>\n",
       "      <td>White</td>\n",
       "      <td>Male</td>\n",
       "      <td>2174</td>\n",
       "      <td>0</td>\n",
       "      <td>40</td>\n",
       "      <td>United-States</td>\n",
       "      <td>&lt;=50K</td>\n",
       "    </tr>\n",
       "    <tr>\n",
       "      <th>1</th>\n",
       "      <td>50</td>\n",
       "      <td>Self-emp-not-inc</td>\n",
       "      <td>Bachelors</td>\n",
       "      <td>13</td>\n",
       "      <td>Married-civ-spouse</td>\n",
       "      <td>Exec-managerial</td>\n",
       "      <td>Husband</td>\n",
       "      <td>White</td>\n",
       "      <td>Male</td>\n",
       "      <td>0</td>\n",
       "      <td>0</td>\n",
       "      <td>13</td>\n",
       "      <td>United-States</td>\n",
       "      <td>&lt;=50K</td>\n",
       "    </tr>\n",
       "    <tr>\n",
       "      <th>2</th>\n",
       "      <td>38</td>\n",
       "      <td>Private</td>\n",
       "      <td>HS-grad</td>\n",
       "      <td>9</td>\n",
       "      <td>Divorced</td>\n",
       "      <td>Handlers-cleaners</td>\n",
       "      <td>Not-in-family</td>\n",
       "      <td>White</td>\n",
       "      <td>Male</td>\n",
       "      <td>0</td>\n",
       "      <td>0</td>\n",
       "      <td>40</td>\n",
       "      <td>United-States</td>\n",
       "      <td>&lt;=50K</td>\n",
       "    </tr>\n",
       "    <tr>\n",
       "      <th>3</th>\n",
       "      <td>53</td>\n",
       "      <td>Private</td>\n",
       "      <td>11th</td>\n",
       "      <td>7</td>\n",
       "      <td>Married-civ-spouse</td>\n",
       "      <td>Handlers-cleaners</td>\n",
       "      <td>Husband</td>\n",
       "      <td>Black</td>\n",
       "      <td>Male</td>\n",
       "      <td>0</td>\n",
       "      <td>0</td>\n",
       "      <td>40</td>\n",
       "      <td>United-States</td>\n",
       "      <td>&lt;=50K</td>\n",
       "    </tr>\n",
       "    <tr>\n",
       "      <th>4</th>\n",
       "      <td>28</td>\n",
       "      <td>Private</td>\n",
       "      <td>Bachelors</td>\n",
       "      <td>13</td>\n",
       "      <td>Married-civ-spouse</td>\n",
       "      <td>Prof-specialty</td>\n",
       "      <td>Wife</td>\n",
       "      <td>Black</td>\n",
       "      <td>Female</td>\n",
       "      <td>0</td>\n",
       "      <td>0</td>\n",
       "      <td>40</td>\n",
       "      <td>Cuba</td>\n",
       "      <td>&lt;=50K</td>\n",
       "    </tr>\n",
       "  </tbody>\n",
       "</table>\n",
       "</div>"
      ],
      "text/plain": [
       "   age          workclass   education  education_num       marital_status  \\\n",
       "0   39          State-gov   Bachelors             13        Never-married   \n",
       "1   50   Self-emp-not-inc   Bachelors             13   Married-civ-spouse   \n",
       "2   38            Private     HS-grad              9             Divorced   \n",
       "3   53            Private        11th              7   Married-civ-spouse   \n",
       "4   28            Private   Bachelors             13   Married-civ-spouse   \n",
       "\n",
       "           occupation    relationship    race   gender  capital_gain  \\\n",
       "0        Adm-clerical   Not-in-family   White     Male          2174   \n",
       "1     Exec-managerial         Husband   White     Male             0   \n",
       "2   Handlers-cleaners   Not-in-family   White     Male             0   \n",
       "3   Handlers-cleaners         Husband   Black     Male             0   \n",
       "4      Prof-specialty            Wife   Black   Female             0   \n",
       "\n",
       "   capital_loss  hours_per_week  native_country income_bracket  \n",
       "0             0              40   United-States          <=50K  \n",
       "1             0              13   United-States          <=50K  \n",
       "2             0              40   United-States          <=50K  \n",
       "3             0              40   United-States          <=50K  \n",
       "4             0              40            Cuba          <=50K  "
      ]
     },
     "execution_count": 412,
     "metadata": {},
     "output_type": "execute_result"
    }
   ],
   "source": [
    "census.head()"
   ]
  },
  {
   "cell_type": "code",
   "execution_count": 413,
   "metadata": {},
   "outputs": [
    {
     "data": {
      "text/plain": [
       "array([' <=50K', ' >50K'], dtype=object)"
      ]
     },
     "execution_count": 413,
     "metadata": {},
     "output_type": "execute_result"
    }
   ],
   "source": [
    "census['income_bracket'].unique()"
   ]
  },
  {
   "cell_type": "code",
   "execution_count": 415,
   "metadata": {},
   "outputs": [],
   "source": [
    "def label_fix(label):\n",
    "    \n",
    "    if label ==' <=50K':\n",
    "        return 0\n",
    "    else:\n",
    "        return 1"
   ]
  },
  {
   "cell_type": "code",
   "execution_count": 416,
   "metadata": {},
   "outputs": [],
   "source": [
    "census['income_bracket'] = census['income_bracket'].apply(label_fix)"
   ]
  },
  {
   "cell_type": "code",
   "execution_count": 417,
   "metadata": {},
   "outputs": [
    {
     "data": {
      "text/html": [
       "<div>\n",
       "<style scoped>\n",
       "    .dataframe tbody tr th:only-of-type {\n",
       "        vertical-align: middle;\n",
       "    }\n",
       "\n",
       "    .dataframe tbody tr th {\n",
       "        vertical-align: top;\n",
       "    }\n",
       "\n",
       "    .dataframe thead th {\n",
       "        text-align: right;\n",
       "    }\n",
       "</style>\n",
       "<table border=\"1\" class=\"dataframe\">\n",
       "  <thead>\n",
       "    <tr style=\"text-align: right;\">\n",
       "      <th></th>\n",
       "      <th>age</th>\n",
       "      <th>workclass</th>\n",
       "      <th>education</th>\n",
       "      <th>education_num</th>\n",
       "      <th>marital_status</th>\n",
       "      <th>occupation</th>\n",
       "      <th>relationship</th>\n",
       "      <th>race</th>\n",
       "      <th>gender</th>\n",
       "      <th>capital_gain</th>\n",
       "      <th>capital_loss</th>\n",
       "      <th>hours_per_week</th>\n",
       "      <th>native_country</th>\n",
       "      <th>income_bracket</th>\n",
       "    </tr>\n",
       "  </thead>\n",
       "  <tbody>\n",
       "    <tr>\n",
       "      <th>0</th>\n",
       "      <td>39</td>\n",
       "      <td>State-gov</td>\n",
       "      <td>Bachelors</td>\n",
       "      <td>13</td>\n",
       "      <td>Never-married</td>\n",
       "      <td>Adm-clerical</td>\n",
       "      <td>Not-in-family</td>\n",
       "      <td>White</td>\n",
       "      <td>Male</td>\n",
       "      <td>2174</td>\n",
       "      <td>0</td>\n",
       "      <td>40</td>\n",
       "      <td>United-States</td>\n",
       "      <td>0</td>\n",
       "    </tr>\n",
       "    <tr>\n",
       "      <th>1</th>\n",
       "      <td>50</td>\n",
       "      <td>Self-emp-not-inc</td>\n",
       "      <td>Bachelors</td>\n",
       "      <td>13</td>\n",
       "      <td>Married-civ-spouse</td>\n",
       "      <td>Exec-managerial</td>\n",
       "      <td>Husband</td>\n",
       "      <td>White</td>\n",
       "      <td>Male</td>\n",
       "      <td>0</td>\n",
       "      <td>0</td>\n",
       "      <td>13</td>\n",
       "      <td>United-States</td>\n",
       "      <td>0</td>\n",
       "    </tr>\n",
       "    <tr>\n",
       "      <th>2</th>\n",
       "      <td>38</td>\n",
       "      <td>Private</td>\n",
       "      <td>HS-grad</td>\n",
       "      <td>9</td>\n",
       "      <td>Divorced</td>\n",
       "      <td>Handlers-cleaners</td>\n",
       "      <td>Not-in-family</td>\n",
       "      <td>White</td>\n",
       "      <td>Male</td>\n",
       "      <td>0</td>\n",
       "      <td>0</td>\n",
       "      <td>40</td>\n",
       "      <td>United-States</td>\n",
       "      <td>0</td>\n",
       "    </tr>\n",
       "    <tr>\n",
       "      <th>3</th>\n",
       "      <td>53</td>\n",
       "      <td>Private</td>\n",
       "      <td>11th</td>\n",
       "      <td>7</td>\n",
       "      <td>Married-civ-spouse</td>\n",
       "      <td>Handlers-cleaners</td>\n",
       "      <td>Husband</td>\n",
       "      <td>Black</td>\n",
       "      <td>Male</td>\n",
       "      <td>0</td>\n",
       "      <td>0</td>\n",
       "      <td>40</td>\n",
       "      <td>United-States</td>\n",
       "      <td>0</td>\n",
       "    </tr>\n",
       "    <tr>\n",
       "      <th>4</th>\n",
       "      <td>28</td>\n",
       "      <td>Private</td>\n",
       "      <td>Bachelors</td>\n",
       "      <td>13</td>\n",
       "      <td>Married-civ-spouse</td>\n",
       "      <td>Prof-specialty</td>\n",
       "      <td>Wife</td>\n",
       "      <td>Black</td>\n",
       "      <td>Female</td>\n",
       "      <td>0</td>\n",
       "      <td>0</td>\n",
       "      <td>40</td>\n",
       "      <td>Cuba</td>\n",
       "      <td>0</td>\n",
       "    </tr>\n",
       "  </tbody>\n",
       "</table>\n",
       "</div>"
      ],
      "text/plain": [
       "   age          workclass   education  education_num       marital_status  \\\n",
       "0   39          State-gov   Bachelors             13        Never-married   \n",
       "1   50   Self-emp-not-inc   Bachelors             13   Married-civ-spouse   \n",
       "2   38            Private     HS-grad              9             Divorced   \n",
       "3   53            Private        11th              7   Married-civ-spouse   \n",
       "4   28            Private   Bachelors             13   Married-civ-spouse   \n",
       "\n",
       "           occupation    relationship    race   gender  capital_gain  \\\n",
       "0        Adm-clerical   Not-in-family   White     Male          2174   \n",
       "1     Exec-managerial         Husband   White     Male             0   \n",
       "2   Handlers-cleaners   Not-in-family   White     Male             0   \n",
       "3   Handlers-cleaners         Husband   Black     Male             0   \n",
       "4      Prof-specialty            Wife   Black   Female             0   \n",
       "\n",
       "   capital_loss  hours_per_week  native_country  income_bracket  \n",
       "0             0              40   United-States               0  \n",
       "1             0              13   United-States               0  \n",
       "2             0              40   United-States               0  \n",
       "3             0              40   United-States               0  \n",
       "4             0              40            Cuba               0  "
      ]
     },
     "execution_count": 417,
     "metadata": {},
     "output_type": "execute_result"
    }
   ],
   "source": [
    "census.head()"
   ]
  },
  {
   "cell_type": "code",
   "execution_count": 418,
   "metadata": {},
   "outputs": [],
   "source": [
    "from sklearn.model_selection import train_test_split"
   ]
  },
  {
   "cell_type": "code",
   "execution_count": 420,
   "metadata": {},
   "outputs": [],
   "source": [
    "x_data = census.drop('income_bracket',axis=1)"
   ]
  },
  {
   "cell_type": "code",
   "execution_count": 421,
   "metadata": {},
   "outputs": [],
   "source": [
    "y_labels =census['income_bracket']"
   ]
  },
  {
   "cell_type": "code",
   "execution_count": 422,
   "metadata": {},
   "outputs": [],
   "source": [
    "X_train, X_test, y_train, y_test = train_test_split(x_data,y_labels,test_size=0.3,random_state=101)"
   ]
  },
  {
   "cell_type": "code",
   "execution_count": 423,
   "metadata": {},
   "outputs": [
    {
     "data": {
      "text/plain": [
       "Index(['age', 'workclass', 'education', 'education_num', 'marital_status',\n",
       "       'occupation', 'relationship', 'race', 'gender', 'capital_gain',\n",
       "       'capital_loss', 'hours_per_week', 'native_country', 'income_bracket'],\n",
       "      dtype='object')"
      ]
     },
     "execution_count": 423,
     "metadata": {},
     "output_type": "execute_result"
    }
   ],
   "source": [
    "census.columns"
   ]
  },
  {
   "cell_type": "code",
   "execution_count": 431,
   "metadata": {},
   "outputs": [],
   "source": [
    "import tensorflow.compat.v1 as tf\n",
    "tf.disable_v2_behavior()"
   ]
  },
  {
   "cell_type": "code",
   "execution_count": 432,
   "metadata": {},
   "outputs": [],
   "source": [
    "gender = tf.feature_column.categorical_column_with_vocabulary_list(\"gender\", [\"Female\", \"Male\"])\n",
    "occupation = tf.feature_column.categorical_column_with_hash_bucket(\"occupation\", hash_bucket_size=1000)\n",
    "marital_status = tf.feature_column.categorical_column_with_hash_bucket(\"marital_status\", hash_bucket_size=1000)\n",
    "relationship = tf.feature_column.categorical_column_with_hash_bucket(\"relationship\", hash_bucket_size=1000)\n",
    "education = tf.feature_column.categorical_column_with_hash_bucket(\"education\", hash_bucket_size=1000)\n",
    "workclass = tf.feature_column.categorical_column_with_hash_bucket(\"workclass\", hash_bucket_size=1000)\n",
    "native_country = tf.feature_column.categorical_column_with_hash_bucket(\"native_country\", hash_bucket_size=1000)"
   ]
  },
  {
   "cell_type": "code",
   "execution_count": 433,
   "metadata": {},
   "outputs": [],
   "source": [
    "age = tf.feature_column.numeric_column(\"age\")\n",
    "education_num = tf.feature_column.numeric_column(\"education_num\")\n",
    "capital_gain = tf.feature_column.numeric_column(\"capital_gain\")\n",
    "capital_loss = tf.feature_column.numeric_column(\"capital_loss\")\n",
    "hours_per_week = tf.feature_column.numeric_column(\"hours_per_week\")"
   ]
  },
  {
   "cell_type": "code",
   "execution_count": 434,
   "metadata": {},
   "outputs": [],
   "source": [
    "feat_cols = [gender,occupation,marital_status,relationship,education,workclass,native_country,\n",
    "            age,education_num,capital_gain,capital_loss,hours_per_week]"
   ]
  },
  {
   "cell_type": "code",
   "execution_count": 435,
   "metadata": {},
   "outputs": [],
   "source": [
    "input_func=tf.estimator.inputs.pandas_input_fn(x=X_train,y=y_train,batch_size=100,num_epochs=None,shuffle=True)"
   ]
  },
  {
   "cell_type": "code",
   "execution_count": 436,
   "metadata": {},
   "outputs": [
    {
     "name": "stdout",
     "output_type": "stream",
     "text": [
      "INFO:tensorflow:Using default config.\n",
      "WARNING:tensorflow:Using temporary folder as model directory: C:\\Users\\manzu\\AppData\\Local\\Temp\\tmpmrxbgmpg\n",
      "INFO:tensorflow:Using config: {'_model_dir': 'C:\\\\Users\\\\manzu\\\\AppData\\\\Local\\\\Temp\\\\tmpmrxbgmpg', '_tf_random_seed': None, '_save_summary_steps': 100, '_save_checkpoints_steps': None, '_save_checkpoints_secs': 600, '_session_config': allow_soft_placement: true\n",
      "graph_options {\n",
      "  rewrite_options {\n",
      "    meta_optimizer_iterations: ONE\n",
      "  }\n",
      "}\n",
      ", '_keep_checkpoint_max': 5, '_keep_checkpoint_every_n_hours': 10000, '_log_step_count_steps': 100, '_train_distribute': None, '_device_fn': None, '_protocol': None, '_eval_distribute': None, '_experimental_distribute': None, '_experimental_max_worker_delay_secs': None, '_session_creation_timeout_secs': 7200, '_service': None, '_cluster_spec': ClusterSpec({}), '_task_type': 'worker', '_task_id': 0, '_global_id_in_cluster': 0, '_master': '', '_evaluation_master': '', '_is_chief': True, '_num_ps_replicas': 0, '_num_worker_replicas': 1}\n"
     ]
    }
   ],
   "source": [
    "model = tf.estimator.LinearClassifier(feature_columns=feat_cols)"
   ]
  },
  {
   "cell_type": "code",
   "execution_count": 437,
   "metadata": {},
   "outputs": [],
   "source": [
    "#Train Data"
   ]
  },
  {
   "cell_type": "code",
   "execution_count": 438,
   "metadata": {},
   "outputs": [
    {
     "name": "stdout",
     "output_type": "stream",
     "text": [
      "INFO:tensorflow:Calling model_fn.\n",
      "INFO:tensorflow:Done calling model_fn.\n",
      "INFO:tensorflow:Create CheckpointSaverHook.\n",
      "INFO:tensorflow:Graph was finalized.\n",
      "INFO:tensorflow:Running local_init_op.\n",
      "INFO:tensorflow:Done running local_init_op.\n",
      "INFO:tensorflow:Calling checkpoint listeners before saving checkpoint 0...\n",
      "INFO:tensorflow:Saving checkpoints for 0 into C:\\Users\\manzu\\AppData\\Local\\Temp\\tmpmrxbgmpg\\model.ckpt.\n",
      "INFO:tensorflow:Calling checkpoint listeners after saving checkpoint 0...\n",
      "INFO:tensorflow:loss = 69.31472, step = 1\n",
      "INFO:tensorflow:global_step/sec: 76.6369\n",
      "INFO:tensorflow:loss = 64.26114, step = 101 (1.212 sec)\n",
      "INFO:tensorflow:global_step/sec: 142.368\n",
      "INFO:tensorflow:loss = 580.7383, step = 201 (0.681 sec)\n",
      "INFO:tensorflow:global_step/sec: 149.811\n",
      "INFO:tensorflow:loss = 319.3835, step = 301 (0.660 sec)\n",
      "INFO:tensorflow:global_step/sec: 172.309\n",
      "INFO:tensorflow:loss = 73.875046, step = 401 (0.583 sec)\n",
      "INFO:tensorflow:global_step/sec: 138.995\n",
      "INFO:tensorflow:loss = 417.44797, step = 501 (0.724 sec)\n",
      "INFO:tensorflow:global_step/sec: 156.18\n",
      "INFO:tensorflow:loss = 292.57184, step = 601 (0.635 sec)\n",
      "INFO:tensorflow:global_step/sec: 206.312\n",
      "INFO:tensorflow:loss = 123.195885, step = 701 (0.485 sec)\n",
      "INFO:tensorflow:global_step/sec: 179.982\n",
      "INFO:tensorflow:loss = 35.080963, step = 801 (0.553 sec)\n",
      "INFO:tensorflow:global_step/sec: 186.057\n",
      "INFO:tensorflow:loss = 62.81014, step = 901 (0.542 sec)\n",
      "INFO:tensorflow:Calling checkpoint listeners before saving checkpoint 1000...\n",
      "INFO:tensorflow:Saving checkpoints for 1000 into C:\\Users\\manzu\\AppData\\Local\\Temp\\tmpmrxbgmpg\\model.ckpt.\n",
      "INFO:tensorflow:Calling checkpoint listeners after saving checkpoint 1000...\n",
      "INFO:tensorflow:Loss for final step: 391.97403.\n"
     ]
    },
    {
     "data": {
      "text/plain": [
       "<tensorflow_estimator.python.estimator.canned.linear.LinearClassifier at 0x2208e58df08>"
      ]
     },
     "execution_count": 438,
     "metadata": {},
     "output_type": "execute_result"
    }
   ],
   "source": [
    "model.train(input_fn=input_func,steps=1000)"
   ]
  },
  {
   "cell_type": "code",
   "execution_count": 439,
   "metadata": {},
   "outputs": [],
   "source": [
    "pred_fn = tf.estimator.inputs.pandas_input_fn(x=X_test,batch_size=len(X_test),shuffle=False)"
   ]
  },
  {
   "cell_type": "code",
   "execution_count": 440,
   "metadata": {},
   "outputs": [],
   "source": [
    "pred_gen = model.predict(input_fn=pred_fn)"
   ]
  },
  {
   "cell_type": "code",
   "execution_count": 441,
   "metadata": {},
   "outputs": [
    {
     "name": "stdout",
     "output_type": "stream",
     "text": [
      "INFO:tensorflow:Calling model_fn.\n",
      "INFO:tensorflow:Done calling model_fn.\n",
      "INFO:tensorflow:Graph was finalized.\n",
      "INFO:tensorflow:Restoring parameters from C:\\Users\\manzu\\AppData\\Local\\Temp\\tmpmrxbgmpg\\model.ckpt-1000\n",
      "INFO:tensorflow:Running local_init_op.\n",
      "INFO:tensorflow:Done running local_init_op.\n"
     ]
    }
   ],
   "source": [
    "predictions = list(pred_gen)"
   ]
  },
  {
   "cell_type": "code",
   "execution_count": 444,
   "metadata": {},
   "outputs": [
    {
     "data": {
      "text/plain": [
       "{'logits': array([-1.4231391], dtype=float32),\n",
       " 'logistic': array([0.19416994], dtype=float32),\n",
       " 'probabilities': array([0.80583006, 0.19416994], dtype=float32),\n",
       " 'class_ids': array([0], dtype=int64),\n",
       " 'classes': array([b'0'], dtype=object),\n",
       " 'all_class_ids': array([0, 1]),\n",
       " 'all_classes': array([b'0', b'1'], dtype=object)}"
      ]
     },
     "execution_count": 444,
     "metadata": {},
     "output_type": "execute_result"
    }
   ],
   "source": [
    "predictions[0]"
   ]
  },
  {
   "cell_type": "code",
   "execution_count": 446,
   "metadata": {},
   "outputs": [],
   "source": [
    "final_preds = []\n",
    "for pred in predictions:\n",
    "    final_preds.append(pred['class_ids'][0])"
   ]
  },
  {
   "cell_type": "code",
   "execution_count": 448,
   "metadata": {},
   "outputs": [
    {
     "data": {
      "text/plain": [
       "[0,\n",
       " 0,\n",
       " 0,\n",
       " 0,\n",
       " 0,\n",
       " 0,\n",
       " 0,\n",
       " 0,\n",
       " 0,\n",
       " 0,\n",
       " 1,\n",
       " 1,\n",
       " 0,\n",
       " 1,\n",
       " 0,\n",
       " 0,\n",
       " 0,\n",
       " 1,\n",
       " 0,\n",
       " 0,\n",
       " 0,\n",
       " 0,\n",
       " 0,\n",
       " 0,\n",
       " 1,\n",
       " 0,\n",
       " 0,\n",
       " 0,\n",
       " 0,\n",
       " 0,\n",
       " 0,\n",
       " 1,\n",
       " 0,\n",
       " 1,\n",
       " 0,\n",
       " 0,\n",
       " 0,\n",
       " 0,\n",
       " 0,\n",
       " 1,\n",
       " 0,\n",
       " 0,\n",
       " 1,\n",
       " 0,\n",
       " 1,\n",
       " 0,\n",
       " 1,\n",
       " 0,\n",
       " 0,\n",
       " 0,\n",
       " 0,\n",
       " 1,\n",
       " 0,\n",
       " 0,\n",
       " 0,\n",
       " 1,\n",
       " 0,\n",
       " 0,\n",
       " 0,\n",
       " 0,\n",
       " 0,\n",
       " 0,\n",
       " 0,\n",
       " 1,\n",
       " 0,\n",
       " 1,\n",
       " 0,\n",
       " 1,\n",
       " 1,\n",
       " 0,\n",
       " 1,\n",
       " 0,\n",
       " 0,\n",
       " 0,\n",
       " 0,\n",
       " 0,\n",
       " 0,\n",
       " 0,\n",
       " 0,\n",
       " 0,\n",
       " 0,\n",
       " 0,\n",
       " 0,\n",
       " 0,\n",
       " 0,\n",
       " 0,\n",
       " 0,\n",
       " 0,\n",
       " 0,\n",
       " 1,\n",
       " 0,\n",
       " 0,\n",
       " 0,\n",
       " 0,\n",
       " 0,\n",
       " 0,\n",
       " 0,\n",
       " 0,\n",
       " 0,\n",
       " 0,\n",
       " 0,\n",
       " 0,\n",
       " 0,\n",
       " 0,\n",
       " 0,\n",
       " 0,\n",
       " 0,\n",
       " 0,\n",
       " 0,\n",
       " 0,\n",
       " 0,\n",
       " 0,\n",
       " 0,\n",
       " 0,\n",
       " 0,\n",
       " 1,\n",
       " 0,\n",
       " 1,\n",
       " 0,\n",
       " 0,\n",
       " 0,\n",
       " 0,\n",
       " 0,\n",
       " 0,\n",
       " 0,\n",
       " 0,\n",
       " 0,\n",
       " 0,\n",
       " 0,\n",
       " 0,\n",
       " 0,\n",
       " 0,\n",
       " 0,\n",
       " 0,\n",
       " 0,\n",
       " 0,\n",
       " 0,\n",
       " 0,\n",
       " 0,\n",
       " 0,\n",
       " 1,\n",
       " 0,\n",
       " 1,\n",
       " 0,\n",
       " 0,\n",
       " 0,\n",
       " 0,\n",
       " 0,\n",
       " 0,\n",
       " 0,\n",
       " 0,\n",
       " 1,\n",
       " 0,\n",
       " 0,\n",
       " 0,\n",
       " 0,\n",
       " 0,\n",
       " 0,\n",
       " 1,\n",
       " 0,\n",
       " 0,\n",
       " 0,\n",
       " 0,\n",
       " 0,\n",
       " 0,\n",
       " 0,\n",
       " 1,\n",
       " 0,\n",
       " 0,\n",
       " 0,\n",
       " 0,\n",
       " 0,\n",
       " 0,\n",
       " 0,\n",
       " 0,\n",
       " 1,\n",
       " 0,\n",
       " 0,\n",
       " 0,\n",
       " 0,\n",
       " 0,\n",
       " 0,\n",
       " 0,\n",
       " 0,\n",
       " 0,\n",
       " 0,\n",
       " 1,\n",
       " 0,\n",
       " 0,\n",
       " 0,\n",
       " 0,\n",
       " 1,\n",
       " 0,\n",
       " 0,\n",
       " 0,\n",
       " 0,\n",
       " 0,\n",
       " 0,\n",
       " 0,\n",
       " 0,\n",
       " 0,\n",
       " 0,\n",
       " 0,\n",
       " 0,\n",
       " 0,\n",
       " 0,\n",
       " 0,\n",
       " 0,\n",
       " 0,\n",
       " 1,\n",
       " 0,\n",
       " 0,\n",
       " 0,\n",
       " 0,\n",
       " 0,\n",
       " 1,\n",
       " 0,\n",
       " 0,\n",
       " 0,\n",
       " 0,\n",
       " 0,\n",
       " 0,\n",
       " 0,\n",
       " 1,\n",
       " 0,\n",
       " 0,\n",
       " 0,\n",
       " 0,\n",
       " 1,\n",
       " 0,\n",
       " 1,\n",
       " 1,\n",
       " 0,\n",
       " 0,\n",
       " 1,\n",
       " 0,\n",
       " 0,\n",
       " 0,\n",
       " 1,\n",
       " 0,\n",
       " 0,\n",
       " 0,\n",
       " 0,\n",
       " 1,\n",
       " 0,\n",
       " 0,\n",
       " 0,\n",
       " 0,\n",
       " 0,\n",
       " 0,\n",
       " 0,\n",
       " 0,\n",
       " 0,\n",
       " 0,\n",
       " 0,\n",
       " 0,\n",
       " 0,\n",
       " 1,\n",
       " 0,\n",
       " 0,\n",
       " 0,\n",
       " 0,\n",
       " 1,\n",
       " 0,\n",
       " 0,\n",
       " 0,\n",
       " 0,\n",
       " 0,\n",
       " 0,\n",
       " 0,\n",
       " 0,\n",
       " 0,\n",
       " 0,\n",
       " 0,\n",
       " 0,\n",
       " 0,\n",
       " 0,\n",
       " 1,\n",
       " 0,\n",
       " 0,\n",
       " 0,\n",
       " 0,\n",
       " 0,\n",
       " 0,\n",
       " 0,\n",
       " 0,\n",
       " 0,\n",
       " 0,\n",
       " 0,\n",
       " 0,\n",
       " 0,\n",
       " 0,\n",
       " 0,\n",
       " 0,\n",
       " 0,\n",
       " 0,\n",
       " 1,\n",
       " 0,\n",
       " 0,\n",
       " 0,\n",
       " 0,\n",
       " 0,\n",
       " 0,\n",
       " 0,\n",
       " 0,\n",
       " 0,\n",
       " 1,\n",
       " 0,\n",
       " 0,\n",
       " 0,\n",
       " 0,\n",
       " 0,\n",
       " 0,\n",
       " 0,\n",
       " 0,\n",
       " 0,\n",
       " 0,\n",
       " 0,\n",
       " 0,\n",
       " 0,\n",
       " 0,\n",
       " 0,\n",
       " 0,\n",
       " 0,\n",
       " 0,\n",
       " 0,\n",
       " 0,\n",
       " 0,\n",
       " 0,\n",
       " 0,\n",
       " 0,\n",
       " 0,\n",
       " 0,\n",
       " 0,\n",
       " 1,\n",
       " 1,\n",
       " 1,\n",
       " 0,\n",
       " 0,\n",
       " 0,\n",
       " 1,\n",
       " 0,\n",
       " 1,\n",
       " 0,\n",
       " 0,\n",
       " 0,\n",
       " 0,\n",
       " 0,\n",
       " 0,\n",
       " 0,\n",
       " 0,\n",
       " 0,\n",
       " 1,\n",
       " 0,\n",
       " 0,\n",
       " 0,\n",
       " 0,\n",
       " 1,\n",
       " 0,\n",
       " 0,\n",
       " 0,\n",
       " 0,\n",
       " 1,\n",
       " 0,\n",
       " 0,\n",
       " 0,\n",
       " 1,\n",
       " 0,\n",
       " 1,\n",
       " 0,\n",
       " 0,\n",
       " 0,\n",
       " 0,\n",
       " 0,\n",
       " 0,\n",
       " 0,\n",
       " 0,\n",
       " 0,\n",
       " 0,\n",
       " 0,\n",
       " 0,\n",
       " 0,\n",
       " 0,\n",
       " 0,\n",
       " 0,\n",
       " 0,\n",
       " 0,\n",
       " 0,\n",
       " 0,\n",
       " 0,\n",
       " 0,\n",
       " 1,\n",
       " 1,\n",
       " 1,\n",
       " 1,\n",
       " 1,\n",
       " 0,\n",
       " 0,\n",
       " 0,\n",
       " 0,\n",
       " 0,\n",
       " 0,\n",
       " 1,\n",
       " 0,\n",
       " 0,\n",
       " 0,\n",
       " 0,\n",
       " 0,\n",
       " 0,\n",
       " 0,\n",
       " 0,\n",
       " 1,\n",
       " 0,\n",
       " 0,\n",
       " 0,\n",
       " 0,\n",
       " 0,\n",
       " 0,\n",
       " 0,\n",
       " 1,\n",
       " 0,\n",
       " 0,\n",
       " 0,\n",
       " 0,\n",
       " 0,\n",
       " 0,\n",
       " 0,\n",
       " 0,\n",
       " 0,\n",
       " 0,\n",
       " 0,\n",
       " 0,\n",
       " 0,\n",
       " 0,\n",
       " 1,\n",
       " 0,\n",
       " 0,\n",
       " 1,\n",
       " 0,\n",
       " 0,\n",
       " 0,\n",
       " 0,\n",
       " 0,\n",
       " 0,\n",
       " 0,\n",
       " 0,\n",
       " 0,\n",
       " 0,\n",
       " 0,\n",
       " 0,\n",
       " 0,\n",
       " 0,\n",
       " 0,\n",
       " 1,\n",
       " 0,\n",
       " 0,\n",
       " 0,\n",
       " 1,\n",
       " 0,\n",
       " 1,\n",
       " 0,\n",
       " 0,\n",
       " 0,\n",
       " 1,\n",
       " 0,\n",
       " 0,\n",
       " 0,\n",
       " 1,\n",
       " 0,\n",
       " 0,\n",
       " 0,\n",
       " 0,\n",
       " 0,\n",
       " 0,\n",
       " 0,\n",
       " 1,\n",
       " 0,\n",
       " 1,\n",
       " 0,\n",
       " 0,\n",
       " 0,\n",
       " 1,\n",
       " 0,\n",
       " 0,\n",
       " 0,\n",
       " 0,\n",
       " 0,\n",
       " 0,\n",
       " 0,\n",
       " 0,\n",
       " 0,\n",
       " 1,\n",
       " 1,\n",
       " 0,\n",
       " 0,\n",
       " 0,\n",
       " 0,\n",
       " 0,\n",
       " 0,\n",
       " 0,\n",
       " 0,\n",
       " 0,\n",
       " 1,\n",
       " 0,\n",
       " 0,\n",
       " 0,\n",
       " 0,\n",
       " 1,\n",
       " 0,\n",
       " 0,\n",
       " 0,\n",
       " 0,\n",
       " 1,\n",
       " 0,\n",
       " 0,\n",
       " 0,\n",
       " 0,\n",
       " 0,\n",
       " 1,\n",
       " 0,\n",
       " 0,\n",
       " 0,\n",
       " 0,\n",
       " 0,\n",
       " 0,\n",
       " 0,\n",
       " 0,\n",
       " 0,\n",
       " 1,\n",
       " 0,\n",
       " 0,\n",
       " 0,\n",
       " 0,\n",
       " 0,\n",
       " 1,\n",
       " 0,\n",
       " 0,\n",
       " 0,\n",
       " 0,\n",
       " 1,\n",
       " 0,\n",
       " 0,\n",
       " 0,\n",
       " 0,\n",
       " 0,\n",
       " 1,\n",
       " 0,\n",
       " 0,\n",
       " 0,\n",
       " 0,\n",
       " 0,\n",
       " 1,\n",
       " 0,\n",
       " 0,\n",
       " 0,\n",
       " 0,\n",
       " 0,\n",
       " 1,\n",
       " 0,\n",
       " 0,\n",
       " 0,\n",
       " 0,\n",
       " 0,\n",
       " 0,\n",
       " 0,\n",
       " 0,\n",
       " 0,\n",
       " 0,\n",
       " 0,\n",
       " 1,\n",
       " 0,\n",
       " 0,\n",
       " 0,\n",
       " 0,\n",
       " 0,\n",
       " 0,\n",
       " 0,\n",
       " 0,\n",
       " 1,\n",
       " 0,\n",
       " 0,\n",
       " 0,\n",
       " 0,\n",
       " 1,\n",
       " 0,\n",
       " 0,\n",
       " 1,\n",
       " 0,\n",
       " 0,\n",
       " 0,\n",
       " 0,\n",
       " 0,\n",
       " 0,\n",
       " 0,\n",
       " 0,\n",
       " 0,\n",
       " 0,\n",
       " 0,\n",
       " 1,\n",
       " 0,\n",
       " 0,\n",
       " 0,\n",
       " 0,\n",
       " 1,\n",
       " 0,\n",
       " 0,\n",
       " 0,\n",
       " 1,\n",
       " 0,\n",
       " 1,\n",
       " 0,\n",
       " 0,\n",
       " 0,\n",
       " 0,\n",
       " 1,\n",
       " 0,\n",
       " 1,\n",
       " 0,\n",
       " 0,\n",
       " 0,\n",
       " 0,\n",
       " 0,\n",
       " 0,\n",
       " 0,\n",
       " 0,\n",
       " 1,\n",
       " 0,\n",
       " 1,\n",
       " 0,\n",
       " 0,\n",
       " 0,\n",
       " 0,\n",
       " 0,\n",
       " 0,\n",
       " 0,\n",
       " 0,\n",
       " 0,\n",
       " 0,\n",
       " 0,\n",
       " 0,\n",
       " 1,\n",
       " 0,\n",
       " 0,\n",
       " 0,\n",
       " 0,\n",
       " 0,\n",
       " 0,\n",
       " 1,\n",
       " 0,\n",
       " 0,\n",
       " 0,\n",
       " 0,\n",
       " 0,\n",
       " 1,\n",
       " 1,\n",
       " 0,\n",
       " 1,\n",
       " 0,\n",
       " 0,\n",
       " 0,\n",
       " 0,\n",
       " 0,\n",
       " 1,\n",
       " 0,\n",
       " 0,\n",
       " 0,\n",
       " 0,\n",
       " 1,\n",
       " 0,\n",
       " 0,\n",
       " 1,\n",
       " 0,\n",
       " 0,\n",
       " 0,\n",
       " 0,\n",
       " 0,\n",
       " 0,\n",
       " 1,\n",
       " 0,\n",
       " 0,\n",
       " 0,\n",
       " 0,\n",
       " 0,\n",
       " 0,\n",
       " 0,\n",
       " 0,\n",
       " 0,\n",
       " 0,\n",
       " 0,\n",
       " 0,\n",
       " 0,\n",
       " 0,\n",
       " 0,\n",
       " 0,\n",
       " 0,\n",
       " 0,\n",
       " 1,\n",
       " 0,\n",
       " 0,\n",
       " 0,\n",
       " 0,\n",
       " 0,\n",
       " 0,\n",
       " 0,\n",
       " 0,\n",
       " 1,\n",
       " 0,\n",
       " 0,\n",
       " 1,\n",
       " 1,\n",
       " 0,\n",
       " 0,\n",
       " 0,\n",
       " 0,\n",
       " 0,\n",
       " 0,\n",
       " 1,\n",
       " 0,\n",
       " 0,\n",
       " 0,\n",
       " 0,\n",
       " 0,\n",
       " 0,\n",
       " 0,\n",
       " 0,\n",
       " 1,\n",
       " 0,\n",
       " 0,\n",
       " 0,\n",
       " 0,\n",
       " 0,\n",
       " 1,\n",
       " 0,\n",
       " 0,\n",
       " 0,\n",
       " 0,\n",
       " 0,\n",
       " 0,\n",
       " 0,\n",
       " 0,\n",
       " 0,\n",
       " 1,\n",
       " 0,\n",
       " 0,\n",
       " 0,\n",
       " 0,\n",
       " 0,\n",
       " 0,\n",
       " 0,\n",
       " 0,\n",
       " 0,\n",
       " 1,\n",
       " 1,\n",
       " 0,\n",
       " 1,\n",
       " 0,\n",
       " 0,\n",
       " 0,\n",
       " 0,\n",
       " 0,\n",
       " 1,\n",
       " 1,\n",
       " 0,\n",
       " 0,\n",
       " 0,\n",
       " 0,\n",
       " 0,\n",
       " 1,\n",
       " 1,\n",
       " 0,\n",
       " 0,\n",
       " 0,\n",
       " 0,\n",
       " 0,\n",
       " 1,\n",
       " 0,\n",
       " 1,\n",
       " 0,\n",
       " 0,\n",
       " 1,\n",
       " 0,\n",
       " 1,\n",
       " 0,\n",
       " 0,\n",
       " 0,\n",
       " 1,\n",
       " 1,\n",
       " 1,\n",
       " 0,\n",
       " 0,\n",
       " 0,\n",
       " 1,\n",
       " 0,\n",
       " 1,\n",
       " 0,\n",
       " 0,\n",
       " 1,\n",
       " 0,\n",
       " 0,\n",
       " 0,\n",
       " 0,\n",
       " 1,\n",
       " 1,\n",
       " 0,\n",
       " 0,\n",
       " 0,\n",
       " 1,\n",
       " 0,\n",
       " 0,\n",
       " 0,\n",
       " 0,\n",
       " 0,\n",
       " 0,\n",
       " 0,\n",
       " 0,\n",
       " 1,\n",
       " 0,\n",
       " 0,\n",
       " 0,\n",
       " 1,\n",
       " 0,\n",
       " 0,\n",
       " 0,\n",
       " 0,\n",
       " 0,\n",
       " 0,\n",
       " 0,\n",
       " 0,\n",
       " 0,\n",
       " 0,\n",
       " 0,\n",
       " 0,\n",
       " 0,\n",
       " 0,\n",
       " 0,\n",
       " 0,\n",
       " 1,\n",
       " 0,\n",
       " 0,\n",
       " 0,\n",
       " 1,\n",
       " 1,\n",
       " 1,\n",
       " 0,\n",
       " 0,\n",
       " 0,\n",
       " 0,\n",
       " 0,\n",
       " 0,\n",
       " 0,\n",
       " 0,\n",
       " 0,\n",
       " 0,\n",
       " 0,\n",
       " 0,\n",
       " 0,\n",
       " 0,\n",
       " 1,\n",
       " 0,\n",
       " 0,\n",
       " 0,\n",
       " 0,\n",
       " 0,\n",
       " 0,\n",
       " 0,\n",
       " 1,\n",
       " 0,\n",
       " 0,\n",
       " 1,\n",
       " 1,\n",
       " 1,\n",
       " 1,\n",
       " 0,\n",
       " 0,\n",
       " 1,\n",
       " 0,\n",
       " 0,\n",
       " 0,\n",
       " 0,\n",
       " 0,\n",
       " 0,\n",
       " 1,\n",
       " 0,\n",
       " 1,\n",
       " 0,\n",
       " 0,\n",
       " 0,\n",
       " 0,\n",
       " 0,\n",
       " 0,\n",
       " 0,\n",
       " 0,\n",
       " 0,\n",
       " 0,\n",
       " 0,\n",
       " 0,\n",
       " 0,\n",
       " 0,\n",
       " 0,\n",
       " 0,\n",
       " 0,\n",
       " 1,\n",
       " 0,\n",
       " 0,\n",
       " 0,\n",
       " 0,\n",
       " 0,\n",
       " 0,\n",
       " 1,\n",
       " 0,\n",
       " 1,\n",
       " 0,\n",
       " 1,\n",
       " 0,\n",
       " 1,\n",
       " 0,\n",
       " 0,\n",
       " 1,\n",
       " 0,\n",
       " 0,\n",
       " 0,\n",
       " 0,\n",
       " 0,\n",
       " 0,\n",
       " 0,\n",
       " 0,\n",
       " 1,\n",
       " 1,\n",
       " 0,\n",
       " 0,\n",
       " 1,\n",
       " 0,\n",
       " 0,\n",
       " 0,\n",
       " 1,\n",
       " 0,\n",
       " 1,\n",
       " 0,\n",
       " 0,\n",
       " 1,\n",
       " 0,\n",
       " 0,\n",
       " 0,\n",
       " 0,\n",
       " 0,\n",
       " 0,\n",
       " 0,\n",
       " 0,\n",
       " 1,\n",
       " 1,\n",
       " 1,\n",
       " 0,\n",
       " 0,\n",
       " 0,\n",
       " 0,\n",
       " 0,\n",
       " 1,\n",
       " 0,\n",
       " 1,\n",
       " 1,\n",
       " 0,\n",
       " 0,\n",
       " 0,\n",
       " 0,\n",
       " 0,\n",
       " 0,\n",
       " 0,\n",
       " 0,\n",
       " 0,\n",
       " 0,\n",
       " 0,\n",
       " 0,\n",
       " 0,\n",
       " 0,\n",
       " 1,\n",
       " 0,\n",
       " 0,\n",
       " 0,\n",
       " 1,\n",
       " 0,\n",
       " 0,\n",
       " 0,\n",
       " 0,\n",
       " 0,\n",
       " 0,\n",
       " 0,\n",
       " 0,\n",
       " 0,\n",
       " 0,\n",
       " 0,\n",
       " 0,\n",
       " 0,\n",
       " 0,\n",
       " 0,\n",
       " 0,\n",
       " 0,\n",
       " 0,\n",
       " 1,\n",
       " 0,\n",
       " 0,\n",
       " ...]"
      ]
     },
     "execution_count": 448,
     "metadata": {},
     "output_type": "execute_result"
    }
   ],
   "source": [
    "final_preds"
   ]
  },
  {
   "cell_type": "code",
   "execution_count": 449,
   "metadata": {},
   "outputs": [],
   "source": [
    "from sklearn.metrics import classification_report"
   ]
  },
  {
   "cell_type": "code",
   "execution_count": 451,
   "metadata": {},
   "outputs": [
    {
     "name": "stdout",
     "output_type": "stream",
     "text": [
      "              precision    recall  f1-score   support\n",
      "\n",
      "           0       0.84      0.91      0.88      7436\n",
      "           1       0.62      0.44      0.52      2333\n",
      "\n",
      "    accuracy                           0.80      9769\n",
      "   macro avg       0.73      0.68      0.70      9769\n",
      "weighted avg       0.79      0.80      0.79      9769\n",
      "\n"
     ]
    }
   ],
   "source": [
    "print(classification_report(y_test,final_preds))"
   ]
  },
  {
   "cell_type": "code",
   "execution_count": null,
   "metadata": {},
   "outputs": [],
   "source": []
  }
 ],
 "metadata": {
  "kernelspec": {
   "display_name": "Python 3",
   "language": "python",
   "name": "python3"
  },
  "language_info": {
   "codemirror_mode": {
    "name": "ipython",
    "version": 3
   },
   "file_extension": ".py",
   "mimetype": "text/x-python",
   "name": "python",
   "nbconvert_exporter": "python",
   "pygments_lexer": "ipython3",
   "version": "3.7.7"
  }
 },
 "nbformat": 4,
 "nbformat_minor": 4
}
